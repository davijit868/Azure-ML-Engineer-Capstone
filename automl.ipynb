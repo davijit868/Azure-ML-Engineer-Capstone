{
 "cells": [
  {
   "cell_type": "markdown",
   "metadata": {},
   "source": [
    "# Automated ML\n",
    "\n",
    "TODO: Import Dependencies. In the cell below, import all the dependencies that you will need to complete the project."
   ]
  },
  {
   "cell_type": "code",
   "execution_count": 1,
   "metadata": {
    "gather": {
     "logged": 1610797789348
    },
    "jupyter": {
     "outputs_hidden": false,
     "source_hidden": false
    },
    "nteract": {
     "transient": {
      "deleting": false
     }
    }
   },
   "outputs": [],
   "source": [
    "import sklearn\n",
    "\n",
    "from azureml.core import Dataset, Environment, Experiment, Workspace\n",
    "from azureml.core.conda_dependencies import CondaDependencies\n",
    "from azureml.core.model import InferenceConfig\n",
    "from azureml.core.webservice import AciWebservice\n",
    "from azureml.train.automl import AutoMLConfig\n",
    "from azureml.widgets import RunDetails"
   ]
  },
  {
   "cell_type": "markdown",
   "metadata": {},
   "source": [
    "## Dataset\n",
    "\n",
    "### Overview\n",
    "TODO: In this markdown cell, give an overview of the dataset you are using. Also mention the task you will be performing.\n",
    "\n",
    "\n",
    "TODO: Get data. In the cell below, write code to access the data you will be using in this project. Remember that the dataset needs to be external."
   ]
  },
  {
   "cell_type": "code",
   "execution_count": 2,
   "metadata": {
    "gather": {
     "logged": 1610797855835
    },
    "jupyter": {
     "outputs_hidden": false,
     "source_hidden": false
    },
    "nteract": {
     "transient": {
      "deleting": false
     }
    }
   },
   "outputs": [
    {
     "name": "stdout",
     "output_type": "stream",
     "text": [
      "Performing interactive authentication. Please follow the instructions on the terminal.\n",
      "To sign in, use a web browser to open the page https://microsoft.com/devicelogin and enter the code EM7AYKGVM to authenticate.\n",
      "You have logged in. Now let us find all the subscriptions to which you have access...\n",
      "Interactive authentication successfully completed.\n"
     ]
    }
   ],
   "source": [
    "ws = Workspace.from_config()\n",
    "\n",
    "# choose a name for experiment\n",
    "experiment_name = 'automl-experiment'\n",
    "\n",
    "experiment=Experiment(ws, experiment_name)"
   ]
  },
  {
   "cell_type": "code",
   "execution_count": 3,
   "metadata": {
    "gather": {
     "logged": 1610797882225
    },
    "jupyter": {
     "outputs_hidden": false,
     "source_hidden": false
    },
    "nteract": {
     "transient": {
      "deleting": false
     }
    }
   },
   "outputs": [
    {
     "data": {
      "text/html": [
       "<div>\n",
       "<style scoped>\n",
       "    .dataframe tbody tr th:only-of-type {\n",
       "        vertical-align: middle;\n",
       "    }\n",
       "\n",
       "    .dataframe tbody tr th {\n",
       "        vertical-align: top;\n",
       "    }\n",
       "\n",
       "    .dataframe thead th {\n",
       "        text-align: right;\n",
       "    }\n",
       "</style>\n",
       "<table border=\"1\" class=\"dataframe\">\n",
       "  <thead>\n",
       "    <tr style=\"text-align: right;\">\n",
       "      <th></th>\n",
       "      <th>age</th>\n",
       "      <th>anaemia</th>\n",
       "      <th>creatinine_phosphokinase</th>\n",
       "      <th>diabetes</th>\n",
       "      <th>ejection_fraction</th>\n",
       "      <th>high_blood_pressure</th>\n",
       "      <th>platelets</th>\n",
       "      <th>serum_creatinine</th>\n",
       "      <th>serum_sodium</th>\n",
       "      <th>sex</th>\n",
       "      <th>smoking</th>\n",
       "      <th>time</th>\n",
       "      <th>DEATH_EVENT</th>\n",
       "    </tr>\n",
       "  </thead>\n",
       "  <tbody>\n",
       "    <tr>\n",
       "      <th>0</th>\n",
       "      <td>75.0</td>\n",
       "      <td>0</td>\n",
       "      <td>582</td>\n",
       "      <td>0</td>\n",
       "      <td>20</td>\n",
       "      <td>1</td>\n",
       "      <td>265000.00</td>\n",
       "      <td>1.9</td>\n",
       "      <td>130</td>\n",
       "      <td>1</td>\n",
       "      <td>0</td>\n",
       "      <td>4</td>\n",
       "      <td>1</td>\n",
       "    </tr>\n",
       "    <tr>\n",
       "      <th>1</th>\n",
       "      <td>55.0</td>\n",
       "      <td>0</td>\n",
       "      <td>7861</td>\n",
       "      <td>0</td>\n",
       "      <td>38</td>\n",
       "      <td>0</td>\n",
       "      <td>263358.03</td>\n",
       "      <td>1.1</td>\n",
       "      <td>136</td>\n",
       "      <td>1</td>\n",
       "      <td>0</td>\n",
       "      <td>6</td>\n",
       "      <td>1</td>\n",
       "    </tr>\n",
       "    <tr>\n",
       "      <th>2</th>\n",
       "      <td>65.0</td>\n",
       "      <td>0</td>\n",
       "      <td>146</td>\n",
       "      <td>0</td>\n",
       "      <td>20</td>\n",
       "      <td>0</td>\n",
       "      <td>162000.00</td>\n",
       "      <td>1.3</td>\n",
       "      <td>129</td>\n",
       "      <td>1</td>\n",
       "      <td>1</td>\n",
       "      <td>7</td>\n",
       "      <td>1</td>\n",
       "    </tr>\n",
       "  </tbody>\n",
       "</table>\n",
       "</div>"
      ],
      "text/plain": [
       "    age  anaemia  creatinine_phosphokinase  diabetes  ejection_fraction  \\\n",
       "0  75.0        0                       582         0                 20   \n",
       "1  55.0        0                      7861         0                 38   \n",
       "2  65.0        0                       146         0                 20   \n",
       "\n",
       "   high_blood_pressure  platelets  serum_creatinine  serum_sodium  sex  \\\n",
       "0                    1  265000.00               1.9           130    1   \n",
       "1                    0  263358.03               1.1           136    1   \n",
       "2                    0  162000.00               1.3           129    1   \n",
       "\n",
       "   smoking  time  DEATH_EVENT  \n",
       "0        0     4            1  \n",
       "1        0     6            1  \n",
       "2        1     7            1  "
      ]
     },
     "execution_count": 3,
     "metadata": {},
     "output_type": "execute_result"
    }
   ],
   "source": [
    "# create a TabularDataset from a dataset\n",
    "\n",
    "dataset = Dataset.get_by_name(ws, name='heart-failure')\n",
    "heart_failure = dataset.to_pandas_dataframe()\n",
    "\n",
    "# preview the first 3 rows of the dataset\n",
    "heart_failure.head(3)"
   ]
  },
  {
   "cell_type": "markdown",
   "metadata": {},
   "source": [
    "## AutoML Configuration\n",
    "\n",
    "TODO: Explain why you chose the automl settings and cofiguration you used below."
   ]
  },
  {
   "cell_type": "code",
   "execution_count": 5,
   "metadata": {
    "gather": {
     "logged": 1610797928426
    },
    "jupyter": {
     "outputs_hidden": false,
     "source_hidden": false
    },
    "nteract": {
     "transient": {
      "deleting": false
     }
    }
   },
   "outputs": [],
   "source": [
    "automl_settings = {\n",
    "    \"task\": 'classification',\n",
    "    \"iterations\": 30,\n",
    "    \"experiment_timeout_minutes\": 15,\n",
    "    \"primary_metric\": 'accuracy',\n",
    "    \"training_data\": dataset,\n",
    "    \"label_column_name\": 'DEATH_EVENT',\n",
    "    \"n_cross_validations\": 5,\n",
    "    \"max_concurrent_iterations\": 8,\n",
    "    \"max_cores_per_iteration\": -1\n",
    "}\n",
    "\n",
    "# TODO: Put your automl config here\n",
    "automl_config = AutoMLConfig(**automl_settings)"
   ]
  },
  {
   "cell_type": "markdown",
   "metadata": {},
   "source": [
    "## Run Details\n",
    "\n",
    "OPTIONAL: Write about the different models trained and their performance. Why do you think some models did better than others?\n",
    "\n",
    "TODO: In the cell below, use the `RunDetails` widget to show the different experiments."
   ]
  },
  {
   "cell_type": "code",
   "execution_count": 6,
   "metadata": {
    "gather": {
     "logged": 1610798995983
    },
    "jupyter": {
     "outputs_hidden": false,
     "source_hidden": false
    },
    "nteract": {
     "transient": {
      "deleting": false
     }
    }
   },
   "outputs": [
    {
     "name": "stderr",
     "output_type": "stream",
     "text": [
      "WARNING:root:Running on local machine. Note that local runs always run synchronously even if you use the parameter 'show_output=False'\n"
     ]
    },
    {
     "data": {
      "application/vnd.jupyter.widget-view+json": {
       "model_id": "9cff2c009c454f90a35bc2b12fb14a57",
       "version_major": 2,
       "version_minor": 0
      },
      "text/plain": [
       "_AutoMLWidget(widget_settings={'childWidgetDisplay': 'popup', 'send_telemetry': False, 'log_level': 'INFO', 's…"
      ]
     },
     "metadata": {},
     "output_type": "display_data"
    },
    {
     "data": {
      "application/aml.mini.widget.v1": "{\"status\": \"Completed\", \"workbench_run_details_uri\": \"https://ml.azure.com/experiments/automl-experiment/runs/AutoML_1e327d58-eca5-409e-ba9f-7f450d376a58?wsid=/subscriptions/81cefad3-d2c9-4f77-a466-99a7f541c7bb/resourcegroups/aml-quickstarts-134863/workspaces/quick-starts-ws-134863\", \"run_id\": \"AutoML_1e327d58-eca5-409e-ba9f-7f450d376a58\", \"run_properties\": {\"run_id\": \"AutoML_1e327d58-eca5-409e-ba9f-7f450d376a58\", \"created_utc\": \"2021-01-16T11:53:24.384022Z\", \"properties\": {\"num_iterations\": \"30\", \"training_type\": \"TrainFull\", \"acquisition_function\": \"EI\", \"primary_metric\": \"accuracy\", \"train_split\": \"0\", \"acquisition_parameter\": \"0\", \"num_cross_validation\": \"5\", \"target\": \"local\", \"AMLSettingsJsonString\": \"{\\\"path\\\":null,\\\"name\\\":\\\"automl-experiment\\\",\\\"subscription_id\\\":\\\"81cefad3-d2c9-4f77-a466-99a7f541c7bb\\\",\\\"resource_group\\\":\\\"aml-quickstarts-134863\\\",\\\"workspace_name\\\":\\\"quick-starts-ws-134863\\\",\\\"region\\\":\\\"southcentralus\\\",\\\"compute_target\\\":\\\"local\\\",\\\"spark_service\\\":null,\\\"azure_service\\\":\\\"Microsoft.AzureNotebookVM\\\",\\\"many_models\\\":false,\\\"pipeline_fetch_max_batch_size\\\":1,\\\"iterations\\\":30,\\\"primary_metric\\\":\\\"accuracy\\\",\\\"task_type\\\":\\\"classification\\\",\\\"data_script\\\":null,\\\"validation_size\\\":0.0,\\\"n_cross_validations\\\":5,\\\"y_min\\\":null,\\\"y_max\\\":null,\\\"num_classes\\\":2,\\\"featurization\\\":\\\"auto\\\",\\\"_ignore_package_version_incompatibilities\\\":false,\\\"is_timeseries\\\":false,\\\"max_cores_per_iteration\\\":-1,\\\"max_concurrent_iterations\\\":8,\\\"iteration_timeout_minutes\\\":null,\\\"mem_in_mb\\\":null,\\\"enforce_time_on_windows\\\":false,\\\"experiment_timeout_minutes\\\":15,\\\"experiment_exit_score\\\":null,\\\"whitelist_models\\\":null,\\\"blacklist_algos\\\":[\\\"TensorFlowLinearClassifier\\\",\\\"TensorFlowDNN\\\"],\\\"supported_models\\\":[\\\"LogisticRegression\\\",\\\"XGBoostClassifier\\\",\\\"KNN\\\",\\\"SVM\\\",\\\"RandomForest\\\",\\\"DecisionTree\\\",\\\"AveragedPerceptronClassifier\\\",\\\"GradientBoosting\\\",\\\"ExtremeRandomTrees\\\",\\\"SGD\\\",\\\"TensorFlowDNN\\\",\\\"MultinomialNaiveBayes\\\",\\\"BernoulliNaiveBayes\\\",\\\"TensorFlowLinearClassifier\\\",\\\"LightGBM\\\",\\\"LinearSVM\\\"],\\\"auto_blacklist\\\":true,\\\"blacklist_samples_reached\\\":false,\\\"exclude_nan_labels\\\":true,\\\"verbosity\\\":20,\\\"_debug_log\\\":\\\"automl.log\\\",\\\"show_warnings\\\":false,\\\"model_explainability\\\":true,\\\"service_url\\\":null,\\\"sdk_url\\\":null,\\\"sdk_packages\\\":null,\\\"enable_onnx_compatible_models\\\":false,\\\"enable_split_onnx_featurizer_estimator_models\\\":false,\\\"vm_type\\\":null,\\\"telemetry_verbosity\\\":20,\\\"send_telemetry\\\":true,\\\"enable_dnn\\\":false,\\\"scenario\\\":\\\"SDK-1.13.0\\\",\\\"environment_label\\\":null,\\\"force_text_dnn\\\":false,\\\"enable_feature_sweeping\\\":true,\\\"enable_early_stopping\\\":false,\\\"early_stopping_n_iters\\\":10,\\\"metrics\\\":null,\\\"enable_ensembling\\\":true,\\\"enable_stack_ensembling\\\":true,\\\"ensemble_iterations\\\":15,\\\"enable_tf\\\":false,\\\"enable_subsampling\\\":false,\\\"subsample_seed\\\":null,\\\"enable_nimbusml\\\":false,\\\"enable_streaming\\\":false,\\\"force_streaming\\\":false,\\\"track_child_runs\\\":true,\\\"allowed_private_models\\\":[],\\\"label_column_name\\\":\\\"DEATH_EVENT\\\",\\\"weight_column_name\\\":null,\\\"cv_split_column_names\\\":null,\\\"enable_local_managed\\\":false,\\\"_local_managed_run_id\\\":null,\\\"cost_mode\\\":1,\\\"lag_length\\\":0,\\\"metric_operation\\\":\\\"maximize\\\",\\\"preprocess\\\":true}\", \"DataPrepJsonString\": \"{\\\\\\\"training_data\\\\\\\": \\\\\\\"{\\\\\\\\\\\\\\\"blocks\\\\\\\\\\\\\\\": [{\\\\\\\\\\\\\\\"id\\\\\\\\\\\\\\\": \\\\\\\\\\\\\\\"567773a8-dca7-4864-bc75-70b53833bf4e\\\\\\\\\\\\\\\", \\\\\\\\\\\\\\\"type\\\\\\\\\\\\\\\": \\\\\\\\\\\\\\\"Microsoft.DPrep.GetDatastoreFilesBlock\\\\\\\\\\\\\\\", \\\\\\\\\\\\\\\"arguments\\\\\\\\\\\\\\\": {\\\\\\\\\\\\\\\"datastores\\\\\\\\\\\\\\\": [{\\\\\\\\\\\\\\\"datastoreName\\\\\\\\\\\\\\\": \\\\\\\\\\\\\\\"workspaceblobstore\\\\\\\\\\\\\\\", \\\\\\\\\\\\\\\"path\\\\\\\\\\\\\\\": \\\\\\\\\\\\\\\"UI/01-16-2021_113335_UTC/heart_failure_clinical_records_dataset.csv\\\\\\\\\\\\\\\", \\\\\\\\\\\\\\\"resourceGroup\\\\\\\\\\\\\\\": \\\\\\\\\\\\\\\"aml-quickstarts-134863\\\\\\\\\\\\\\\", \\\\\\\\\\\\\\\"subscription\\\\\\\\\\\\\\\": \\\\\\\\\\\\\\\"81cefad3-d2c9-4f77-a466-99a7f541c7bb\\\\\\\\\\\\\\\", \\\\\\\\\\\\\\\"workspaceName\\\\\\\\\\\\\\\": \\\\\\\\\\\\\\\"quick-starts-ws-134863\\\\\\\\\\\\\\\"}]}, \\\\\\\\\\\\\\\"localData\\\\\\\\\\\\\\\": {}, \\\\\\\\\\\\\\\"isEnabled\\\\\\\\\\\\\\\": true, \\\\\\\\\\\\\\\"name\\\\\\\\\\\\\\\": null, \\\\\\\\\\\\\\\"annotation\\\\\\\\\\\\\\\": null}, {\\\\\\\\\\\\\\\"id\\\\\\\\\\\\\\\": \\\\\\\\\\\\\\\"433e4fad-6127-465d-b687-c5bffea12c27\\\\\\\\\\\\\\\", \\\\\\\\\\\\\\\"type\\\\\\\\\\\\\\\": \\\\\\\\\\\\\\\"Microsoft.DPrep.ParseDelimitedBlock\\\\\\\\\\\\\\\", \\\\\\\\\\\\\\\"arguments\\\\\\\\\\\\\\\": {\\\\\\\\\\\\\\\"columnHeadersMode\\\\\\\\\\\\\\\": 3, \\\\\\\\\\\\\\\"fileEncoding\\\\\\\\\\\\\\\": 0, \\\\\\\\\\\\\\\"handleQuotedLineBreaks\\\\\\\\\\\\\\\": false, \\\\\\\\\\\\\\\"preview\\\\\\\\\\\\\\\": false, \\\\\\\\\\\\\\\"separator\\\\\\\\\\\\\\\": \\\\\\\\\\\\\\\",\\\\\\\\\\\\\\\", \\\\\\\\\\\\\\\"skipRows\\\\\\\\\\\\\\\": 0, \\\\\\\\\\\\\\\"skipRowsMode\\\\\\\\\\\\\\\": 0}, \\\\\\\\\\\\\\\"localData\\\\\\\\\\\\\\\": {}, \\\\\\\\\\\\\\\"isEnabled\\\\\\\\\\\\\\\": true, \\\\\\\\\\\\\\\"name\\\\\\\\\\\\\\\": null, \\\\\\\\\\\\\\\"annotation\\\\\\\\\\\\\\\": null}, {\\\\\\\\\\\\\\\"id\\\\\\\\\\\\\\\": \\\\\\\\\\\\\\\"7fbf3f48-7198-4e1c-a357-126baae63925\\\\\\\\\\\\\\\", \\\\\\\\\\\\\\\"type\\\\\\\\\\\\\\\": \\\\\\\\\\\\\\\"Microsoft.DPrep.DropColumnsBlock\\\\\\\\\\\\\\\", \\\\\\\\\\\\\\\"arguments\\\\\\\\\\\\\\\": {\\\\\\\\\\\\\\\"columns\\\\\\\\\\\\\\\": {\\\\\\\\\\\\\\\"type\\\\\\\\\\\\\\\": 0, \\\\\\\\\\\\\\\"details\\\\\\\\\\\\\\\": {\\\\\\\\\\\\\\\"selectedColumns\\\\\\\\\\\\\\\": [\\\\\\\\\\\\\\\"Path\\\\\\\\\\\\\\\"]}}}, \\\\\\\\\\\\\\\"localData\\\\\\\\\\\\\\\": {}, \\\\\\\\\\\\\\\"isEnabled\\\\\\\\\\\\\\\": true, \\\\\\\\\\\\\\\"name\\\\\\\\\\\\\\\": null, \\\\\\\\\\\\\\\"annotation\\\\\\\\\\\\\\\": null}, {\\\\\\\\\\\\\\\"id\\\\\\\\\\\\\\\": \\\\\\\\\\\\\\\"1651cce2-b609-4b10-8021-13c2e03265a8\\\\\\\\\\\\\\\", \\\\\\\\\\\\\\\"type\\\\\\\\\\\\\\\": \\\\\\\\\\\\\\\"Microsoft.DPrep.SetColumnTypesBlock\\\\\\\\\\\\\\\", \\\\\\\\\\\\\\\"arguments\\\\\\\\\\\\\\\": {\\\\\\\\\\\\\\\"columnConversion\\\\\\\\\\\\\\\": [{\\\\\\\\\\\\\\\"column\\\\\\\\\\\\\\\": {\\\\\\\\\\\\\\\"type\\\\\\\\\\\\\\\": 2, \\\\\\\\\\\\\\\"details\\\\\\\\\\\\\\\": {\\\\\\\\\\\\\\\"selectedColumn\\\\\\\\\\\\\\\": \\\\\\\\\\\\\\\"Path\\\\\\\\\\\\\\\"}}, \\\\\\\\\\\\\\\"typeProperty\\\\\\\\\\\\\\\": 0}, {\\\\\\\\\\\\\\\"column\\\\\\\\\\\\\\\": {\\\\\\\\\\\\\\\"type\\\\\\\\\\\\\\\": 2, \\\\\\\\\\\\\\\"details\\\\\\\\\\\\\\\": {\\\\\\\\\\\\\\\"selectedColumn\\\\\\\\\\\\\\\": \\\\\\\\\\\\\\\"age\\\\\\\\\\\\\\\"}}, \\\\\\\\\\\\\\\"typeProperty\\\\\\\\\\\\\\\": 3}, {\\\\\\\\\\\\\\\"column\\\\\\\\\\\\\\\": {\\\\\\\\\\\\\\\"type\\\\\\\\\\\\\\\": 2, \\\\\\\\\\\\\\\"details\\\\\\\\\\\\\\\": {\\\\\\\\\\\\\\\"selectedColumn\\\\\\\\\\\\\\\": \\\\\\\\\\\\\\\"anaemia\\\\\\\\\\\\\\\"}}, \\\\\\\\\\\\\\\"typeProperty\\\\\\\\\\\\\\\": 2}, {\\\\\\\\\\\\\\\"column\\\\\\\\\\\\\\\": {\\\\\\\\\\\\\\\"type\\\\\\\\\\\\\\\": 2, \\\\\\\\\\\\\\\"details\\\\\\\\\\\\\\\": {\\\\\\\\\\\\\\\"selectedColumn\\\\\\\\\\\\\\\": \\\\\\\\\\\\\\\"creatinine_phosphokinase\\\\\\\\\\\\\\\"}}, \\\\\\\\\\\\\\\"typeProperty\\\\\\\\\\\\\\\": 2}, {\\\\\\\\\\\\\\\"column\\\\\\\\\\\\\\\": {\\\\\\\\\\\\\\\"type\\\\\\\\\\\\\\\": 2, \\\\\\\\\\\\\\\"details\\\\\\\\\\\\\\\": {\\\\\\\\\\\\\\\"selectedColumn\\\\\\\\\\\\\\\": \\\\\\\\\\\\\\\"diabetes\\\\\\\\\\\\\\\"}}, \\\\\\\\\\\\\\\"typeProperty\\\\\\\\\\\\\\\": 2}, {\\\\\\\\\\\\\\\"column\\\\\\\\\\\\\\\": {\\\\\\\\\\\\\\\"type\\\\\\\\\\\\\\\": 2, \\\\\\\\\\\\\\\"details\\\\\\\\\\\\\\\": {\\\\\\\\\\\\\\\"selectedColumn\\\\\\\\\\\\\\\": \\\\\\\\\\\\\\\"ejection_fraction\\\\\\\\\\\\\\\"}}, \\\\\\\\\\\\\\\"typeProperty\\\\\\\\\\\\\\\": 2}, {\\\\\\\\\\\\\\\"column\\\\\\\\\\\\\\\": {\\\\\\\\\\\\\\\"type\\\\\\\\\\\\\\\": 2, \\\\\\\\\\\\\\\"details\\\\\\\\\\\\\\\": {\\\\\\\\\\\\\\\"selectedColumn\\\\\\\\\\\\\\\": \\\\\\\\\\\\\\\"high_blood_pressure\\\\\\\\\\\\\\\"}}, \\\\\\\\\\\\\\\"typeProperty\\\\\\\\\\\\\\\": 2}, {\\\\\\\\\\\\\\\"column\\\\\\\\\\\\\\\": {\\\\\\\\\\\\\\\"type\\\\\\\\\\\\\\\": 2, \\\\\\\\\\\\\\\"details\\\\\\\\\\\\\\\": {\\\\\\\\\\\\\\\"selectedColumn\\\\\\\\\\\\\\\": \\\\\\\\\\\\\\\"platelets\\\\\\\\\\\\\\\"}}, \\\\\\\\\\\\\\\"typeProperty\\\\\\\\\\\\\\\": 3}, {\\\\\\\\\\\\\\\"column\\\\\\\\\\\\\\\": {\\\\\\\\\\\\\\\"type\\\\\\\\\\\\\\\": 2, \\\\\\\\\\\\\\\"details\\\\\\\\\\\\\\\": {\\\\\\\\\\\\\\\"selectedColumn\\\\\\\\\\\\\\\": \\\\\\\\\\\\\\\"serum_creatinine\\\\\\\\\\\\\\\"}}, \\\\\\\\\\\\\\\"typeProperty\\\\\\\\\\\\\\\": 3}, {\\\\\\\\\\\\\\\"column\\\\\\\\\\\\\\\": {\\\\\\\\\\\\\\\"type\\\\\\\\\\\\\\\": 2, \\\\\\\\\\\\\\\"details\\\\\\\\\\\\\\\": {\\\\\\\\\\\\\\\"selectedColumn\\\\\\\\\\\\\\\": \\\\\\\\\\\\\\\"serum_sodium\\\\\\\\\\\\\\\"}}, \\\\\\\\\\\\\\\"typeProperty\\\\\\\\\\\\\\\": 2}, {\\\\\\\\\\\\\\\"column\\\\\\\\\\\\\\\": {\\\\\\\\\\\\\\\"type\\\\\\\\\\\\\\\": 2, \\\\\\\\\\\\\\\"details\\\\\\\\\\\\\\\": {\\\\\\\\\\\\\\\"selectedColumn\\\\\\\\\\\\\\\": \\\\\\\\\\\\\\\"sex\\\\\\\\\\\\\\\"}}, \\\\\\\\\\\\\\\"typeProperty\\\\\\\\\\\\\\\": 2}, {\\\\\\\\\\\\\\\"column\\\\\\\\\\\\\\\": {\\\\\\\\\\\\\\\"type\\\\\\\\\\\\\\\": 2, \\\\\\\\\\\\\\\"details\\\\\\\\\\\\\\\": {\\\\\\\\\\\\\\\"selectedColumn\\\\\\\\\\\\\\\": \\\\\\\\\\\\\\\"smoking\\\\\\\\\\\\\\\"}}, \\\\\\\\\\\\\\\"typeProperty\\\\\\\\\\\\\\\": 2}, {\\\\\\\\\\\\\\\"column\\\\\\\\\\\\\\\": {\\\\\\\\\\\\\\\"type\\\\\\\\\\\\\\\": 2, \\\\\\\\\\\\\\\"details\\\\\\\\\\\\\\\": {\\\\\\\\\\\\\\\"selectedColumn\\\\\\\\\\\\\\\": \\\\\\\\\\\\\\\"time\\\\\\\\\\\\\\\"}}, \\\\\\\\\\\\\\\"typeProperty\\\\\\\\\\\\\\\": 2}, {\\\\\\\\\\\\\\\"column\\\\\\\\\\\\\\\": {\\\\\\\\\\\\\\\"type\\\\\\\\\\\\\\\": 2, \\\\\\\\\\\\\\\"details\\\\\\\\\\\\\\\": {\\\\\\\\\\\\\\\"selectedColumn\\\\\\\\\\\\\\\": \\\\\\\\\\\\\\\"DEATH_EVENT\\\\\\\\\\\\\\\"}}, \\\\\\\\\\\\\\\"typeProperty\\\\\\\\\\\\\\\": 2}]}, \\\\\\\\\\\\\\\"localData\\\\\\\\\\\\\\\": {}, \\\\\\\\\\\\\\\"isEnabled\\\\\\\\\\\\\\\": true, \\\\\\\\\\\\\\\"name\\\\\\\\\\\\\\\": null, \\\\\\\\\\\\\\\"annotation\\\\\\\\\\\\\\\": null}], \\\\\\\\\\\\\\\"inspectors\\\\\\\\\\\\\\\": [], \\\\\\\\\\\\\\\"meta\\\\\\\\\\\\\\\": {\\\\\\\\\\\\\\\"savedDatasetId\\\\\\\\\\\\\\\": \\\\\\\\\\\\\\\"ea4041d2-5637-4ae0-b344-1fe79cab2b24\\\\\\\\\\\\\\\", \\\\\\\\\\\\\\\"datasetType\\\\\\\\\\\\\\\": \\\\\\\\\\\\\\\"tabular\\\\\\\\\\\\\\\", \\\\\\\\\\\\\\\"subscriptionId\\\\\\\\\\\\\\\": \\\\\\\\\\\\\\\"81cefad3-d2c9-4f77-a466-99a7f541c7bb\\\\\\\\\\\\\\\", \\\\\\\\\\\\\\\"workspaceId\\\\\\\\\\\\\\\": \\\\\\\\\\\\\\\"4e30e686-22ea-470d-8c47-4e6a9776007d\\\\\\\\\\\\\\\", \\\\\\\\\\\\\\\"workspaceLocation\\\\\\\\\\\\\\\": \\\\\\\\\\\\\\\"southcentralus\\\\\\\\\\\\\\\"}}\\\\\\\", \\\\\\\"activities\\\\\\\": 0}\", \"EnableSubsampling\": \"False\", \"runTemplate\": \"AutoML\", \"azureml.runsource\": \"automl\", \"display_task_type\": \"classification\", \"dependencies_versions\": \"{\\\"azureml-widgets\\\": \\\"1.19.0\\\", \\\"azureml-train\\\": \\\"1.19.0\\\", \\\"azureml-train-restclients-hyperdrive\\\": \\\"1.19.0\\\", \\\"azureml-train-core\\\": \\\"1.19.0\\\", \\\"azureml-train-automl\\\": \\\"1.19.0\\\", \\\"azureml-train-automl-runtime\\\": \\\"1.19.0\\\", \\\"azureml-train-automl-client\\\": \\\"1.19.0\\\", \\\"azureml-tensorboard\\\": \\\"1.19.0\\\", \\\"azureml-telemetry\\\": \\\"1.19.0\\\", \\\"azureml-sdk\\\": \\\"1.19.0\\\", \\\"azureml-samples\\\": \\\"0+unknown\\\", \\\"azureml-pipeline\\\": \\\"1.19.0\\\", \\\"azureml-pipeline-steps\\\": \\\"1.19.0\\\", \\\"azureml-pipeline-core\\\": \\\"1.19.0\\\", \\\"azureml-opendatasets\\\": \\\"1.19.0\\\", \\\"azureml-model-management-sdk\\\": \\\"1.0.1b6.post1\\\", \\\"azureml-mlflow\\\": \\\"1.19.0\\\", \\\"azureml-interpret\\\": \\\"1.19.0\\\", \\\"azureml-explain-model\\\": \\\"1.19.0\\\", \\\"azureml-defaults\\\": \\\"1.19.0\\\", \\\"azureml-dataset-runtime\\\": \\\"1.19.0.post1\\\", \\\"azureml-dataprep\\\": \\\"2.6.1\\\", \\\"azureml-dataprep-rslex\\\": \\\"1.4.0\\\", \\\"azureml-dataprep-native\\\": \\\"26.0.0\\\", \\\"azureml-datadrift\\\": \\\"1.19.0\\\", \\\"azureml-core\\\": \\\"1.19.0\\\", \\\"azureml-contrib-services\\\": \\\"1.19.0\\\", \\\"azureml-contrib-server\\\": \\\"1.19.0\\\", \\\"azureml-contrib-reinforcementlearning\\\": \\\"1.19.0\\\", \\\"azureml-contrib-pipeline-steps\\\": \\\"1.19.0\\\", \\\"azureml-contrib-notebook\\\": \\\"1.19.0\\\", \\\"azureml-contrib-interpret\\\": \\\"1.19.0\\\", \\\"azureml-contrib-gbdt\\\": \\\"1.19.0\\\", \\\"azureml-contrib-fairness\\\": \\\"1.19.0\\\", \\\"azureml-contrib-dataset\\\": \\\"1.19.0\\\", \\\"azureml-cli-common\\\": \\\"1.19.0\\\", \\\"azureml-automl-runtime\\\": \\\"1.19.0\\\", \\\"azureml-automl-core\\\": \\\"1.19.0\\\", \\\"azureml-accel-models\\\": \\\"1.19.0\\\"}\", \"_aml_system_scenario_identification\": \"Local.Parent\", \"ClientSdkVersion\": \"1.19.0\", \"ClientType\": \"SDK\", \"environment_cpu_name\": \"AzureML-AutoML\", \"environment_cpu_label\": \"prod\", \"environment_gpu_name\": \"AzureML-AutoML-GPU\", \"environment_gpu_label\": \"prod\", \"root_attribution\": \"automl\", \"attribution\": \"AutoML\", \"Orchestrator\": \"AutoML\", \"_azureml.ComputeTargetType\": \"local\", \"ProblemInfoJsonString\": \"{\\\"dataset_num_categorical\\\": 0, \\\"is_sparse\\\": false, \\\"subsampling\\\": false, \\\"dataset_classes\\\": 2, \\\"dataset_features\\\": 12, \\\"dataset_samples\\\": 299, \\\"single_frequency_class_detected\\\": false}\", \"feature_skus\": \"automatedml_sdk_guardrails\"}, \"tags\": {\"model_explain_run\": \"best_run\", \"best_score\": \"0.8696045197740112\", \"best_pipeline\": \"VotingEnsemble\", \"automl_best_child_run_id\": \"AutoML_1e327d58-eca5-409e-ba9f-7f450d376a58_28\", \"model_explain_best_run_child_id\": \"AutoML_1e327d58-eca5-409e-ba9f-7f450d376a58_28\"}, \"end_time_utc\": \"2021-01-16T12:09:00.779024Z\", \"status\": \"Completed\", \"log_files\": {}, \"log_groups\": [], \"run_duration\": \"0:15:36\"}, \"child_runs\": [{\"run_id\": \"AutoML_1e327d58-eca5-409e-ba9f-7f450d376a58_0\", \"run_number\": 2, \"metric\": null, \"status\": \"Completed\", \"run_type\": null, \"training_percent\": \"100\", \"start_time\": \"2021-01-16T11:53:40.996893Z\", \"end_time\": \"2021-01-16T11:54:13.015557Z\", \"created_time\": \"2021-01-16T11:53:40.884933Z\", \"created_time_dt\": \"2021-01-16T11:53:40.884933Z\", \"duration\": \"0:00:32\", \"iteration\": \"0\", \"goal\": \"accuracy_max\", \"run_name\": \"MaxAbsScaler, LightGBM\", \"run_properties\": \"copy=True\", \"primary_metric\": 0.8059887, \"best_metric\": 0.8059887}, {\"run_id\": \"AutoML_1e327d58-eca5-409e-ba9f-7f450d376a58_1\", \"run_number\": 3, \"metric\": null, \"status\": \"Completed\", \"run_type\": null, \"training_percent\": \"100\", \"start_time\": \"2021-01-16T11:54:13.337593Z\", \"end_time\": \"2021-01-16T11:54:37.863528Z\", \"created_time\": \"2021-01-16T11:54:13.225898Z\", \"created_time_dt\": \"2021-01-16T11:54:13.225898Z\", \"duration\": \"0:00:24\", \"iteration\": \"1\", \"goal\": \"accuracy_max\", \"run_name\": \"MaxAbsScaler, XGBoostClassifier\", \"run_properties\": \"copy=True\", \"primary_metric\": 0.8259322, \"best_metric\": 0.8259322}, {\"run_id\": \"AutoML_1e327d58-eca5-409e-ba9f-7f450d376a58_2\", \"run_number\": 4, \"metric\": null, \"status\": \"Completed\", \"run_type\": null, \"training_percent\": \"100\", \"start_time\": \"2021-01-16T11:54:38.544632Z\", \"end_time\": \"2021-01-16T11:55:04.040416Z\", \"created_time\": \"2021-01-16T11:54:38.395753Z\", \"created_time_dt\": \"2021-01-16T11:54:38.395753Z\", \"duration\": \"0:00:25\", \"iteration\": \"2\", \"goal\": \"accuracy_max\", \"run_name\": \"MinMaxScaler, RandomForest\", \"run_properties\": \"copy=True, feature_range=(0, 1\", \"primary_metric\": 0.84937853, \"best_metric\": 0.84937853}, {\"run_id\": \"AutoML_1e327d58-eca5-409e-ba9f-7f450d376a58_3\", \"run_number\": 5, \"metric\": null, \"status\": \"Completed\", \"run_type\": null, \"training_percent\": \"100\", \"start_time\": \"2021-01-16T11:55:05.438722Z\", \"end_time\": \"2021-01-16T11:55:36.646132Z\", \"created_time\": \"2021-01-16T11:55:05.322004Z\", \"created_time_dt\": \"2021-01-16T11:55:05.322004Z\", \"duration\": \"0:00:31\", \"iteration\": \"3\", \"goal\": \"accuracy_max\", \"run_name\": \"MinMaxScaler, RandomForest\", \"run_properties\": \"copy=True, feature_range=(0, 1\", \"primary_metric\": 0.82926554, \"best_metric\": 0.84937853}, {\"run_id\": \"AutoML_1e327d58-eca5-409e-ba9f-7f450d376a58_4\", \"run_number\": 6, \"metric\": null, \"status\": \"Completed\", \"run_type\": null, \"training_percent\": \"100\", \"start_time\": \"2021-01-16T11:55:39.406946Z\", \"end_time\": \"2021-01-16T11:56:13.472054Z\", \"created_time\": \"2021-01-16T11:55:38.917295Z\", \"created_time_dt\": \"2021-01-16T11:55:38.917295Z\", \"duration\": \"0:00:34\", \"iteration\": \"4\", \"goal\": \"accuracy_max\", \"run_name\": \"MinMaxScaler, RandomForest\", \"run_properties\": \"copy=True, feature_range=(0, 1\", \"primary_metric\": 0.82937853, \"best_metric\": 0.84937853}, {\"run_id\": \"AutoML_1e327d58-eca5-409e-ba9f-7f450d376a58_5\", \"run_number\": 7, \"metric\": null, \"status\": \"Completed\", \"run_type\": null, \"training_percent\": \"100\", \"start_time\": \"2021-01-16T11:56:16.059903Z\", \"end_time\": \"2021-01-16T11:56:48.939841Z\", \"created_time\": \"2021-01-16T11:56:15.650533Z\", \"created_time_dt\": \"2021-01-16T11:56:15.650533Z\", \"duration\": \"0:00:33\", \"iteration\": \"5\", \"goal\": \"accuracy_max\", \"run_name\": \"MinMaxScaler, SVM\", \"run_properties\": \"copy=True, feature_range=(0, 1\", \"primary_metric\": 0.72242938, \"best_metric\": 0.84937853}, {\"run_id\": \"AutoML_1e327d58-eca5-409e-ba9f-7f450d376a58_6\", \"run_number\": 8, \"metric\": null, \"status\": \"Completed\", \"run_type\": null, \"training_percent\": \"100\", \"start_time\": \"2021-01-16T11:56:50.185567Z\", \"end_time\": \"2021-01-16T11:57:15.499841Z\", \"created_time\": \"2021-01-16T11:56:50.06923Z\", \"created_time_dt\": \"2021-01-16T11:56:50.06923Z\", \"duration\": \"0:00:25\", \"iteration\": \"6\", \"goal\": \"accuracy_max\", \"run_name\": \"MaxAbsScaler, GradientBoosting\", \"run_properties\": \"copy=True\", \"primary_metric\": 0.8260452, \"best_metric\": 0.84937853}, {\"run_id\": \"AutoML_1e327d58-eca5-409e-ba9f-7f450d376a58_7\", \"run_number\": 9, \"metric\": null, \"status\": \"Completed\", \"run_type\": null, \"training_percent\": \"100\", \"start_time\": \"2021-01-16T11:57:16.685559Z\", \"end_time\": \"2021-01-16T11:57:41.00214Z\", \"created_time\": \"2021-01-16T11:57:16.584999Z\", \"created_time_dt\": \"2021-01-16T11:57:16.584999Z\", \"duration\": \"0:00:24\", \"iteration\": \"7\", \"goal\": \"accuracy_max\", \"run_name\": \"SparseNormalizer, LightGBM\", \"run_properties\": \"<azureml.automl.runtime.shared.model_wrappers.SparseNormalizer object at 0x7fe38276ac50\", \"primary_metric\": 0.7360452, \"best_metric\": 0.84937853}, {\"run_id\": \"AutoML_1e327d58-eca5-409e-ba9f-7f450d376a58_8\", \"run_number\": 10, \"metric\": null, \"status\": \"Completed\", \"run_type\": null, \"training_percent\": \"100\", \"start_time\": \"2021-01-16T11:57:42.290233Z\", \"end_time\": \"2021-01-16T11:58:06.653004Z\", \"created_time\": \"2021-01-16T11:57:42.184266Z\", \"created_time_dt\": \"2021-01-16T11:57:42.184266Z\", \"duration\": \"0:00:24\", \"iteration\": \"8\", \"goal\": \"accuracy_max\", \"run_name\": \"SparseNormalizer, XGBoostClassifier\", \"run_properties\": \"<azureml.automl.runtime.shared.model_wrappers.SparseNormalizer object at 0x7fe373e19b38\", \"primary_metric\": 0.84960452, \"best_metric\": 0.84960452}, {\"run_id\": \"AutoML_1e327d58-eca5-409e-ba9f-7f450d376a58_9\", \"run_number\": 11, \"metric\": null, \"status\": \"Completed\", \"run_type\": null, \"training_percent\": \"100\", \"start_time\": \"2021-01-16T11:58:07.947882Z\", \"end_time\": \"2021-01-16T11:58:33.253794Z\", \"created_time\": \"2021-01-16T11:58:07.849158Z\", \"created_time_dt\": \"2021-01-16T11:58:07.849158Z\", \"duration\": \"0:00:25\", \"iteration\": \"9\", \"goal\": \"accuracy_max\", \"run_name\": \"RobustScaler, ExtremeRandomTrees\", \"run_properties\": \"copy=True, quantile_range=[25, 75], with_centering=True,\\n             with_scaling=False\", \"primary_metric\": 0.84949153, \"best_metric\": 0.84960452}, {\"run_id\": \"AutoML_1e327d58-eca5-409e-ba9f-7f450d376a58_10\", \"run_number\": 12, \"metric\": null, \"status\": \"Completed\", \"run_type\": null, \"training_percent\": \"100\", \"start_time\": \"2021-01-16T11:58:35.081783Z\", \"end_time\": \"2021-01-16T11:58:59.422253Z\", \"created_time\": \"2021-01-16T11:58:34.760809Z\", \"created_time_dt\": \"2021-01-16T11:58:34.760809Z\", \"duration\": \"0:00:24\", \"iteration\": \"10\", \"goal\": \"accuracy_max\", \"run_name\": \"StandardScalerWrapper, LightGBM\", \"run_properties\": \"<azureml.automl.runtime.shared.model_wrappers.StandardScalerWrapper object at 0x7fe373d09c50\", \"primary_metric\": 0.8160452, \"best_metric\": 0.84960452}, {\"run_id\": \"AutoML_1e327d58-eca5-409e-ba9f-7f450d376a58_11\", \"run_number\": 13, \"metric\": null, \"status\": \"Completed\", \"run_type\": null, \"training_percent\": \"100\", \"start_time\": \"2021-01-16T11:59:00.986197Z\", \"end_time\": \"2021-01-16T11:59:27.088808Z\", \"created_time\": \"2021-01-16T11:59:00.861099Z\", \"created_time_dt\": \"2021-01-16T11:59:00.861099Z\", \"duration\": \"0:00:26\", \"iteration\": \"11\", \"goal\": \"accuracy_max\", \"run_name\": \"StandardScalerWrapper, RandomForest\", \"run_properties\": \"<azureml.automl.runtime.shared.model_wrappers.StandardScalerWrapper object at 0x7fe373d21f28\", \"primary_metric\": 0.83937853, \"best_metric\": 0.84960452}, {\"run_id\": \"AutoML_1e327d58-eca5-409e-ba9f-7f450d376a58_12\", \"run_number\": 14, \"metric\": null, \"status\": \"Completed\", \"run_type\": null, \"training_percent\": \"100\", \"start_time\": \"2021-01-16T11:59:28.545769Z\", \"end_time\": \"2021-01-16T11:59:58.117571Z\", \"created_time\": \"2021-01-16T11:59:28.443821Z\", \"created_time_dt\": \"2021-01-16T11:59:28.443821Z\", \"duration\": \"0:00:29\", \"iteration\": \"12\", \"goal\": \"accuracy_max\", \"run_name\": \"StandardScalerWrapper, LightGBM\", \"run_properties\": \"<azureml.automl.runtime.shared.model_wrappers.StandardScalerWrapper object at 0x7fe373dbd0f0\", \"primary_metric\": 0.83265537, \"best_metric\": 0.84960452}, {\"run_id\": \"AutoML_1e327d58-eca5-409e-ba9f-7f450d376a58_13\", \"run_number\": 15, \"metric\": null, \"status\": \"Completed\", \"run_type\": null, \"training_percent\": \"100\", \"start_time\": \"2021-01-16T11:59:59.326552Z\", \"end_time\": \"2021-01-16T12:00:25.245731Z\", \"created_time\": \"2021-01-16T11:59:59.225806Z\", \"created_time_dt\": \"2021-01-16T11:59:59.225806Z\", \"duration\": \"0:00:26\", \"iteration\": \"13\", \"goal\": \"accuracy_max\", \"run_name\": \"StandardScalerWrapper, RandomForest\", \"run_properties\": \"<azureml.automl.runtime.shared.model_wrappers.StandardScalerWrapper object at 0x7fe381631978\", \"primary_metric\": 0.83265537, \"best_metric\": 0.84960452}, {\"run_id\": \"AutoML_1e327d58-eca5-409e-ba9f-7f450d376a58_14\", \"run_number\": 16, \"metric\": null, \"status\": \"Completed\", \"run_type\": null, \"training_percent\": \"100\", \"start_time\": \"2021-01-16T12:00:26.508872Z\", \"end_time\": \"2021-01-16T12:00:52.631476Z\", \"created_time\": \"2021-01-16T12:00:26.398175Z\", \"created_time_dt\": \"2021-01-16T12:00:26.398175Z\", \"duration\": \"0:00:26\", \"iteration\": \"14\", \"goal\": \"accuracy_max\", \"run_name\": \"MaxAbsScaler, LightGBM\", \"run_properties\": \"copy=True\", \"primary_metric\": 0.82265537, \"best_metric\": 0.84960452}, {\"run_id\": \"AutoML_1e327d58-eca5-409e-ba9f-7f450d376a58_15\", \"run_number\": 17, \"metric\": null, \"status\": \"Completed\", \"run_type\": null, \"training_percent\": \"100\", \"start_time\": \"2021-01-16T12:00:53.934356Z\", \"end_time\": \"2021-01-16T12:01:25.194373Z\", \"created_time\": \"2021-01-16T12:00:53.828653Z\", \"created_time_dt\": \"2021-01-16T12:00:53.828653Z\", \"duration\": \"0:00:31\", \"iteration\": \"15\", \"goal\": \"accuracy_max\", \"run_name\": \"SparseNormalizer, XGBoostClassifier\", \"run_properties\": \"<azureml.automl.runtime.shared.model_wrappers.SparseNormalizer object at 0x7fe373d4b2e8\", \"primary_metric\": 0.84615819, \"best_metric\": 0.84960452}, {\"run_id\": \"AutoML_1e327d58-eca5-409e-ba9f-7f450d376a58_16\", \"run_number\": 18, \"metric\": null, \"status\": \"Completed\", \"run_type\": null, \"training_percent\": \"100\", \"start_time\": \"2021-01-16T12:01:27.1098Z\", \"end_time\": \"2021-01-16T12:01:55.244682Z\", \"created_time\": \"2021-01-16T12:01:27.005854Z\", \"created_time_dt\": \"2021-01-16T12:01:27.005854Z\", \"duration\": \"0:00:28\", \"iteration\": \"16\", \"goal\": \"accuracy_max\", \"run_name\": \"MinMaxScaler, LightGBM\", \"run_properties\": \"copy=True, feature_range=(0, 1\", \"primary_metric\": 0.8360452, \"best_metric\": 0.84960452}, {\"run_id\": \"AutoML_1e327d58-eca5-409e-ba9f-7f450d376a58_17\", \"run_number\": 19, \"metric\": null, \"status\": \"Completed\", \"run_type\": null, \"training_percent\": \"100\", \"start_time\": \"2021-01-16T12:01:56.463674Z\", \"end_time\": \"2021-01-16T12:02:23.284979Z\", \"created_time\": \"2021-01-16T12:01:56.361377Z\", \"created_time_dt\": \"2021-01-16T12:01:56.361377Z\", \"duration\": \"0:00:26\", \"iteration\": \"17\", \"goal\": \"accuracy_max\", \"run_name\": \"MaxAbsScaler, LightGBM\", \"run_properties\": \"copy=True\", \"primary_metric\": 0.75587571, \"best_metric\": 0.84960452}, {\"run_id\": \"AutoML_1e327d58-eca5-409e-ba9f-7f450d376a58_18\", \"run_number\": 20, \"metric\": null, \"status\": \"Completed\", \"run_type\": null, \"training_percent\": \"100\", \"start_time\": \"2021-01-16T12:02:25.000677Z\", \"end_time\": \"2021-01-16T12:02:59.08498Z\", \"created_time\": \"2021-01-16T12:02:24.719709Z\", \"created_time_dt\": \"2021-01-16T12:02:24.719709Z\", \"duration\": \"0:00:34\", \"iteration\": \"18\", \"goal\": \"accuracy_max\", \"run_name\": \"SparseNormalizer, XGBoostClassifier\", \"run_properties\": \"<azureml.automl.runtime.shared.model_wrappers.SparseNormalizer object at 0x7fe381631b38\", \"primary_metric\": 0.84610169, \"best_metric\": 0.84960452}, {\"run_id\": \"AutoML_1e327d58-eca5-409e-ba9f-7f450d376a58_19\", \"run_number\": 21, \"metric\": null, \"status\": \"Completed\", \"run_type\": null, \"training_percent\": \"100\", \"start_time\": \"2021-01-16T12:03:00.288538Z\", \"end_time\": \"2021-01-16T12:03:35.618972Z\", \"created_time\": \"2021-01-16T12:03:00.182658Z\", \"created_time_dt\": \"2021-01-16T12:03:00.182658Z\", \"duration\": \"0:00:35\", \"iteration\": \"19\", \"goal\": \"accuracy_max\", \"run_name\": \"StandardScalerWrapper, RandomForest\", \"run_properties\": \"<azureml.automl.runtime.shared.model_wrappers.StandardScalerWrapper object at 0x7fe373cd5198\", \"primary_metric\": 0.84932203, \"best_metric\": 0.84960452}, {\"run_id\": \"AutoML_1e327d58-eca5-409e-ba9f-7f450d376a58_20\", \"run_number\": 22, \"metric\": null, \"status\": \"Completed\", \"run_type\": null, \"training_percent\": \"100\", \"start_time\": \"2021-01-16T12:03:36.943469Z\", \"end_time\": \"2021-01-16T12:04:09.14421Z\", \"created_time\": \"2021-01-16T12:03:36.833337Z\", \"created_time_dt\": \"2021-01-16T12:03:36.833337Z\", \"duration\": \"0:00:32\", \"iteration\": \"20\", \"goal\": \"accuracy_max\", \"run_name\": \"MaxAbsScaler, LightGBM\", \"run_properties\": \"copy=True\", \"primary_metric\": 0.82937853, \"best_metric\": 0.84960452}, {\"run_id\": \"AutoML_1e327d58-eca5-409e-ba9f-7f450d376a58_21\", \"run_number\": 23, \"metric\": null, \"status\": \"Completed\", \"run_type\": null, \"training_percent\": \"100\", \"start_time\": \"2021-01-16T12:04:10.350824Z\", \"end_time\": \"2021-01-16T12:04:36.177623Z\", \"created_time\": \"2021-01-16T12:04:10.242262Z\", \"created_time_dt\": \"2021-01-16T12:04:10.242262Z\", \"duration\": \"0:00:25\", \"iteration\": \"21\", \"goal\": \"accuracy_max\", \"run_name\": \"StandardScalerWrapper, XGBoostClassifier\", \"run_properties\": \"<azureml.automl.runtime.shared.model_wrappers.StandardScalerWrapper object at 0x7fe38160a9e8\", \"primary_metric\": 0.82265537, \"best_metric\": 0.84960452}, {\"run_id\": \"AutoML_1e327d58-eca5-409e-ba9f-7f450d376a58_22\", \"run_number\": 24, \"metric\": null, \"status\": \"Completed\", \"run_type\": null, \"training_percent\": \"100\", \"start_time\": \"2021-01-16T12:04:38.55063Z\", \"end_time\": \"2021-01-16T12:05:07.596233Z\", \"created_time\": \"2021-01-16T12:04:38.209415Z\", \"created_time_dt\": \"2021-01-16T12:04:38.209415Z\", \"duration\": \"0:00:29\", \"iteration\": \"22\", \"goal\": \"accuracy_max\", \"run_name\": \"MaxAbsScaler, ExtremeRandomTrees\", \"run_properties\": \"copy=True\", \"primary_metric\": 0.82271186, \"best_metric\": 0.84960452}, {\"run_id\": \"AutoML_1e327d58-eca5-409e-ba9f-7f450d376a58_23\", \"run_number\": 25, \"metric\": null, \"status\": \"Completed\", \"run_type\": null, \"training_percent\": \"100\", \"start_time\": \"2021-01-16T12:05:08.86603Z\", \"end_time\": \"2021-01-16T12:05:46.01369Z\", \"created_time\": \"2021-01-16T12:05:08.735768Z\", \"created_time_dt\": \"2021-01-16T12:05:08.735768Z\", \"duration\": \"0:00:37\", \"iteration\": \"23\", \"goal\": \"accuracy_max\", \"run_name\": \"MaxAbsScaler, LightGBM\", \"run_properties\": \"copy=True\", \"primary_metric\": 0.8360452, \"best_metric\": 0.84960452}, {\"run_id\": \"AutoML_1e327d58-eca5-409e-ba9f-7f450d376a58_24\", \"run_number\": 26, \"metric\": null, \"status\": \"Completed\", \"run_type\": null, \"training_percent\": \"100\", \"start_time\": \"2021-01-16T12:05:47.270301Z\", \"end_time\": \"2021-01-16T12:06:19.364174Z\", \"created_time\": \"2021-01-16T12:05:47.160845Z\", \"created_time_dt\": \"2021-01-16T12:05:47.160845Z\", \"duration\": \"0:00:32\", \"iteration\": \"24\", \"goal\": \"accuracy_max\", \"run_name\": \"RobustScaler, ExtremeRandomTrees\", \"run_properties\": \"copy=True, quantile_range=[25, 75], with_centering=True,\\n             with_scaling=False\", \"primary_metric\": 0.85621469, \"best_metric\": 0.85621469}, {\"run_id\": \"AutoML_1e327d58-eca5-409e-ba9f-7f450d376a58_25\", \"run_number\": 27, \"metric\": null, \"status\": \"Completed\", \"run_type\": null, \"training_percent\": \"100\", \"start_time\": \"2021-01-16T12:06:21.85641Z\", \"end_time\": \"2021-01-16T12:06:52.891641Z\", \"created_time\": \"2021-01-16T12:06:21.749719Z\", \"created_time_dt\": \"2021-01-16T12:06:21.749719Z\", \"duration\": \"0:00:31\", \"iteration\": \"25\", \"goal\": \"accuracy_max\", \"run_name\": \"MaxAbsScaler, ExtremeRandomTrees\", \"run_properties\": \"copy=True\", \"primary_metric\": 0.67909605, \"best_metric\": 0.85621469}, {\"run_id\": \"AutoML_1e327d58-eca5-409e-ba9f-7f450d376a58_26\", \"run_number\": 28, \"metric\": null, \"status\": \"Completed\", \"run_type\": null, \"training_percent\": \"100\", \"start_time\": \"2021-01-16T12:06:54.11562Z\", \"end_time\": \"2021-01-16T12:07:18.803091Z\", \"created_time\": \"2021-01-16T12:06:54.005866Z\", \"created_time_dt\": \"2021-01-16T12:06:54.005866Z\", \"duration\": \"0:00:24\", \"iteration\": \"26\", \"goal\": \"accuracy_max\", \"run_name\": \"SparseNormalizer, XGBoostClassifier\", \"run_properties\": \"<azureml.automl.runtime.shared.model_wrappers.SparseNormalizer object at 0x7fe38120c278\", \"primary_metric\": 0.80949153, \"best_metric\": 0.85621469}, {\"run_id\": \"AutoML_1e327d58-eca5-409e-ba9f-7f450d376a58_27\", \"run_number\": 29, \"metric\": null, \"status\": \"Completed\", \"run_type\": null, \"training_percent\": \"100\", \"start_time\": \"2021-01-16T12:07:20.046115Z\", \"end_time\": \"2021-01-16T12:07:48.071657Z\", \"created_time\": \"2021-01-16T12:07:19.937114Z\", \"created_time_dt\": \"2021-01-16T12:07:19.937114Z\", \"duration\": \"0:00:28\", \"iteration\": \"27\", \"goal\": \"accuracy_max\", \"run_name\": \"MinMaxScaler, RandomForest\", \"run_properties\": \"copy=True, feature_range=(0, 1\", \"primary_metric\": 0.83265537, \"best_metric\": 0.85621469}, {\"run_id\": \"AutoML_1e327d58-eca5-409e-ba9f-7f450d376a58_28\", \"run_number\": 30, \"metric\": null, \"status\": \"Completed\", \"run_type\": null, \"training_percent\": \"100\", \"start_time\": \"2021-01-16T12:07:48.393722Z\", \"end_time\": \"2021-01-16T12:08:22.084875Z\", \"created_time\": \"2021-01-16T12:07:48.293866Z\", \"created_time_dt\": \"2021-01-16T12:07:48.293866Z\", \"duration\": \"0:00:33\", \"iteration\": \"28\", \"goal\": \"accuracy_max\", \"run_name\": \"VotingEnsemble\", \"run_properties\": \"classification_labels=None,\\n                              estimators=[('24',\\n                                           Pipeline(memory=None,\\n                                                    steps=[('robustscaler',\\n                                                            RobustScaler(copy=True,\\n                                                                         quantile_range=[25,\\n                                                                                         75],\\n                                                                         with_centering=True,\\n                                                                         with_scaling=False\", \"primary_metric\": 0.86960452, \"best_metric\": 0.86960452}, {\"run_id\": \"AutoML_1e327d58-eca5-409e-ba9f-7f450d376a58_29\", \"run_number\": 31, \"metric\": null, \"status\": \"Completed\", \"run_type\": null, \"training_percent\": \"100\", \"start_time\": \"2021-01-16T12:08:22.440326Z\", \"end_time\": \"2021-01-16T12:08:58.232789Z\", \"created_time\": \"2021-01-16T12:08:22.337494Z\", \"created_time_dt\": \"2021-01-16T12:08:22.337494Z\", \"duration\": \"0:00:35\", \"iteration\": \"29\", \"goal\": \"accuracy_max\", \"run_name\": \"StackEnsemble\", \"run_properties\": \"base_learners=[('24',\\n                                        Pipeline(memory=None,\\n                                                 steps=[('robustscaler',\\n                                                         RobustScaler(copy=True,\\n                                                                      quantile_range=[25,\\n                                                                                      75],\\n                                                                      with_centering=True,\\n                                                                      with_scaling=False\", \"primary_metric\": 0.86293785, \"best_metric\": 0.86960452}], \"children_metrics\": {\"categories\": [0], \"series\": {\"precision_score_micro\": [{\"categories\": [\"0\", \"1\", \"2\", \"3\", \"4\", \"5\", \"6\", \"7\", \"8\", \"9\", \"10\", \"11\", \"12\", \"13\", \"14\", \"15\", \"16\", \"17\", \"18\", \"19\", \"20\", \"21\", \"22\", \"23\", \"24\", \"25\", \"26\", \"27\", \"28\", \"29\"], \"mode\": \"markers\", \"name\": \"precision_score_micro\", \"stepped\": false, \"type\": \"scatter\", \"data\": [0.8059887005649717, 0.8259322033898304, 0.8493785310734463, 0.8292655367231638, 0.8293785310734464, 0.7224293785310734, 0.8260451977401131, 0.736045197740113, 0.8496045197740113, 0.8494915254237287, 0.8160451977401131, 0.8393785310734463, 0.8326553672316385, 0.8326553672316385, 0.8226553672316385, 0.8461581920903954, 0.836045197740113, 0.7558757062146892, 0.8461016949152542, 0.8493220338983051, 0.8293785310734464, 0.8226553672316385, 0.8227118644067797, 0.836045197740113, 0.8562146892655367, 0.67909604519774, 0.8094915254237289, 0.8326553672316385, 0.8696045197740112, 0.8629378531073446]}, {\"categories\": [\"0\", \"1\", \"2\", \"3\", \"4\", \"5\", \"6\", \"7\", \"8\", \"9\", \"10\", \"11\", \"12\", \"13\", \"14\", \"15\", \"16\", \"17\", \"18\", \"19\", \"20\", \"21\", \"22\", \"23\", \"24\", \"25\", \"26\", \"27\", \"28\", \"29\"], \"mode\": \"lines\", \"name\": \"precision_score_micro_max\", \"stepped\": true, \"type\": \"scatter\", \"data\": [0.8059887005649717, 0.8259322033898304, 0.8493785310734463, 0.8493785310734463, 0.8493785310734463, 0.8493785310734463, 0.8493785310734463, 0.8493785310734463, 0.8496045197740113, 0.8496045197740113, 0.8496045197740113, 0.8496045197740113, 0.8496045197740113, 0.8496045197740113, 0.8496045197740113, 0.8496045197740113, 0.8496045197740113, 0.8496045197740113, 0.8496045197740113, 0.8496045197740113, 0.8496045197740113, 0.8496045197740113, 0.8496045197740113, 0.8496045197740113, 0.8562146892655367, 0.8562146892655367, 0.8562146892655367, 0.8562146892655367, 0.8696045197740112, 0.8696045197740112]}], \"average_precision_score_weighted\": [{\"categories\": [\"0\", \"1\", \"2\", \"3\", \"4\", \"5\", \"6\", \"7\", \"8\", \"9\", \"10\", \"11\", \"12\", \"13\", \"14\", \"15\", \"16\", \"17\", \"18\", \"19\", \"20\", \"21\", \"22\", \"23\", \"24\", \"25\", \"26\", \"27\", \"28\", \"29\"], \"mode\": \"markers\", \"name\": \"average_precision_score_weighted\", \"stepped\": false, \"type\": \"scatter\", \"data\": [0.8955370396295249, 0.9103506263314479, 0.9167542904436411, 0.9081320320071274, 0.9254797507282466, 0.7672883055926255, 0.9256724190853294, 0.8458920762759519, 0.9044364305652293, 0.8960944239412644, 0.9058607560878091, 0.9136640654075979, 0.9181596860653727, 0.9096025707650343, 0.9157632071255797, 0.9085203702370863, 0.9147323219325832, 0.8747252938157292, 0.9110608234302132, 0.9098922033938475, 0.9046621696596523, 0.8948959997609753, 0.893844398103373, 0.8977969744882719, 0.9112764474847648, 0.6885379911965365, 0.8443939720111345, 0.9171391919816234, 0.9206903227468803, 0.9232649866215507]}, {\"categories\": [\"0\", \"1\", \"2\", \"3\", \"4\", \"5\", \"6\", \"7\", \"8\", \"9\", \"10\", \"11\", \"12\", \"13\", \"14\", \"15\", \"16\", \"17\", \"18\", \"19\", \"20\", \"21\", \"22\", \"23\", \"24\", \"25\", \"26\", \"27\", \"28\", \"29\"], \"mode\": \"lines\", \"name\": \"average_precision_score_weighted_max\", \"stepped\": true, \"type\": \"scatter\", \"data\": [0.8955370396295249, 0.9103506263314479, 0.9167542904436411, 0.9167542904436411, 0.9254797507282466, 0.9254797507282466, 0.9256724190853294, 0.9256724190853294, 0.9256724190853294, 0.9256724190853294, 0.9256724190853294, 0.9256724190853294, 0.9256724190853294, 0.9256724190853294, 0.9256724190853294, 0.9256724190853294, 0.9256724190853294, 0.9256724190853294, 0.9256724190853294, 0.9256724190853294, 0.9256724190853294, 0.9256724190853294, 0.9256724190853294, 0.9256724190853294, 0.9256724190853294, 0.9256724190853294, 0.9256724190853294, 0.9256724190853294, 0.9256724190853294, 0.9256724190853294]}], \"weighted_accuracy\": [{\"categories\": [\"0\", \"1\", \"2\", \"3\", \"4\", \"5\", \"6\", \"7\", \"8\", \"9\", \"10\", \"11\", \"12\", \"13\", \"14\", \"15\", \"16\", \"17\", \"18\", \"19\", \"20\", \"21\", \"22\", \"23\", \"24\", \"25\", \"26\", \"27\", \"28\", \"29\"], \"mode\": \"markers\", \"name\": \"weighted_accuracy\", \"stepped\": false, \"type\": \"scatter\", \"data\": [0.8252063202764133, 0.8406325321291572, 0.870257647380311, 0.8540702853777251, 0.8418106678569941, 0.7775242910482673, 0.8453702623377983, 0.8032567402089587, 0.876880803619453, 0.8838706161799637, 0.8499213641944703, 0.8587258162172231, 0.8552056261934704, 0.8477251571681581, 0.8572389223908932, 0.8731189342447088, 0.851785333829578, 0.8081739023989141, 0.8675269264202013, 0.8657518694695419, 0.8593695682548554, 0.8628172670030745, 0.834233017327756, 0.8633695682548554, 0.8880345582413488, 0.7971865900207855, 0.8545595033927219, 0.8478945134062286, 0.8901652041053112, 0.8812247217176659]}, {\"categories\": [\"0\", \"1\", \"2\", \"3\", \"4\", \"5\", \"6\", \"7\", \"8\", \"9\", \"10\", \"11\", \"12\", \"13\", \"14\", \"15\", \"16\", \"17\", \"18\", \"19\", \"20\", \"21\", \"22\", \"23\", \"24\", \"25\", \"26\", \"27\", \"28\", \"29\"], \"mode\": \"lines\", \"name\": \"weighted_accuracy_max\", \"stepped\": true, \"type\": \"scatter\", \"data\": [0.8252063202764133, 0.8406325321291572, 0.870257647380311, 0.870257647380311, 0.870257647380311, 0.870257647380311, 0.870257647380311, 0.870257647380311, 0.876880803619453, 0.8838706161799637, 0.8838706161799637, 0.8838706161799637, 0.8838706161799637, 0.8838706161799637, 0.8838706161799637, 0.8838706161799637, 0.8838706161799637, 0.8838706161799637, 0.8838706161799637, 0.8838706161799637, 0.8838706161799637, 0.8838706161799637, 0.8838706161799637, 0.8838706161799637, 0.8880345582413488, 0.8880345582413488, 0.8880345582413488, 0.8880345582413488, 0.8901652041053112, 0.8901652041053112]}], \"AUC_micro\": [{\"categories\": [\"0\", \"1\", \"2\", \"3\", \"4\", \"5\", \"6\", \"7\", \"8\", \"9\", \"10\", \"11\", \"12\", \"13\", \"14\", \"15\", \"16\", \"17\", \"18\", \"19\", \"20\", \"21\", \"22\", \"23\", \"24\", \"25\", \"26\", \"27\", \"28\", \"29\"], \"mode\": \"markers\", \"name\": \"AUC_micro\", \"stepped\": false, \"type\": \"scatter\", \"data\": [0.8880105014523284, 0.8999905678444892, 0.9110893261834084, 0.9012075712598551, 0.9173481119729324, 0.7822548517348143, 0.9179202815282966, 0.8328210603594114, 0.9057792460659453, 0.8903747007564876, 0.8864027259089022, 0.9023922723355357, 0.9082023364933448, 0.9067802196048389, 0.8984269367040122, 0.9027768680775001, 0.9041296881483609, 0.8640138370200134, 0.9069592071243896, 0.9045746113824251, 0.8896263685403302, 0.8911529573238852, 0.8900803089789013, 0.8865636949790927, 0.9054563663059785, 0.7492627118644067, 0.8630878898145488, 0.9081918988796323, 0.9172930192473429, 0.9143348016215007]}, {\"categories\": [\"0\", \"1\", \"2\", \"3\", \"4\", \"5\", \"6\", \"7\", \"8\", \"9\", \"10\", \"11\", \"12\", \"13\", \"14\", \"15\", \"16\", \"17\", \"18\", \"19\", \"20\", \"21\", \"22\", \"23\", \"24\", \"25\", \"26\", \"27\", \"28\", \"29\"], \"mode\": \"lines\", \"name\": \"AUC_micro_max\", \"stepped\": true, \"type\": \"scatter\", \"data\": [0.8880105014523284, 0.8999905678444892, 0.9110893261834084, 0.9110893261834084, 0.9173481119729324, 0.9173481119729324, 0.9179202815282966, 0.9179202815282966, 0.9179202815282966, 0.9179202815282966, 0.9179202815282966, 0.9179202815282966, 0.9179202815282966, 0.9179202815282966, 0.9179202815282966, 0.9179202815282966, 0.9179202815282966, 0.9179202815282966, 0.9179202815282966, 0.9179202815282966, 0.9179202815282966, 0.9179202815282966, 0.9179202815282966, 0.9179202815282966, 0.9179202815282966, 0.9179202815282966, 0.9179202815282966, 0.9179202815282966, 0.9179202815282966, 0.9179202815282966]}], \"f1_score_macro\": [{\"categories\": [\"0\", \"1\", \"2\", \"3\", \"4\", \"5\", \"6\", \"7\", \"8\", \"9\", \"10\", \"11\", \"12\", \"13\", \"14\", \"15\", \"16\", \"17\", \"18\", \"19\", \"20\", \"21\", \"22\", \"23\", \"24\", \"25\", \"26\", \"27\", \"28\", \"29\"], \"mode\": \"markers\", \"name\": \"f1_score_macro\", \"stepped\": false, \"type\": \"scatter\", \"data\": [0.7682096405971308, 0.7972526241921125, 0.8174887189847476, 0.7869952198154249, 0.8002437104845143, 0.633102266507439, 0.7888390853043634, 0.6252048522662619, 0.8161275803155832, 0.8124670101227522, 0.7695891912830867, 0.8078792699551307, 0.7983400661454317, 0.8023195737443347, 0.7765801042203762, 0.8101538122371454, 0.8035693807983076, 0.6770052524630922, 0.8137523480807287, 0.8187397955285686, 0.7897930537245081, 0.7744146297219825, 0.7924157175015617, 0.799086693661103, 0.8205532534288015, 0.40276783177038933, 0.7543669246091081, 0.8015202260669877, 0.8418270855242136, 0.833349525822644]}, {\"categories\": [\"0\", \"1\", \"2\", \"3\", \"4\", \"5\", \"6\", \"7\", \"8\", \"9\", \"10\", \"11\", \"12\", \"13\", \"14\", \"15\", \"16\", \"17\", \"18\", \"19\", \"20\", \"21\", \"22\", \"23\", \"24\", \"25\", \"26\", \"27\", \"28\", \"29\"], \"mode\": \"lines\", \"name\": \"f1_score_macro_max\", \"stepped\": true, \"type\": \"scatter\", \"data\": [0.7682096405971308, 0.7972526241921125, 0.8174887189847476, 0.8174887189847476, 0.8174887189847476, 0.8174887189847476, 0.8174887189847476, 0.8174887189847476, 0.8174887189847476, 0.8174887189847476, 0.8174887189847476, 0.8174887189847476, 0.8174887189847476, 0.8174887189847476, 0.8174887189847476, 0.8174887189847476, 0.8174887189847476, 0.8174887189847476, 0.8174887189847476, 0.8187397955285686, 0.8187397955285686, 0.8187397955285686, 0.8187397955285686, 0.8187397955285686, 0.8205532534288015, 0.8205532534288015, 0.8205532534288015, 0.8205532534288015, 0.8418270855242136, 0.8418270855242136]}], \"f1_score_micro\": [{\"categories\": [\"0\", \"1\", \"2\", \"3\", \"4\", \"5\", \"6\", \"7\", \"8\", \"9\", \"10\", \"11\", \"12\", \"13\", \"14\", \"15\", \"16\", \"17\", \"18\", \"19\", \"20\", \"21\", \"22\", \"23\", \"24\", \"25\", \"26\", \"27\", \"28\", \"29\"], \"mode\": \"markers\", \"name\": \"f1_score_micro\", \"stepped\": false, \"type\": \"scatter\", \"data\": [0.8059887005649718, 0.8259322033898304, 0.8493785310734465, 0.8292655367231638, 0.8293785310734464, 0.7224293785310734, 0.8260451977401131, 0.736045197740113, 0.8496045197740113, 0.8494915254237287, 0.8160451977401131, 0.8393785310734463, 0.8326553672316385, 0.8326553672316385, 0.8226553672316385, 0.8461581920903954, 0.836045197740113, 0.7558757062146892, 0.8461016949152542, 0.8493220338983051, 0.8293785310734464, 0.8226553672316385, 0.8227118644067797, 0.836045197740113, 0.8562146892655367, 0.67909604519774, 0.8094915254237289, 0.8326553672316385, 0.8696045197740112, 0.8629378531073446]}, {\"categories\": [\"0\", \"1\", \"2\", \"3\", \"4\", \"5\", \"6\", \"7\", \"8\", \"9\", \"10\", \"11\", \"12\", \"13\", \"14\", \"15\", \"16\", \"17\", \"18\", \"19\", \"20\", \"21\", \"22\", \"23\", \"24\", \"25\", \"26\", \"27\", \"28\", \"29\"], \"mode\": \"lines\", \"name\": \"f1_score_micro_max\", \"stepped\": true, \"type\": \"scatter\", \"data\": [0.8059887005649718, 0.8259322033898304, 0.8493785310734465, 0.8493785310734465, 0.8493785310734465, 0.8493785310734465, 0.8493785310734465, 0.8493785310734465, 0.8496045197740113, 0.8496045197740113, 0.8496045197740113, 0.8496045197740113, 0.8496045197740113, 0.8496045197740113, 0.8496045197740113, 0.8496045197740113, 0.8496045197740113, 0.8496045197740113, 0.8496045197740113, 0.8496045197740113, 0.8496045197740113, 0.8496045197740113, 0.8496045197740113, 0.8496045197740113, 0.8562146892655367, 0.8562146892655367, 0.8562146892655367, 0.8562146892655367, 0.8696045197740112, 0.8696045197740112]}], \"f1_score_weighted\": [{\"categories\": [\"0\", \"1\", \"2\", \"3\", \"4\", \"5\", \"6\", \"7\", \"8\", \"9\", \"10\", \"11\", \"12\", \"13\", \"14\", \"15\", \"16\", \"17\", \"18\", \"19\", \"20\", \"21\", \"22\", \"23\", \"24\", \"25\", \"26\", \"27\", \"28\", \"29\"], \"mode\": \"markers\", \"name\": \"f1_score_weighted\", \"stepped\": false, \"type\": \"scatter\", \"data\": [0.8014398448329555, 0.8237396450256732, 0.847260215310242, 0.8226440862238906, 0.8296707192810178, 0.698615162788161, 0.821086879640345, 0.6920924975909098, 0.8445786473037667, 0.84046304303031, 0.8041176153746544, 0.8350719024151937, 0.8277041636824469, 0.8325963257915824, 0.8121339252832713, 0.8404266222721967, 0.8318656682565821, 0.7295468563614139, 0.8419471295128641, 0.847976927176996, 0.8223772499306865, 0.8120819514951683, 0.8229395474574307, 0.829975741523706, 0.8478455256727317, 0.5526564268547016, 0.7989264307710374, 0.8305449427939655, 0.8649936305761845, 0.8583190049953917]}, {\"categories\": [\"0\", \"1\", \"2\", \"3\", \"4\", \"5\", \"6\", \"7\", \"8\", \"9\", \"10\", \"11\", \"12\", \"13\", \"14\", \"15\", \"16\", \"17\", \"18\", \"19\", \"20\", \"21\", \"22\", \"23\", \"24\", \"25\", \"26\", \"27\", \"28\", \"29\"], \"mode\": \"lines\", \"name\": \"f1_score_weighted_max\", \"stepped\": true, \"type\": \"scatter\", \"data\": [0.8014398448329555, 0.8237396450256732, 0.847260215310242, 0.847260215310242, 0.847260215310242, 0.847260215310242, 0.847260215310242, 0.847260215310242, 0.847260215310242, 0.847260215310242, 0.847260215310242, 0.847260215310242, 0.847260215310242, 0.847260215310242, 0.847260215310242, 0.847260215310242, 0.847260215310242, 0.847260215310242, 0.847260215310242, 0.847976927176996, 0.847976927176996, 0.847976927176996, 0.847976927176996, 0.847976927176996, 0.847976927176996, 0.847976927176996, 0.847976927176996, 0.847976927176996, 0.8649936305761845, 0.8649936305761845]}], \"average_precision_score_macro\": [{\"categories\": [\"0\", \"1\", \"2\", \"3\", \"4\", \"5\", \"6\", \"7\", \"8\", \"9\", \"10\", \"11\", \"12\", \"13\", \"14\", \"15\", \"16\", \"17\", \"18\", \"19\", \"20\", \"21\", \"22\", \"23\", \"24\", \"25\", \"26\", \"27\", \"28\", \"29\"], \"mode\": \"markers\", \"name\": \"average_precision_score_macro\", \"stepped\": false, \"type\": \"scatter\", \"data\": [0.8655792376041671, 0.8826936933050062, 0.8882737241968177, 0.8749445807608606, 0.9012578738591506, 0.7180990905432962, 0.9011831275850554, 0.799425832504898, 0.8802531433544377, 0.8702301969667158, 0.8821896413678351, 0.8895556644383029, 0.8949484146327167, 0.8808533406489099, 0.8927456468445853, 0.8827141677722498, 0.8910741257817303, 0.8417124468962026, 0.8787696947157306, 0.8844483241535457, 0.8801135101806297, 0.8701786665611053, 0.8700885757732049, 0.8726402764695509, 0.8877998017332078, 0.6124015406007, 0.8151491399805628, 0.8893899984045011, 0.8964343807585384, 0.8995971318093936]}, {\"categories\": [\"0\", \"1\", \"2\", \"3\", \"4\", \"5\", \"6\", \"7\", \"8\", \"9\", \"10\", \"11\", \"12\", \"13\", \"14\", \"15\", \"16\", \"17\", \"18\", \"19\", \"20\", \"21\", \"22\", \"23\", \"24\", \"25\", \"26\", \"27\", \"28\", \"29\"], \"mode\": \"lines\", \"name\": \"average_precision_score_macro_max\", \"stepped\": true, \"type\": \"scatter\", \"data\": [0.8655792376041671, 0.8826936933050062, 0.8882737241968177, 0.8882737241968177, 0.9012578738591506, 0.9012578738591506, 0.9012578738591506, 0.9012578738591506, 0.9012578738591506, 0.9012578738591506, 0.9012578738591506, 0.9012578738591506, 0.9012578738591506, 0.9012578738591506, 0.9012578738591506, 0.9012578738591506, 0.9012578738591506, 0.9012578738591506, 0.9012578738591506, 0.9012578738591506, 0.9012578738591506, 0.9012578738591506, 0.9012578738591506, 0.9012578738591506, 0.9012578738591506, 0.9012578738591506, 0.9012578738591506, 0.9012578738591506, 0.9012578738591506, 0.9012578738591506]}], \"recall_score_micro\": [{\"categories\": [\"0\", \"1\", \"2\", \"3\", \"4\", \"5\", \"6\", \"7\", \"8\", \"9\", \"10\", \"11\", \"12\", \"13\", \"14\", \"15\", \"16\", \"17\", \"18\", \"19\", \"20\", \"21\", \"22\", \"23\", \"24\", \"25\", \"26\", \"27\", \"28\", \"29\"], \"mode\": \"markers\", \"name\": \"recall_score_micro\", \"stepped\": false, \"type\": \"scatter\", \"data\": [0.8059887005649717, 0.8259322033898304, 0.8493785310734463, 0.8292655367231638, 0.8293785310734464, 0.7224293785310734, 0.8260451977401131, 0.736045197740113, 0.8496045197740113, 0.8494915254237287, 0.8160451977401131, 0.8393785310734463, 0.8326553672316385, 0.8326553672316385, 0.8226553672316385, 0.8461581920903954, 0.836045197740113, 0.7558757062146892, 0.8461016949152542, 0.8493220338983051, 0.8293785310734464, 0.8226553672316385, 0.8227118644067797, 0.836045197740113, 0.8562146892655367, 0.67909604519774, 0.8094915254237289, 0.8326553672316385, 0.8696045197740112, 0.8629378531073446]}, {\"categories\": [\"0\", \"1\", \"2\", \"3\", \"4\", \"5\", \"6\", \"7\", \"8\", \"9\", \"10\", \"11\", \"12\", \"13\", \"14\", \"15\", \"16\", \"17\", \"18\", \"19\", \"20\", \"21\", \"22\", \"23\", \"24\", \"25\", \"26\", \"27\", \"28\", \"29\"], \"mode\": \"lines\", \"name\": \"recall_score_micro_max\", \"stepped\": true, \"type\": \"scatter\", \"data\": [0.8059887005649717, 0.8259322033898304, 0.8493785310734463, 0.8493785310734463, 0.8493785310734463, 0.8493785310734463, 0.8493785310734463, 0.8493785310734463, 0.8496045197740113, 0.8496045197740113, 0.8496045197740113, 0.8496045197740113, 0.8496045197740113, 0.8496045197740113, 0.8496045197740113, 0.8496045197740113, 0.8496045197740113, 0.8496045197740113, 0.8496045197740113, 0.8496045197740113, 0.8496045197740113, 0.8496045197740113, 0.8496045197740113, 0.8496045197740113, 0.8562146892655367, 0.8562146892655367, 0.8562146892655367, 0.8562146892655367, 0.8696045197740112, 0.8696045197740112]}], \"AUC_weighted\": [{\"categories\": [\"0\", \"1\", \"2\", \"3\", \"4\", \"5\", \"6\", \"7\", \"8\", \"9\", \"10\", \"11\", \"12\", \"13\", \"14\", \"15\", \"16\", \"17\", \"18\", \"19\", \"20\", \"21\", \"22\", \"23\", \"24\", \"25\", \"26\", \"27\", \"28\", \"29\"], \"mode\": \"markers\", \"name\": \"AUC_weighted\", \"stepped\": false, \"type\": \"scatter\", \"data\": [0.8811331210778885, 0.8929591177556293, 0.9028159491509783, 0.898468784606866, 0.9123444306016981, 0.7391946982281284, 0.9139763519748986, 0.8303234588409006, 0.8940481035437431, 0.8804859496124029, 0.8939186277224067, 0.8994324012550756, 0.904734242340347, 0.8997911475636766, 0.9021912144702842, 0.8944780592469546, 0.8978392395717977, 0.8551524086378738, 0.9028370016611296, 0.8972508997785159, 0.8915136466408269, 0.8888375899778517, 0.874484865263935, 0.8909584371539314, 0.8992402408637874, 0.6644122023809524, 0.8382120131967514, 0.9063719084533037, 0.9108079318936877, 0.9135728820598008]}, {\"categories\": [\"0\", \"1\", \"2\", \"3\", \"4\", \"5\", \"6\", \"7\", \"8\", \"9\", \"10\", \"11\", \"12\", \"13\", \"14\", \"15\", \"16\", \"17\", \"18\", \"19\", \"20\", \"21\", \"22\", \"23\", \"24\", \"25\", \"26\", \"27\", \"28\", \"29\"], \"mode\": \"lines\", \"name\": \"AUC_weighted_max\", \"stepped\": true, \"type\": \"scatter\", \"data\": [0.8811331210778885, 0.8929591177556293, 0.9028159491509783, 0.9028159491509783, 0.9123444306016981, 0.9123444306016981, 0.9139763519748986, 0.9139763519748986, 0.9139763519748986, 0.9139763519748986, 0.9139763519748986, 0.9139763519748986, 0.9139763519748986, 0.9139763519748986, 0.9139763519748986, 0.9139763519748986, 0.9139763519748986, 0.9139763519748986, 0.9139763519748986, 0.9139763519748986, 0.9139763519748986, 0.9139763519748986, 0.9139763519748986, 0.9139763519748986, 0.9139763519748986, 0.9139763519748986, 0.9139763519748986, 0.9139763519748986, 0.9139763519748986, 0.9139763519748986]}], \"log_loss\": [{\"categories\": [\"0\", \"1\", \"2\", \"3\", \"4\", \"5\", \"6\", \"7\", \"8\", \"9\", \"10\", \"11\", \"12\", \"13\", \"14\", \"15\", \"16\", \"17\", \"18\", \"19\", \"20\", \"21\", \"22\", \"23\", \"24\", \"25\", \"26\", \"27\", \"28\", \"29\"], \"mode\": \"markers\", \"name\": \"log_loss\", \"stepped\": false, \"type\": \"scatter\", \"data\": [0.5282491261622873, 0.43217688137359717, 0.383986928202856, 0.40500947396657005, 0.37354248722017125, 0.5884240064545644, 0.3680635694528576, 0.5184056250785269, 0.38995629857272407, 0.4263345190213263, 0.4727004574854833, 0.411492783715942, 0.3997407425109225, 0.38348292521088806, 0.4353180673105509, 0.39424331638853444, 0.38714385345595814, 0.476614647988231, 0.41988646636503263, 0.39051766579171043, 0.45025642112083786, 0.5044404800443761, 0.49170504239158463, 0.4508375873329781, 0.4082228040755087, 0.6359679893476217, 0.5137407659476281, 0.3774387136417924, 0.3725444800311489, 0.38755201277135104]}, {\"categories\": [\"0\", \"1\", \"2\", \"3\", \"4\", \"5\", \"6\", \"7\", \"8\", \"9\", \"10\", \"11\", \"12\", \"13\", \"14\", \"15\", \"16\", \"17\", \"18\", \"19\", \"20\", \"21\", \"22\", \"23\", \"24\", \"25\", \"26\", \"27\", \"28\", \"29\"], \"mode\": \"lines\", \"name\": \"log_loss_min\", \"stepped\": true, \"type\": \"scatter\", \"data\": [0.5282491261622873, 0.43217688137359717, 0.383986928202856, 0.383986928202856, 0.37354248722017125, 0.37354248722017125, 0.3680635694528576, 0.3680635694528576, 0.3680635694528576, 0.3680635694528576, 0.3680635694528576, 0.3680635694528576, 0.3680635694528576, 0.3680635694528576, 0.3680635694528576, 0.3680635694528576, 0.3680635694528576, 0.3680635694528576, 0.3680635694528576, 0.3680635694528576, 0.3680635694528576, 0.3680635694528576, 0.3680635694528576, 0.3680635694528576, 0.3680635694528576, 0.3680635694528576, 0.3680635694528576, 0.3680635694528576, 0.3680635694528576, 0.3680635694528576]}], \"recall_score_weighted\": [{\"categories\": [\"0\", \"1\", \"2\", \"3\", \"4\", \"5\", \"6\", \"7\", \"8\", \"9\", \"10\", \"11\", \"12\", \"13\", \"14\", \"15\", \"16\", \"17\", \"18\", \"19\", \"20\", \"21\", \"22\", \"23\", \"24\", \"25\", \"26\", \"27\", \"28\", \"29\"], \"mode\": \"markers\", \"name\": \"recall_score_weighted\", \"stepped\": false, \"type\": \"scatter\", \"data\": [0.8059887005649717, 0.8259322033898304, 0.8493785310734463, 0.8292655367231638, 0.8293785310734464, 0.7224293785310734, 0.8260451977401131, 0.736045197740113, 0.8496045197740113, 0.8494915254237287, 0.8160451977401131, 0.8393785310734463, 0.8326553672316385, 0.8326553672316385, 0.8226553672316385, 0.8461581920903954, 0.836045197740113, 0.7558757062146892, 0.8461016949152542, 0.8493220338983051, 0.8293785310734464, 0.8226553672316385, 0.8227118644067797, 0.836045197740113, 0.8562146892655367, 0.67909604519774, 0.8094915254237289, 0.8326553672316385, 0.8696045197740112, 0.8629378531073446]}, {\"categories\": [\"0\", \"1\", \"2\", \"3\", \"4\", \"5\", \"6\", \"7\", \"8\", \"9\", \"10\", \"11\", \"12\", \"13\", \"14\", \"15\", \"16\", \"17\", \"18\", \"19\", \"20\", \"21\", \"22\", \"23\", \"24\", \"25\", \"26\", \"27\", \"28\", \"29\"], \"mode\": \"lines\", \"name\": \"recall_score_weighted_max\", \"stepped\": true, \"type\": \"scatter\", \"data\": [0.8059887005649717, 0.8259322033898304, 0.8493785310734463, 0.8493785310734463, 0.8493785310734463, 0.8493785310734463, 0.8493785310734463, 0.8493785310734463, 0.8496045197740113, 0.8496045197740113, 0.8496045197740113, 0.8496045197740113, 0.8496045197740113, 0.8496045197740113, 0.8496045197740113, 0.8496045197740113, 0.8496045197740113, 0.8496045197740113, 0.8496045197740113, 0.8496045197740113, 0.8496045197740113, 0.8496045197740113, 0.8496045197740113, 0.8496045197740113, 0.8562146892655367, 0.8562146892655367, 0.8562146892655367, 0.8562146892655367, 0.8696045197740112, 0.8696045197740112]}], \"recall_score_macro\": [{\"categories\": [\"0\", \"1\", \"2\", \"3\", \"4\", \"5\", \"6\", \"7\", \"8\", \"9\", \"10\", \"11\", \"12\", \"13\", \"14\", \"15\", \"16\", \"17\", \"18\", \"19\", \"20\", \"21\", \"22\", \"23\", \"24\", \"25\", \"26\", \"27\", \"28\", \"29\"], \"mode\": \"markers\", \"name\": \"recall_score_macro\", \"stepped\": false, \"type\": \"scatter\", \"data\": [0.7760209025470652, 0.8060125968992248, 0.8162333887043189, 0.7928149224806202, 0.811169712070875, 0.6407613510520488, 0.7962631506090808, 0.6379761904761905, 0.8112458471760797, 0.7997279900332226, 0.7672155315614617, 0.8112589977851605, 0.8000089977851607, 0.8113441306755259, 0.7735887320044297, 0.8053488372093023, 0.8135209025470653, 0.6819518272425249, 0.8156976744186046, 0.8251280454042081, 0.787751245847176, 0.7640351605758582, 0.8067351882613509, 0.797751245847176, 0.8099702380952382, 0.5, 0.7393071705426356, 0.8108381782945738, 0.8391327519379844, 0.8363946566998892]}, {\"categories\": [\"0\", \"1\", \"2\", \"3\", \"4\", \"5\", \"6\", \"7\", \"8\", \"9\", \"10\", \"11\", \"12\", \"13\", \"14\", \"15\", \"16\", \"17\", \"18\", \"19\", \"20\", \"21\", \"22\", \"23\", \"24\", \"25\", \"26\", \"27\", \"28\", \"29\"], \"mode\": \"lines\", \"name\": \"recall_score_macro_max\", \"stepped\": true, \"type\": \"scatter\", \"data\": [0.7760209025470652, 0.8060125968992248, 0.8162333887043189, 0.8162333887043189, 0.8162333887043189, 0.8162333887043189, 0.8162333887043189, 0.8162333887043189, 0.8162333887043189, 0.8162333887043189, 0.8162333887043189, 0.8162333887043189, 0.8162333887043189, 0.8162333887043189, 0.8162333887043189, 0.8162333887043189, 0.8162333887043189, 0.8162333887043189, 0.8162333887043189, 0.8251280454042081, 0.8251280454042081, 0.8251280454042081, 0.8251280454042081, 0.8251280454042081, 0.8251280454042081, 0.8251280454042081, 0.8251280454042081, 0.8251280454042081, 0.8391327519379844, 0.8391327519379844]}], \"balanced_accuracy\": [{\"categories\": [\"0\", \"1\", \"2\", \"3\", \"4\", \"5\", \"6\", \"7\", \"8\", \"9\", \"10\", \"11\", \"12\", \"13\", \"14\", \"15\", \"16\", \"17\", \"18\", \"19\", \"20\", \"21\", \"22\", \"23\", \"24\", \"25\", \"26\", \"27\", \"28\", \"29\"], \"mode\": \"markers\", \"name\": \"balanced_accuracy\", \"stepped\": false, \"type\": \"scatter\", \"data\": [0.7760209025470652, 0.8060125968992248, 0.8162333887043189, 0.7928149224806202, 0.811169712070875, 0.6407613510520488, 0.7962631506090808, 0.6379761904761905, 0.8112458471760797, 0.7997279900332226, 0.7672155315614617, 0.8112589977851605, 0.8000089977851607, 0.8113441306755259, 0.7735887320044297, 0.8053488372093023, 0.8135209025470653, 0.6819518272425249, 0.8156976744186046, 0.8251280454042081, 0.787751245847176, 0.7640351605758582, 0.8067351882613509, 0.797751245847176, 0.8099702380952382, 0.5, 0.7393071705426356, 0.8108381782945738, 0.8391327519379844, 0.8363946566998892]}, {\"categories\": [\"0\", \"1\", \"2\", \"3\", \"4\", \"5\", \"6\", \"7\", \"8\", \"9\", \"10\", \"11\", \"12\", \"13\", \"14\", \"15\", \"16\", \"17\", \"18\", \"19\", \"20\", \"21\", \"22\", \"23\", \"24\", \"25\", \"26\", \"27\", \"28\", \"29\"], \"mode\": \"lines\", \"name\": \"balanced_accuracy_max\", \"stepped\": true, \"type\": \"scatter\", \"data\": [0.7760209025470652, 0.8060125968992248, 0.8162333887043189, 0.8162333887043189, 0.8162333887043189, 0.8162333887043189, 0.8162333887043189, 0.8162333887043189, 0.8162333887043189, 0.8162333887043189, 0.8162333887043189, 0.8162333887043189, 0.8162333887043189, 0.8162333887043189, 0.8162333887043189, 0.8162333887043189, 0.8162333887043189, 0.8162333887043189, 0.8162333887043189, 0.8251280454042081, 0.8251280454042081, 0.8251280454042081, 0.8251280454042081, 0.8251280454042081, 0.8251280454042081, 0.8251280454042081, 0.8251280454042081, 0.8251280454042081, 0.8391327519379844, 0.8391327519379844]}], \"average_precision_score_micro\": [{\"categories\": [\"0\", \"1\", \"2\", \"3\", \"4\", \"5\", \"6\", \"7\", \"8\", \"9\", \"10\", \"11\", \"12\", \"13\", \"14\", \"15\", \"16\", \"17\", \"18\", \"19\", \"20\", \"21\", \"22\", \"23\", \"24\", \"25\", \"26\", \"27\", \"28\", \"29\"], \"mode\": \"markers\", \"name\": \"average_precision_score_micro\", \"stepped\": false, \"type\": \"scatter\", \"data\": [0.887958292631032, 0.9018582931163117, 0.9135934258764701, 0.9067584806197688, 0.9211054738476434, 0.7609365110650166, 0.9199414234072965, 0.8377483843872803, 0.9026020432426062, 0.8893809736025101, 0.8877787967043064, 0.9036826649044022, 0.9111581298001014, 0.9085528431279558, 0.9006376774159642, 0.9042447745018253, 0.9048185882112945, 0.8660928539051044, 0.9067629970075703, 0.9055872176532027, 0.8920082055956847, 0.8857281642392479, 0.8871930433945732, 0.8833356513894776, 0.9064862062474492, 0.7198398742861782, 0.8454442353790753, 0.9105360775015265, 0.9183869608980787, 0.915607910133987]}, {\"categories\": [\"0\", \"1\", \"2\", \"3\", \"4\", \"5\", \"6\", \"7\", \"8\", \"9\", \"10\", \"11\", \"12\", \"13\", \"14\", \"15\", \"16\", \"17\", \"18\", \"19\", \"20\", \"21\", \"22\", \"23\", \"24\", \"25\", \"26\", \"27\", \"28\", \"29\"], \"mode\": \"lines\", \"name\": \"average_precision_score_micro_max\", \"stepped\": true, \"type\": \"scatter\", \"data\": [0.887958292631032, 0.9018582931163117, 0.9135934258764701, 0.9135934258764701, 0.9211054738476434, 0.9211054738476434, 0.9211054738476434, 0.9211054738476434, 0.9211054738476434, 0.9211054738476434, 0.9211054738476434, 0.9211054738476434, 0.9211054738476434, 0.9211054738476434, 0.9211054738476434, 0.9211054738476434, 0.9211054738476434, 0.9211054738476434, 0.9211054738476434, 0.9211054738476434, 0.9211054738476434, 0.9211054738476434, 0.9211054738476434, 0.9211054738476434, 0.9211054738476434, 0.9211054738476434, 0.9211054738476434, 0.9211054738476434, 0.9211054738476434, 0.9211054738476434]}], \"norm_macro_recall\": [{\"categories\": [\"0\", \"1\", \"2\", \"3\", \"4\", \"5\", \"6\", \"7\", \"8\", \"9\", \"10\", \"11\", \"12\", \"13\", \"14\", \"15\", \"16\", \"17\", \"18\", \"19\", \"20\", \"21\", \"22\", \"23\", \"24\", \"25\", \"26\", \"27\", \"28\", \"29\"], \"mode\": \"markers\", \"name\": \"norm_macro_recall\", \"stepped\": false, \"type\": \"scatter\", \"data\": [0.5520418050941306, 0.6120251937984496, 0.6324667774086379, 0.5856298449612403, 0.6223394241417498, 0.2815227021040974, 0.5925263012181616, 0.275952380952381, 0.6224916943521595, 0.5994559800664453, 0.5344310631229235, 0.6225179955703212, 0.6000179955703212, 0.622688261351052, 0.5471774640088594, 0.6106976744186047, 0.6270418050941308, 0.3639036544850498, 0.6313953488372093, 0.6502560908084163, 0.5755024916943521, 0.5280703211517166, 0.6134703765227021, 0.5955024916943522, 0.6199404761904763, 0.0, 0.47861434108527134, 0.6216763565891472, 0.678265503875969, 0.6727893133997785]}, {\"categories\": [\"0\", \"1\", \"2\", \"3\", \"4\", \"5\", \"6\", \"7\", \"8\", \"9\", \"10\", \"11\", \"12\", \"13\", \"14\", \"15\", \"16\", \"17\", \"18\", \"19\", \"20\", \"21\", \"22\", \"23\", \"24\", \"25\", \"26\", \"27\", \"28\", \"29\"], \"mode\": \"lines\", \"name\": \"norm_macro_recall_max\", \"stepped\": true, \"type\": \"scatter\", \"data\": [0.5520418050941306, 0.6120251937984496, 0.6324667774086379, 0.6324667774086379, 0.6324667774086379, 0.6324667774086379, 0.6324667774086379, 0.6324667774086379, 0.6324667774086379, 0.6324667774086379, 0.6324667774086379, 0.6324667774086379, 0.6324667774086379, 0.6324667774086379, 0.6324667774086379, 0.6324667774086379, 0.6324667774086379, 0.6324667774086379, 0.6324667774086379, 0.6502560908084163, 0.6502560908084163, 0.6502560908084163, 0.6502560908084163, 0.6502560908084163, 0.6502560908084163, 0.6502560908084163, 0.6502560908084163, 0.6502560908084163, 0.678265503875969, 0.678265503875969]}], \"AUC_macro\": [{\"categories\": [\"0\", \"1\", \"2\", \"3\", \"4\", \"5\", \"6\", \"7\", \"8\", \"9\", \"10\", \"11\", \"12\", \"13\", \"14\", \"15\", \"16\", \"17\", \"18\", \"19\", \"20\", \"21\", \"22\", \"23\", \"24\", \"25\", \"26\", \"27\", \"28\", \"29\"], \"mode\": \"markers\", \"name\": \"AUC_macro\", \"stepped\": false, \"type\": \"scatter\", \"data\": [0.8811331210778885, 0.8929591177556295, 0.9028159491509783, 0.898468784606866, 0.9123444306016981, 0.7391946982281284, 0.9139763519748986, 0.8303234588409006, 0.8940481035437431, 0.8804859496124029, 0.8939186277224069, 0.8994324012550757, 0.9047342423403469, 0.8997911475636766, 0.9021912144702842, 0.8944780592469547, 0.8978392395717977, 0.8551524086378738, 0.9028370016611296, 0.897250899778516, 0.8915136466408267, 0.8888375899778517, 0.874484865263935, 0.8909584371539314, 0.8992402408637874, 0.6644122023809524, 0.8382120131967514, 0.9063719084533037, 0.9108079318936877, 0.9135728820598008]}, {\"categories\": [\"0\", \"1\", \"2\", \"3\", \"4\", \"5\", \"6\", \"7\", \"8\", \"9\", \"10\", \"11\", \"12\", \"13\", \"14\", \"15\", \"16\", \"17\", \"18\", \"19\", \"20\", \"21\", \"22\", \"23\", \"24\", \"25\", \"26\", \"27\", \"28\", \"29\"], \"mode\": \"lines\", \"name\": \"AUC_macro_max\", \"stepped\": true, \"type\": \"scatter\", \"data\": [0.8811331210778885, 0.8929591177556295, 0.9028159491509783, 0.9028159491509783, 0.9123444306016981, 0.9123444306016981, 0.9139763519748986, 0.9139763519748986, 0.9139763519748986, 0.9139763519748986, 0.9139763519748986, 0.9139763519748986, 0.9139763519748986, 0.9139763519748986, 0.9139763519748986, 0.9139763519748986, 0.9139763519748986, 0.9139763519748986, 0.9139763519748986, 0.9139763519748986, 0.9139763519748986, 0.9139763519748986, 0.9139763519748986, 0.9139763519748986, 0.9139763519748986, 0.9139763519748986, 0.9139763519748986, 0.9139763519748986, 0.9139763519748986, 0.9139763519748986]}], \"accuracy\": [{\"categories\": [\"0\", \"1\", \"2\", \"3\", \"4\", \"5\", \"6\", \"7\", \"8\", \"9\", \"10\", \"11\", \"12\", \"13\", \"14\", \"15\", \"16\", \"17\", \"18\", \"19\", \"20\", \"21\", \"22\", \"23\", \"24\", \"25\", \"26\", \"27\", \"28\", \"29\"], \"mode\": \"markers\", \"name\": \"accuracy\", \"stepped\": false, \"type\": \"scatter\", \"data\": [0.8059887005649717, 0.8259322033898304, 0.8493785310734463, 0.8292655367231638, 0.8293785310734464, 0.7224293785310734, 0.8260451977401131, 0.736045197740113, 0.8496045197740113, 0.8494915254237287, 0.8160451977401131, 0.8393785310734463, 0.8326553672316385, 0.8326553672316385, 0.8226553672316385, 0.8461581920903954, 0.836045197740113, 0.7558757062146892, 0.8461016949152542, 0.8493220338983051, 0.8293785310734464, 0.8226553672316385, 0.8227118644067797, 0.836045197740113, 0.8562146892655367, 0.67909604519774, 0.8094915254237289, 0.8326553672316385, 0.8696045197740112, 0.8629378531073446]}, {\"categories\": [\"0\", \"1\", \"2\", \"3\", \"4\", \"5\", \"6\", \"7\", \"8\", \"9\", \"10\", \"11\", \"12\", \"13\", \"14\", \"15\", \"16\", \"17\", \"18\", \"19\", \"20\", \"21\", \"22\", \"23\", \"24\", \"25\", \"26\", \"27\", \"28\", \"29\"], \"mode\": \"lines\", \"name\": \"accuracy_max\", \"stepped\": true, \"type\": \"scatter\", \"data\": [0.8059887005649717, 0.8259322033898304, 0.8493785310734463, 0.8493785310734463, 0.8493785310734463, 0.8493785310734463, 0.8493785310734463, 0.8493785310734463, 0.8496045197740113, 0.8496045197740113, 0.8496045197740113, 0.8496045197740113, 0.8496045197740113, 0.8496045197740113, 0.8496045197740113, 0.8496045197740113, 0.8496045197740113, 0.8496045197740113, 0.8496045197740113, 0.8496045197740113, 0.8496045197740113, 0.8496045197740113, 0.8496045197740113, 0.8496045197740113, 0.8562146892655367, 0.8562146892655367, 0.8562146892655367, 0.8562146892655367, 0.8696045197740112, 0.8696045197740112]}], \"matthews_correlation\": [{\"categories\": [\"0\", \"1\", \"2\", \"3\", \"4\", \"5\", \"6\", \"7\", \"8\", \"9\", \"10\", \"11\", \"12\", \"13\", \"14\", \"15\", \"16\", \"17\", \"18\", \"19\", \"20\", \"21\", \"22\", \"23\", \"24\", \"25\", \"26\", \"27\", \"28\", \"29\"], \"mode\": \"markers\", \"name\": \"matthews_correlation\", \"stepped\": false, \"type\": \"scatter\", \"data\": [0.5628617041183437, 0.6132552509330647, 0.6428955944425964, 0.6008919070466859, 0.6146992638328487, 0.32726473818851093, 0.6027867597071751, 0.37006932289245953, 0.6568903004948619, 0.6575507377412014, 0.577377585520883, 0.6357126266078079, 0.6174019003823129, 0.6156422333334902, 0.5874889280817045, 0.6451955059526496, 0.6313236379592749, 0.42551860400407, 0.6498715520407531, 0.6498671538691869, 0.6062038115159358, 0.5832835639254463, 0.6001800810304329, 0.6221830703805049, 0.6756776123095941, 0.0, 0.5389420874389828, 0.6225019890600929, 0.7054690778184867, 0.6929092830751048]}, {\"categories\": [\"0\", \"1\", \"2\", \"3\", \"4\", \"5\", \"6\", \"7\", \"8\", \"9\", \"10\", \"11\", \"12\", \"13\", \"14\", \"15\", \"16\", \"17\", \"18\", \"19\", \"20\", \"21\", \"22\", \"23\", \"24\", \"25\", \"26\", \"27\", \"28\", \"29\"], \"mode\": \"lines\", \"name\": \"matthews_correlation_max\", \"stepped\": true, \"type\": \"scatter\", \"data\": [0.5628617041183437, 0.6132552509330647, 0.6428955944425964, 0.6428955944425964, 0.6428955944425964, 0.6428955944425964, 0.6428955944425964, 0.6428955944425964, 0.6568903004948619, 0.6575507377412014, 0.6575507377412014, 0.6575507377412014, 0.6575507377412014, 0.6575507377412014, 0.6575507377412014, 0.6575507377412014, 0.6575507377412014, 0.6575507377412014, 0.6575507377412014, 0.6575507377412014, 0.6575507377412014, 0.6575507377412014, 0.6575507377412014, 0.6575507377412014, 0.6756776123095941, 0.6756776123095941, 0.6756776123095941, 0.6756776123095941, 0.7054690778184867, 0.7054690778184867]}], \"precision_score_weighted\": [{\"categories\": [\"0\", \"1\", \"2\", \"3\", \"4\", \"5\", \"6\", \"7\", \"8\", \"9\", \"10\", \"11\", \"12\", \"13\", \"14\", \"15\", \"16\", \"17\", \"18\", \"19\", \"20\", \"21\", \"22\", \"23\", \"24\", \"25\", \"26\", \"27\", \"28\", \"29\"], \"mode\": \"markers\", \"name\": \"precision_score_weighted\", \"stepped\": false, \"type\": \"scatter\", \"data\": [0.8237683758533973, 0.8403871377947292, 0.8527858238026955, 0.8411799487006577, 0.8429529208335985, 0.7364190180695702, 0.8415626187168874, 0.7792163027878148, 0.8634172995690739, 0.8624215928959587, 0.8315673124386462, 0.8513055420116136, 0.8439344285644792, 0.8426337777812941, 0.8349702549609818, 0.8595500654174952, 0.8521985362475807, 0.7782837290597344, 0.8605689487782341, 0.8584795568524382, 0.8415996105752923, 0.8353061511935346, 0.8367202546685153, 0.8477966743810518, 0.8720215119803413, 0.4689005075169971, 0.8162259513735032, 0.8477336210170419, 0.8816738468072458, 0.8790428812509188]}, {\"categories\": [\"0\", \"1\", \"2\", \"3\", \"4\", \"5\", \"6\", \"7\", \"8\", \"9\", \"10\", \"11\", \"12\", \"13\", \"14\", \"15\", \"16\", \"17\", \"18\", \"19\", \"20\", \"21\", \"22\", \"23\", \"24\", \"25\", \"26\", \"27\", \"28\", \"29\"], \"mode\": \"lines\", \"name\": \"precision_score_weighted_max\", \"stepped\": true, \"type\": \"scatter\", \"data\": [0.8237683758533973, 0.8403871377947292, 0.8527858238026955, 0.8527858238026955, 0.8527858238026955, 0.8527858238026955, 0.8527858238026955, 0.8527858238026955, 0.8634172995690739, 0.8634172995690739, 0.8634172995690739, 0.8634172995690739, 0.8634172995690739, 0.8634172995690739, 0.8634172995690739, 0.8634172995690739, 0.8634172995690739, 0.8634172995690739, 0.8634172995690739, 0.8634172995690739, 0.8634172995690739, 0.8634172995690739, 0.8634172995690739, 0.8634172995690739, 0.8720215119803413, 0.8720215119803413, 0.8720215119803413, 0.8720215119803413, 0.8816738468072458, 0.8816738468072458]}], \"precision_score_macro\": [{\"categories\": [\"0\", \"1\", \"2\", \"3\", \"4\", \"5\", \"6\", \"7\", \"8\", \"9\", \"10\", \"11\", \"12\", \"13\", \"14\", \"15\", \"16\", \"17\", \"18\", \"19\", \"20\", \"21\", \"22\", \"23\", \"24\", \"25\", \"26\", \"27\", \"28\", \"29\"], \"mode\": \"markers\", \"name\": \"precision_score_macro\", \"stepped\": false, \"type\": \"scatter\", \"data\": [0.7889041743265773, 0.8086642059265495, 0.8271413683570433, 0.8113704752360779, 0.8046447791303564, 0.6959333729631803, 0.808798473059148, 0.7693400768179093, 0.848492463658258, 0.86250447688957, 0.8145149307214524, 0.8259588277393192, 0.8190090010719058, 0.8052757099007509, 0.8180319983967401, 0.8425044946309667, 0.8200378108888747, 0.7565795206971677, 0.836169772256729, 0.8257264957264958, 0.8210941232680362, 0.8233427852120861, 0.7949608870661502, 0.8266347782652131, 0.871764797931306, 0.33954802259887, 0.8039084044800603, 0.8132503201973181, 0.8687157552053218, 0.8595913952995218]}, {\"categories\": [\"0\", \"1\", \"2\", \"3\", \"4\", \"5\", \"6\", \"7\", \"8\", \"9\", \"10\", \"11\", \"12\", \"13\", \"14\", \"15\", \"16\", \"17\", \"18\", \"19\", \"20\", \"21\", \"22\", \"23\", \"24\", \"25\", \"26\", \"27\", \"28\", \"29\"], \"mode\": \"lines\", \"name\": \"precision_score_macro_max\", \"stepped\": true, \"type\": \"scatter\", \"data\": [0.7889041743265773, 0.8086642059265495, 0.8271413683570433, 0.8271413683570433, 0.8271413683570433, 0.8271413683570433, 0.8271413683570433, 0.8271413683570433, 0.848492463658258, 0.86250447688957, 0.86250447688957, 0.86250447688957, 0.86250447688957, 0.86250447688957, 0.86250447688957, 0.86250447688957, 0.86250447688957, 0.86250447688957, 0.86250447688957, 0.86250447688957, 0.86250447688957, 0.86250447688957, 0.86250447688957, 0.86250447688957, 0.871764797931306, 0.871764797931306, 0.871764797931306, 0.871764797931306, 0.871764797931306, 0.871764797931306]}]}, \"metricName\": null, \"primaryMetricName\": \"accuracy\", \"showLegend\": false}, \"run_metrics\": [{\"name\": \"balanced_accuracy\", \"run_id\": \"AutoML_1e327d58-eca5-409e-ba9f-7f450d376a58\", \"categories\": [0], \"series\": [{\"data\": [0.8391327519379844]}]}, {\"name\": \"recall_score_micro\", \"run_id\": \"AutoML_1e327d58-eca5-409e-ba9f-7f450d376a58\", \"categories\": [0], \"series\": [{\"data\": [0.8696045197740112]}]}, {\"name\": \"precision_score_macro\", \"run_id\": \"AutoML_1e327d58-eca5-409e-ba9f-7f450d376a58\", \"categories\": [0], \"series\": [{\"data\": [0.8687157552053218]}]}, {\"name\": \"precision_score_weighted\", \"run_id\": \"AutoML_1e327d58-eca5-409e-ba9f-7f450d376a58\", \"categories\": [0], \"series\": [{\"data\": [0.8816738468072458]}]}, {\"name\": \"norm_macro_recall\", \"run_id\": \"AutoML_1e327d58-eca5-409e-ba9f-7f450d376a58\", \"categories\": [0], \"series\": [{\"data\": [0.678265503875969]}]}, {\"name\": \"accuracy\", \"run_id\": \"AutoML_1e327d58-eca5-409e-ba9f-7f450d376a58\", \"categories\": [0], \"series\": [{\"data\": [0.8696045197740112]}]}, {\"name\": \"average_precision_score_micro\", \"run_id\": \"AutoML_1e327d58-eca5-409e-ba9f-7f450d376a58\", \"categories\": [0], \"series\": [{\"data\": [0.9183869608980787]}]}, {\"name\": \"matthews_correlation\", \"run_id\": \"AutoML_1e327d58-eca5-409e-ba9f-7f450d376a58\", \"categories\": [0], \"series\": [{\"data\": [0.7054690778184867]}]}, {\"name\": \"recall_score_weighted\", \"run_id\": \"AutoML_1e327d58-eca5-409e-ba9f-7f450d376a58\", \"categories\": [0], \"series\": [{\"data\": [0.8696045197740112]}]}, {\"name\": \"average_precision_score_macro\", \"run_id\": \"AutoML_1e327d58-eca5-409e-ba9f-7f450d376a58\", \"categories\": [0], \"series\": [{\"data\": [0.8964343807585384]}]}, {\"name\": \"AUC_weighted\", \"run_id\": \"AutoML_1e327d58-eca5-409e-ba9f-7f450d376a58\", \"categories\": [0], \"series\": [{\"data\": [0.9108079318936877]}]}, {\"name\": \"recall_score_macro\", \"run_id\": \"AutoML_1e327d58-eca5-409e-ba9f-7f450d376a58\", \"categories\": [0], \"series\": [{\"data\": [0.8391327519379844]}]}, {\"name\": \"log_loss\", \"run_id\": \"AutoML_1e327d58-eca5-409e-ba9f-7f450d376a58\", \"categories\": [0], \"series\": [{\"data\": [0.3725444800311489]}]}, {\"name\": \"AUC_macro\", \"run_id\": \"AutoML_1e327d58-eca5-409e-ba9f-7f450d376a58\", \"categories\": [0], \"series\": [{\"data\": [0.9108079318936877]}]}, {\"name\": \"average_precision_score_weighted\", \"run_id\": \"AutoML_1e327d58-eca5-409e-ba9f-7f450d376a58\", \"categories\": [0], \"series\": [{\"data\": [0.9206903227468803]}]}, {\"name\": \"weighted_accuracy\", \"run_id\": \"AutoML_1e327d58-eca5-409e-ba9f-7f450d376a58\", \"categories\": [0], \"series\": [{\"data\": [0.8901652041053112]}]}, {\"name\": \"f1_score_weighted\", \"run_id\": \"AutoML_1e327d58-eca5-409e-ba9f-7f450d376a58\", \"categories\": [0], \"series\": [{\"data\": [0.8649936305761845]}]}, {\"name\": \"f1_score_micro\", \"run_id\": \"AutoML_1e327d58-eca5-409e-ba9f-7f450d376a58\", \"categories\": [0], \"series\": [{\"data\": [0.8696045197740112]}]}, {\"name\": \"AUC_micro\", \"run_id\": \"AutoML_1e327d58-eca5-409e-ba9f-7f450d376a58\", \"categories\": [0], \"series\": [{\"data\": [0.9172930192473429]}]}, {\"name\": \"f1_score_macro\", \"run_id\": \"AutoML_1e327d58-eca5-409e-ba9f-7f450d376a58\", \"categories\": [0], \"series\": [{\"data\": [0.8418270855242136]}]}, {\"name\": \"precision_score_micro\", \"run_id\": \"AutoML_1e327d58-eca5-409e-ba9f-7f450d376a58\", \"categories\": [0], \"series\": [{\"data\": [0.8696045197740112]}]}], \"run_logs\": \"\\nRun is completed.\", \"graph\": {}, \"widget_settings\": {\"childWidgetDisplay\": \"popup\", \"send_telemetry\": false, \"log_level\": \"INFO\", \"sdk_version\": \"1.19.0\"}, \"loading\": false}"
     },
     "metadata": {},
     "output_type": "display_data"
    },
    {
     "data": {
      "text/plain": [
       "{'runId': 'AutoML_1e327d58-eca5-409e-ba9f-7f450d376a58',\n",
       " 'target': 'local',\n",
       " 'status': 'Completed',\n",
       " 'startTimeUtc': '2021-01-16T11:53:25.263591Z',\n",
       " 'endTimeUtc': '2021-01-16T12:09:00.779024Z',\n",
       " 'properties': {'num_iterations': '30',\n",
       "  'training_type': 'TrainFull',\n",
       "  'acquisition_function': 'EI',\n",
       "  'primary_metric': 'accuracy',\n",
       "  'train_split': '0',\n",
       "  'acquisition_parameter': '0',\n",
       "  'num_cross_validation': '5',\n",
       "  'target': 'local',\n",
       "  'AMLSettingsJsonString': '{\"path\":null,\"name\":\"automl-experiment\",\"subscription_id\":\"81cefad3-d2c9-4f77-a466-99a7f541c7bb\",\"resource_group\":\"aml-quickstarts-134863\",\"workspace_name\":\"quick-starts-ws-134863\",\"region\":\"southcentralus\",\"compute_target\":\"local\",\"spark_service\":null,\"azure_service\":\"Microsoft.AzureNotebookVM\",\"many_models\":false,\"pipeline_fetch_max_batch_size\":1,\"iterations\":30,\"primary_metric\":\"accuracy\",\"task_type\":\"classification\",\"data_script\":null,\"validation_size\":0.0,\"n_cross_validations\":5,\"y_min\":null,\"y_max\":null,\"num_classes\":2,\"featurization\":\"auto\",\"_ignore_package_version_incompatibilities\":false,\"is_timeseries\":false,\"max_cores_per_iteration\":-1,\"max_concurrent_iterations\":8,\"iteration_timeout_minutes\":null,\"mem_in_mb\":null,\"enforce_time_on_windows\":false,\"experiment_timeout_minutes\":15,\"experiment_exit_score\":null,\"whitelist_models\":null,\"blacklist_algos\":[\"TensorFlowLinearClassifier\",\"TensorFlowDNN\"],\"supported_models\":[\"LogisticRegression\",\"XGBoostClassifier\",\"KNN\",\"SVM\",\"RandomForest\",\"DecisionTree\",\"AveragedPerceptronClassifier\",\"GradientBoosting\",\"ExtremeRandomTrees\",\"SGD\",\"TensorFlowDNN\",\"MultinomialNaiveBayes\",\"BernoulliNaiveBayes\",\"TensorFlowLinearClassifier\",\"LightGBM\",\"LinearSVM\"],\"auto_blacklist\":true,\"blacklist_samples_reached\":false,\"exclude_nan_labels\":true,\"verbosity\":20,\"_debug_log\":\"automl.log\",\"show_warnings\":false,\"model_explainability\":true,\"service_url\":null,\"sdk_url\":null,\"sdk_packages\":null,\"enable_onnx_compatible_models\":false,\"enable_split_onnx_featurizer_estimator_models\":false,\"vm_type\":null,\"telemetry_verbosity\":20,\"send_telemetry\":true,\"enable_dnn\":false,\"scenario\":\"SDK-1.13.0\",\"environment_label\":null,\"force_text_dnn\":false,\"enable_feature_sweeping\":true,\"enable_early_stopping\":false,\"early_stopping_n_iters\":10,\"metrics\":null,\"enable_ensembling\":true,\"enable_stack_ensembling\":true,\"ensemble_iterations\":15,\"enable_tf\":false,\"enable_subsampling\":false,\"subsample_seed\":null,\"enable_nimbusml\":false,\"enable_streaming\":false,\"force_streaming\":false,\"track_child_runs\":true,\"allowed_private_models\":[],\"label_column_name\":\"DEATH_EVENT\",\"weight_column_name\":null,\"cv_split_column_names\":null,\"enable_local_managed\":false,\"_local_managed_run_id\":null,\"cost_mode\":1,\"lag_length\":0,\"metric_operation\":\"maximize\",\"preprocess\":true}',\n",
       "  'DataPrepJsonString': '{\\\\\"training_data\\\\\": \\\\\"{\\\\\\\\\\\\\"blocks\\\\\\\\\\\\\": [{\\\\\\\\\\\\\"id\\\\\\\\\\\\\": \\\\\\\\\\\\\"567773a8-dca7-4864-bc75-70b53833bf4e\\\\\\\\\\\\\", \\\\\\\\\\\\\"type\\\\\\\\\\\\\": \\\\\\\\\\\\\"Microsoft.DPrep.GetDatastoreFilesBlock\\\\\\\\\\\\\", \\\\\\\\\\\\\"arguments\\\\\\\\\\\\\": {\\\\\\\\\\\\\"datastores\\\\\\\\\\\\\": [{\\\\\\\\\\\\\"datastoreName\\\\\\\\\\\\\": \\\\\\\\\\\\\"workspaceblobstore\\\\\\\\\\\\\", \\\\\\\\\\\\\"path\\\\\\\\\\\\\": \\\\\\\\\\\\\"UI/01-16-2021_113335_UTC/heart_failure_clinical_records_dataset.csv\\\\\\\\\\\\\", \\\\\\\\\\\\\"resourceGroup\\\\\\\\\\\\\": \\\\\\\\\\\\\"aml-quickstarts-134863\\\\\\\\\\\\\", \\\\\\\\\\\\\"subscription\\\\\\\\\\\\\": \\\\\\\\\\\\\"81cefad3-d2c9-4f77-a466-99a7f541c7bb\\\\\\\\\\\\\", \\\\\\\\\\\\\"workspaceName\\\\\\\\\\\\\": \\\\\\\\\\\\\"quick-starts-ws-134863\\\\\\\\\\\\\"}]}, \\\\\\\\\\\\\"localData\\\\\\\\\\\\\": {}, \\\\\\\\\\\\\"isEnabled\\\\\\\\\\\\\": true, \\\\\\\\\\\\\"name\\\\\\\\\\\\\": null, \\\\\\\\\\\\\"annotation\\\\\\\\\\\\\": null}, {\\\\\\\\\\\\\"id\\\\\\\\\\\\\": \\\\\\\\\\\\\"433e4fad-6127-465d-b687-c5bffea12c27\\\\\\\\\\\\\", \\\\\\\\\\\\\"type\\\\\\\\\\\\\": \\\\\\\\\\\\\"Microsoft.DPrep.ParseDelimitedBlock\\\\\\\\\\\\\", \\\\\\\\\\\\\"arguments\\\\\\\\\\\\\": {\\\\\\\\\\\\\"columnHeadersMode\\\\\\\\\\\\\": 3, \\\\\\\\\\\\\"fileEncoding\\\\\\\\\\\\\": 0, \\\\\\\\\\\\\"handleQuotedLineBreaks\\\\\\\\\\\\\": false, \\\\\\\\\\\\\"preview\\\\\\\\\\\\\": false, \\\\\\\\\\\\\"separator\\\\\\\\\\\\\": \\\\\\\\\\\\\",\\\\\\\\\\\\\", \\\\\\\\\\\\\"skipRows\\\\\\\\\\\\\": 0, \\\\\\\\\\\\\"skipRowsMode\\\\\\\\\\\\\": 0}, \\\\\\\\\\\\\"localData\\\\\\\\\\\\\": {}, \\\\\\\\\\\\\"isEnabled\\\\\\\\\\\\\": true, \\\\\\\\\\\\\"name\\\\\\\\\\\\\": null, \\\\\\\\\\\\\"annotation\\\\\\\\\\\\\": null}, {\\\\\\\\\\\\\"id\\\\\\\\\\\\\": \\\\\\\\\\\\\"7fbf3f48-7198-4e1c-a357-126baae63925\\\\\\\\\\\\\", \\\\\\\\\\\\\"type\\\\\\\\\\\\\": \\\\\\\\\\\\\"Microsoft.DPrep.DropColumnsBlock\\\\\\\\\\\\\", \\\\\\\\\\\\\"arguments\\\\\\\\\\\\\": {\\\\\\\\\\\\\"columns\\\\\\\\\\\\\": {\\\\\\\\\\\\\"type\\\\\\\\\\\\\": 0, \\\\\\\\\\\\\"details\\\\\\\\\\\\\": {\\\\\\\\\\\\\"selectedColumns\\\\\\\\\\\\\": [\\\\\\\\\\\\\"Path\\\\\\\\\\\\\"]}}}, \\\\\\\\\\\\\"localData\\\\\\\\\\\\\": {}, \\\\\\\\\\\\\"isEnabled\\\\\\\\\\\\\": true, \\\\\\\\\\\\\"name\\\\\\\\\\\\\": null, \\\\\\\\\\\\\"annotation\\\\\\\\\\\\\": null}, {\\\\\\\\\\\\\"id\\\\\\\\\\\\\": \\\\\\\\\\\\\"1651cce2-b609-4b10-8021-13c2e03265a8\\\\\\\\\\\\\", \\\\\\\\\\\\\"type\\\\\\\\\\\\\": \\\\\\\\\\\\\"Microsoft.DPrep.SetColumnTypesBlock\\\\\\\\\\\\\", \\\\\\\\\\\\\"arguments\\\\\\\\\\\\\": {\\\\\\\\\\\\\"columnConversion\\\\\\\\\\\\\": [{\\\\\\\\\\\\\"column\\\\\\\\\\\\\": {\\\\\\\\\\\\\"type\\\\\\\\\\\\\": 2, \\\\\\\\\\\\\"details\\\\\\\\\\\\\": {\\\\\\\\\\\\\"selectedColumn\\\\\\\\\\\\\": \\\\\\\\\\\\\"Path\\\\\\\\\\\\\"}}, \\\\\\\\\\\\\"typeProperty\\\\\\\\\\\\\": 0}, {\\\\\\\\\\\\\"column\\\\\\\\\\\\\": {\\\\\\\\\\\\\"type\\\\\\\\\\\\\": 2, \\\\\\\\\\\\\"details\\\\\\\\\\\\\": {\\\\\\\\\\\\\"selectedColumn\\\\\\\\\\\\\": \\\\\\\\\\\\\"age\\\\\\\\\\\\\"}}, \\\\\\\\\\\\\"typeProperty\\\\\\\\\\\\\": 3}, {\\\\\\\\\\\\\"column\\\\\\\\\\\\\": {\\\\\\\\\\\\\"type\\\\\\\\\\\\\": 2, \\\\\\\\\\\\\"details\\\\\\\\\\\\\": {\\\\\\\\\\\\\"selectedColumn\\\\\\\\\\\\\": \\\\\\\\\\\\\"anaemia\\\\\\\\\\\\\"}}, \\\\\\\\\\\\\"typeProperty\\\\\\\\\\\\\": 2}, {\\\\\\\\\\\\\"column\\\\\\\\\\\\\": {\\\\\\\\\\\\\"type\\\\\\\\\\\\\": 2, \\\\\\\\\\\\\"details\\\\\\\\\\\\\": {\\\\\\\\\\\\\"selectedColumn\\\\\\\\\\\\\": \\\\\\\\\\\\\"creatinine_phosphokinase\\\\\\\\\\\\\"}}, \\\\\\\\\\\\\"typeProperty\\\\\\\\\\\\\": 2}, {\\\\\\\\\\\\\"column\\\\\\\\\\\\\": {\\\\\\\\\\\\\"type\\\\\\\\\\\\\": 2, \\\\\\\\\\\\\"details\\\\\\\\\\\\\": {\\\\\\\\\\\\\"selectedColumn\\\\\\\\\\\\\": \\\\\\\\\\\\\"diabetes\\\\\\\\\\\\\"}}, \\\\\\\\\\\\\"typeProperty\\\\\\\\\\\\\": 2}, {\\\\\\\\\\\\\"column\\\\\\\\\\\\\": {\\\\\\\\\\\\\"type\\\\\\\\\\\\\": 2, \\\\\\\\\\\\\"details\\\\\\\\\\\\\": {\\\\\\\\\\\\\"selectedColumn\\\\\\\\\\\\\": \\\\\\\\\\\\\"ejection_fraction\\\\\\\\\\\\\"}}, \\\\\\\\\\\\\"typeProperty\\\\\\\\\\\\\": 2}, {\\\\\\\\\\\\\"column\\\\\\\\\\\\\": {\\\\\\\\\\\\\"type\\\\\\\\\\\\\": 2, \\\\\\\\\\\\\"details\\\\\\\\\\\\\": {\\\\\\\\\\\\\"selectedColumn\\\\\\\\\\\\\": \\\\\\\\\\\\\"high_blood_pressure\\\\\\\\\\\\\"}}, \\\\\\\\\\\\\"typeProperty\\\\\\\\\\\\\": 2}, {\\\\\\\\\\\\\"column\\\\\\\\\\\\\": {\\\\\\\\\\\\\"type\\\\\\\\\\\\\": 2, \\\\\\\\\\\\\"details\\\\\\\\\\\\\": {\\\\\\\\\\\\\"selectedColumn\\\\\\\\\\\\\": \\\\\\\\\\\\\"platelets\\\\\\\\\\\\\"}}, \\\\\\\\\\\\\"typeProperty\\\\\\\\\\\\\": 3}, {\\\\\\\\\\\\\"column\\\\\\\\\\\\\": {\\\\\\\\\\\\\"type\\\\\\\\\\\\\": 2, \\\\\\\\\\\\\"details\\\\\\\\\\\\\": {\\\\\\\\\\\\\"selectedColumn\\\\\\\\\\\\\": \\\\\\\\\\\\\"serum_creatinine\\\\\\\\\\\\\"}}, \\\\\\\\\\\\\"typeProperty\\\\\\\\\\\\\": 3}, {\\\\\\\\\\\\\"column\\\\\\\\\\\\\": {\\\\\\\\\\\\\"type\\\\\\\\\\\\\": 2, \\\\\\\\\\\\\"details\\\\\\\\\\\\\": {\\\\\\\\\\\\\"selectedColumn\\\\\\\\\\\\\": \\\\\\\\\\\\\"serum_sodium\\\\\\\\\\\\\"}}, \\\\\\\\\\\\\"typeProperty\\\\\\\\\\\\\": 2}, {\\\\\\\\\\\\\"column\\\\\\\\\\\\\": {\\\\\\\\\\\\\"type\\\\\\\\\\\\\": 2, \\\\\\\\\\\\\"details\\\\\\\\\\\\\": {\\\\\\\\\\\\\"selectedColumn\\\\\\\\\\\\\": \\\\\\\\\\\\\"sex\\\\\\\\\\\\\"}}, \\\\\\\\\\\\\"typeProperty\\\\\\\\\\\\\": 2}, {\\\\\\\\\\\\\"column\\\\\\\\\\\\\": {\\\\\\\\\\\\\"type\\\\\\\\\\\\\": 2, \\\\\\\\\\\\\"details\\\\\\\\\\\\\": {\\\\\\\\\\\\\"selectedColumn\\\\\\\\\\\\\": \\\\\\\\\\\\\"smoking\\\\\\\\\\\\\"}}, \\\\\\\\\\\\\"typeProperty\\\\\\\\\\\\\": 2}, {\\\\\\\\\\\\\"column\\\\\\\\\\\\\": {\\\\\\\\\\\\\"type\\\\\\\\\\\\\": 2, \\\\\\\\\\\\\"details\\\\\\\\\\\\\": {\\\\\\\\\\\\\"selectedColumn\\\\\\\\\\\\\": \\\\\\\\\\\\\"time\\\\\\\\\\\\\"}}, \\\\\\\\\\\\\"typeProperty\\\\\\\\\\\\\": 2}, {\\\\\\\\\\\\\"column\\\\\\\\\\\\\": {\\\\\\\\\\\\\"type\\\\\\\\\\\\\": 2, \\\\\\\\\\\\\"details\\\\\\\\\\\\\": {\\\\\\\\\\\\\"selectedColumn\\\\\\\\\\\\\": \\\\\\\\\\\\\"DEATH_EVENT\\\\\\\\\\\\\"}}, \\\\\\\\\\\\\"typeProperty\\\\\\\\\\\\\": 2}]}, \\\\\\\\\\\\\"localData\\\\\\\\\\\\\": {}, \\\\\\\\\\\\\"isEnabled\\\\\\\\\\\\\": true, \\\\\\\\\\\\\"name\\\\\\\\\\\\\": null, \\\\\\\\\\\\\"annotation\\\\\\\\\\\\\": null}], \\\\\\\\\\\\\"inspectors\\\\\\\\\\\\\": [], \\\\\\\\\\\\\"meta\\\\\\\\\\\\\": {\\\\\\\\\\\\\"savedDatasetId\\\\\\\\\\\\\": \\\\\\\\\\\\\"ea4041d2-5637-4ae0-b344-1fe79cab2b24\\\\\\\\\\\\\", \\\\\\\\\\\\\"datasetType\\\\\\\\\\\\\": \\\\\\\\\\\\\"tabular\\\\\\\\\\\\\", \\\\\\\\\\\\\"subscriptionId\\\\\\\\\\\\\": \\\\\\\\\\\\\"81cefad3-d2c9-4f77-a466-99a7f541c7bb\\\\\\\\\\\\\", \\\\\\\\\\\\\"workspaceId\\\\\\\\\\\\\": \\\\\\\\\\\\\"4e30e686-22ea-470d-8c47-4e6a9776007d\\\\\\\\\\\\\", \\\\\\\\\\\\\"workspaceLocation\\\\\\\\\\\\\": \\\\\\\\\\\\\"southcentralus\\\\\\\\\\\\\"}}\\\\\", \\\\\"activities\\\\\": 0}',\n",
       "  'EnableSubsampling': 'False',\n",
       "  'runTemplate': 'AutoML',\n",
       "  'azureml.runsource': 'automl',\n",
       "  'display_task_type': 'classification',\n",
       "  'dependencies_versions': '{\"azureml-widgets\": \"1.19.0\", \"azureml-train\": \"1.19.0\", \"azureml-train-restclients-hyperdrive\": \"1.19.0\", \"azureml-train-core\": \"1.19.0\", \"azureml-train-automl\": \"1.19.0\", \"azureml-train-automl-runtime\": \"1.19.0\", \"azureml-train-automl-client\": \"1.19.0\", \"azureml-tensorboard\": \"1.19.0\", \"azureml-telemetry\": \"1.19.0\", \"azureml-sdk\": \"1.19.0\", \"azureml-samples\": \"0+unknown\", \"azureml-pipeline\": \"1.19.0\", \"azureml-pipeline-steps\": \"1.19.0\", \"azureml-pipeline-core\": \"1.19.0\", \"azureml-opendatasets\": \"1.19.0\", \"azureml-model-management-sdk\": \"1.0.1b6.post1\", \"azureml-mlflow\": \"1.19.0\", \"azureml-interpret\": \"1.19.0\", \"azureml-explain-model\": \"1.19.0\", \"azureml-defaults\": \"1.19.0\", \"azureml-dataset-runtime\": \"1.19.0.post1\", \"azureml-dataprep\": \"2.6.1\", \"azureml-dataprep-rslex\": \"1.4.0\", \"azureml-dataprep-native\": \"26.0.0\", \"azureml-datadrift\": \"1.19.0\", \"azureml-core\": \"1.19.0\", \"azureml-contrib-services\": \"1.19.0\", \"azureml-contrib-server\": \"1.19.0\", \"azureml-contrib-reinforcementlearning\": \"1.19.0\", \"azureml-contrib-pipeline-steps\": \"1.19.0\", \"azureml-contrib-notebook\": \"1.19.0\", \"azureml-contrib-interpret\": \"1.19.0\", \"azureml-contrib-gbdt\": \"1.19.0\", \"azureml-contrib-fairness\": \"1.19.0\", \"azureml-contrib-dataset\": \"1.19.0\", \"azureml-cli-common\": \"1.19.0\", \"azureml-automl-runtime\": \"1.19.0\", \"azureml-automl-core\": \"1.19.0\", \"azureml-accel-models\": \"1.19.0\"}',\n",
       "  '_aml_system_scenario_identification': 'Local.Parent',\n",
       "  'ClientSdkVersion': '1.19.0',\n",
       "  'ClientType': 'SDK',\n",
       "  'environment_cpu_name': 'AzureML-AutoML',\n",
       "  'environment_cpu_label': 'prod',\n",
       "  'environment_gpu_name': 'AzureML-AutoML-GPU',\n",
       "  'environment_gpu_label': 'prod',\n",
       "  'root_attribution': 'automl',\n",
       "  'attribution': 'AutoML',\n",
       "  'Orchestrator': 'AutoML',\n",
       "  '_azureml.ComputeTargetType': 'local',\n",
       "  'ProblemInfoJsonString': '{\"dataset_num_categorical\": 0, \"is_sparse\": false, \"subsampling\": false, \"dataset_classes\": 2, \"dataset_features\": 12, \"dataset_samples\": 299, \"single_frequency_class_detected\": false}',\n",
       "  'feature_skus': 'automatedml_sdk_guardrails'},\n",
       " 'inputDatasets': [{'dataset': {'id': 'ea4041d2-5637-4ae0-b344-1fe79cab2b24'}, 'consumptionDetails': {'type': 'RunInput', 'inputName': 'training_data', 'mechanism': 'Direct'}}],\n",
       " 'outputDatasets': [],\n",
       " 'logFiles': {}}"
      ]
     },
     "execution_count": 6,
     "metadata": {},
     "output_type": "execute_result"
    }
   ],
   "source": [
    "# TODO: Submit your experiment\n",
    "remote_run = experiment.submit(automl_config)\n",
    "RunDetails(remote_run).show()\n",
    "remote_run.wait_for_completion(show_output=False)"
   ]
  },
  {
   "cell_type": "markdown",
   "metadata": {},
   "source": [
    "## Best Model\n",
    "\n",
    "TODO: In the cell below, get the best model from the automl experiments and display all the properties of the model.\n",
    "\n"
   ]
  },
  {
   "cell_type": "code",
   "execution_count": 7,
   "metadata": {
    "gather": {
     "logged": 1610799071292
    },
    "jupyter": {
     "outputs_hidden": false,
     "source_hidden": false
    },
    "nteract": {
     "transient": {
      "deleting": false
     }
    }
   },
   "outputs": [
    {
     "name": "stdout",
     "output_type": "stream",
     "text": [
      "PreFittedSoftVotingClassifier(classification_labels=None,\n",
      "                              estimators=[('24',\n",
      "                                           Pipeline(memory=None,\n",
      "                                                    steps=[('robustscaler',\n",
      "                                                            RobustScaler(copy=True,\n",
      "                                                                         quantile_range=[25,\n",
      "                                                                                         75],\n",
      "                                                                         with_centering=True,\n",
      "                                                                         with_scaling=False)),\n",
      "                                                           ('extratreesclassifier',\n",
      "                                                            ExtraTreesClassifier(bootstrap=False,\n",
      "                                                                                 ccp_alpha=0.0,\n",
      "                                                                                 class_weight=None,\n",
      "                                                                                 criterion='entropy',\n",
      "                                                                                 max_depth=None,\n",
      "                                                                                 max_features=0.8...\n",
      "                                                                              objective='reg:logistic',\n",
      "                                                                              random_state=0,\n",
      "                                                                              reg_alpha=0,\n",
      "                                                                              reg_lambda=1.4583333333333335,\n",
      "                                                                              scale_pos_weight=1,\n",
      "                                                                              seed=None,\n",
      "                                                                              silent=None,\n",
      "                                                                              subsample=1,\n",
      "                                                                              tree_method='auto',\n",
      "                                                                              verbose=-10,\n",
      "                                                                              verbosity=0))],\n",
      "                                                    verbose=False))],\n",
      "                              flatten_transform=None,\n",
      "                              weights=[0.14285714285714285, 0.14285714285714285,\n",
      "                                       0.14285714285714285, 0.14285714285714285,\n",
      "                                       0.2857142857142857,\n",
      "                                       0.14285714285714285])\n"
     ]
    }
   ],
   "source": [
    "# Retrieve and save your best automl model.\n",
    "best_automl_run, best_model = remote_run.get_output()\n",
    "print(best_model._final_estimator)"
   ]
  },
  {
   "cell_type": "markdown",
   "metadata": {},
   "source": [
    "## Model Deployment\n",
    "\n",
    "Remember you have to deploy only one of the two models you trained.. Perform the steps in the rest of this notebook only if you wish to deploy this model.\n",
    "\n",
    "TODO: In the cell below, register the model, create an inference config and deploy the model as a web service."
   ]
  },
  {
   "cell_type": "code",
   "execution_count": 8,
   "metadata": {
    "gather": {
     "logged": 1610801256588
    },
    "jupyter": {
     "outputs_hidden": false,
     "source_hidden": false
    },
    "nteract": {
     "transient": {
      "deleting": false
     }
    }
   },
   "outputs": [
    {
     "data": {
      "text/plain": [
       "'outputs'"
      ]
     },
     "execution_count": 8,
     "metadata": {},
     "output_type": "execute_result"
    }
   ],
   "source": [
    "model = best_automl_run.register_model(model_name = \"best_run_automl.pkl\", model_path = './outputs/')\n",
    "model.download() # downlaod the model artifacts with the conda environment YAML file"
   ]
  },
  {
   "cell_type": "code",
   "execution_count": 9,
   "metadata": {
    "gather": {
     "logged": 1610802314941
    },
    "jupyter": {
     "outputs_hidden": false,
     "source_hidden": false
    },
    "nteract": {
     "transient": {
      "deleting": false
     }
    }
   },
   "outputs": [
    {
     "name": "stdout",
     "output_type": "stream",
     "text": [
      "Tips: You can try get_logs(): https://aka.ms/debugimage#dockerlog or local deployment: https://aka.ms/debugimage#debug-locally to debug if deployment takes longer than 10 minutes.\n",
      "Running.............................................................................................................................................................................................\n",
      "Succeeded\n",
      "ACI service creation operation finished, operation \"Succeeded\"\n"
     ]
    }
   ],
   "source": [
    "aci_config = AciWebservice.deploy_configuration(cpu_cores=1, memory_gb=1)\n",
    "environment = Environment.from_conda_specification('my-automl-environment', './outputs/conda_env_v_1_0_0.yml')\n",
    "inference_config = InferenceConfig(entry_script='score.py', environment=environment)\n",
    "\n",
    "service = model.deploy(\n",
    "    workspace=ws,\n",
    "    name=\"automl-deploy-1\",\n",
    "    models=[model],\n",
    "    inference_config=inference_config,\n",
    "    deployment_config=aci_config,\n",
    "    overwrite=True\n",
    ")\n",
    "service.wait_for_deployment(show_output=True)"
   ]
  },
  {
   "cell_type": "code",
   "execution_count": 10,
   "metadata": {
    "gather": {
     "logged": 1610802927303
    },
    "jupyter": {
     "outputs_hidden": false,
     "source_hidden": false
    },
    "nteract": {
     "transient": {
      "deleting": false
     }
    }
   },
   "outputs": [],
   "source": [
    "service.update(enable_app_insights=True)"
   ]
  },
  {
   "cell_type": "markdown",
   "metadata": {
    "collapsed": true,
    "gather": {
     "logged": 1598431657736
    },
    "jupyter": {
     "outputs_hidden": false,
     "source_hidden": false
    },
    "nteract": {
     "transient": {
      "deleting": false
     }
    }
   },
   "source": [
    "TODO: In the cell below, send a request to the web service you deployed to test it."
   ]
  },
  {
   "cell_type": "code",
   "execution_count": 11,
   "metadata": {
    "gather": {
     "logged": 1610802937408
    },
    "jupyter": {
     "outputs_hidden": false,
     "source_hidden": false
    },
    "nteract": {
     "transient": {
      "deleting": false
     }
    }
   },
   "outputs": [
    {
     "name": "stdout",
     "output_type": "stream",
     "text": [
      "{'age': 75.0, 'anaemia': 0.0, 'creatinine_phosphokinase': 582.0, 'diabetes': 0.0, 'ejection_fraction': 20.0, 'high_blood_pressure': 1.0, 'platelets': 265000.0, 'serum_creatinine': 1.9, 'serum_sodium': 130.0, 'sex': 1.0, 'smoking': 0.0, 'time': 4.0}\n"
     ]
    }
   ],
   "source": [
    "ROW_ID = 0\n",
    "x = heart_failure.iloc[ROW_ID, :-1].to_dict()\n",
    "y = heart_failure.iloc[ROW_ID, -1]\n",
    "print(x)"
   ]
  },
  {
   "cell_type": "code",
   "execution_count": 12,
   "metadata": {
    "gather": {
     "logged": 1610802943115
    },
    "jupyter": {
     "outputs_hidden": false,
     "source_hidden": false
    },
    "nteract": {
     "transient": {
      "deleting": false
     }
    }
   },
   "outputs": [
    {
     "name": "stdout",
     "output_type": "stream",
     "text": [
      "Predicted: [1]\n",
      "Expected: 1\n"
     ]
    }
   ],
   "source": [
    "import json\n",
    "import numpy as np\n",
    "input_payload = json.dumps({\n",
    "    'data': x\n",
    "})\n",
    "\n",
    "output = service.run(input_payload)\n",
    "print(f\"Predicted: {output}\\nExpected: {y}\")"
   ]
  },
  {
   "cell_type": "markdown",
   "metadata": {
    "collapsed": true,
    "gather": {
     "logged": 1598432765711
    },
    "jupyter": {
     "outputs_hidden": false,
     "source_hidden": false
    },
    "nteract": {
     "transient": {
      "deleting": false
     }
    }
   },
   "source": [
    "TODO: In the cell below, print the logs of the web service and delete the service"
   ]
  },
  {
   "cell_type": "code",
   "execution_count": 13,
   "metadata": {
    "gather": {
     "logged": 1610802955569
    },
    "jupyter": {
     "outputs_hidden": false,
     "source_hidden": false
    },
    "nteract": {
     "transient": {
      "deleting": false
     }
    }
   },
   "outputs": [
    {
     "name": "stdout",
     "output_type": "stream",
     "text": [
      "2021-01-16T13:04:48,807119800+00:00 - gunicorn/run \n",
      "2021-01-16T13:04:48,819626200+00:00 - rsyslog/run \n",
      "2021-01-16T13:04:48,834510800+00:00 - iot-server/run \n",
      "2021-01-16T13:04:48,849760900+00:00 - nginx/run \n",
      "/usr/sbin/nginx: /azureml-envs/azureml_9c539d20199ae6be65c41c0382029684/lib/libcrypto.so.1.0.0: no version information available (required by /usr/sbin/nginx)\n",
      "/usr/sbin/nginx: /azureml-envs/azureml_9c539d20199ae6be65c41c0382029684/lib/libcrypto.so.1.0.0: no version information available (required by /usr/sbin/nginx)\n",
      "/usr/sbin/nginx: /azureml-envs/azureml_9c539d20199ae6be65c41c0382029684/lib/libssl.so.1.0.0: no version information available (required by /usr/sbin/nginx)\n",
      "/usr/sbin/nginx: /azureml-envs/azureml_9c539d20199ae6be65c41c0382029684/lib/libssl.so.1.0.0: no version information available (required by /usr/sbin/nginx)\n",
      "/usr/sbin/nginx: /azureml-envs/azureml_9c539d20199ae6be65c41c0382029684/lib/libssl.so.1.0.0: no version information available (required by /usr/sbin/nginx)\n",
      "rsyslogd: /azureml-envs/azureml_9c539d20199ae6be65c41c0382029684/lib/libuuid.so.1: no version information available (required by rsyslogd)\n",
      "EdgeHubConnectionString and IOTEDGE_IOTHUBHOSTNAME are not set. Exiting...\n",
      "2021-01-16T13:04:50,812509200+00:00 - iot-server/finish 1 0\n",
      "2021-01-16T13:04:50,822057900+00:00 - Exit code 1 is normal. Not restarting iot-server.\n",
      "Starting gunicorn 19.9.0\n",
      "Listening at: http://127.0.0.1:31311 (66)\n",
      "Using worker: sync\n",
      "worker timeout is set to 300\n",
      "Booting worker with pid: 98\n",
      "SPARK_HOME not set. Skipping PySpark Initialization.\n",
      "Generating new fontManager, this may take some time...\n",
      "Initializing logger\n",
      "2021-01-16 13:05:04,072 | root | INFO | Starting up app insights client\n",
      "Starting up app insights client\n",
      "2021-01-16 13:05:04,072 | root | INFO | Starting up request id generator\n",
      "Starting up request id generator\n",
      "2021-01-16 13:05:04,072 | root | INFO | Starting up app insight hooks\n",
      "Starting up app insight hooks\n",
      "2021-01-16 13:05:04,073 | root | INFO | Invoking user's init function\n",
      "Invoking user's init function\n",
      "model initialized13:05:04\n",
      "2021-01-16 13:05:09,075 | root | INFO | Users's init has completed successfully\n",
      "Users's init has completed successfully\n",
      "/azureml-envs/azureml_9c539d20199ae6be65c41c0382029684/lib/python3.6/site-packages/sklearn/externals/joblib/__init__.py:15: FutureWarning: sklearn.externals.joblib is deprecated in 0.21 and will be removed in 0.23. Please import this functionality directly from joblib, which can be installed with: pip install joblib. If this warning is raised when loading pickled models, you may need to re-serialize those models with scikit-learn 0.21+.\n",
      "  warnings.warn(msg, category=FutureWarning)\n",
      "2021-01-16 13:05:09,083 | root | INFO | Skipping middleware: dbg_model_info as it's not enabled.\n",
      "Skipping middleware: dbg_model_info as it's not enabled.\n",
      "2021-01-16 13:05:09,083 | root | INFO | Skipping middleware: dbg_resource_usage as it's not enabled.\n",
      "Skipping middleware: dbg_resource_usage as it's not enabled.\n",
      "2021-01-16 13:05:09,087 | root | INFO | Scoring timeout is found from os.environ: 60000 ms\n",
      "Scoring timeout is found from os.environ: 60000 ms\n",
      "2021-01-16 13:05:10,754 | root | INFO | Swagger file not present\n",
      "Swagger file not present\n",
      "2021-01-16 13:05:10,755 | root | INFO | 404\n",
      "404\n",
      "127.0.0.1 - - [16/Jan/2021:13:05:10 +0000] \"GET /swagger.json HTTP/1.0\" 404 19 \"-\" \"Go-http-client/1.1\"\n",
      "2021-01-16 13:05:14,071 | root | INFO | Swagger file not present\n",
      "Swagger file not present\n",
      "2021-01-16 13:05:14,071 | root | INFO | 404\n",
      "404\n",
      "127.0.0.1 - - [16/Jan/2021:13:05:14 +0000] \"GET /swagger.json HTTP/1.0\" 404 19 \"-\" \"Go-http-client/1.1\"\n",
      "2021-01-16 13:09:33,880 | root | INFO | Swagger file not present\n",
      "Swagger file not present\n",
      "2021-01-16 13:09:33,881 | root | INFO | 404\n",
      "404\n",
      "127.0.0.1 - - [16/Jan/2021:13:09:33 +0000] \"GET /swagger.json HTTP/1.0\" 404 19 \"-\" \"Go-http-client/1.1\"\n",
      "2021-01-16 13:15:26,449 | root | INFO | Swagger file not present\n",
      "Swagger file not present\n",
      "2021-01-16 13:15:26,450 | root | INFO | 404\n",
      "404\n",
      "127.0.0.1 - - [16/Jan/2021:13:15:26 +0000] \"GET /swagger.json HTTP/1.0\" 404 19 \"-\" \"Go-http-client/1.1\"\n",
      "2021-01-16 13:15:41,852 | root | INFO | Validation Request Content-Type\n",
      "Validation Request Content-Type\n",
      "2021-01-16 13:15:41,853 | root | INFO | \tHost: localhost:5001\n",
      "\tHost: localhost:5001\n",
      "2021-01-16 13:15:41,853 | root | INFO | \tX-Real-Ip: 127.0.0.1\n",
      "\tX-Real-Ip: 127.0.0.1\n",
      "2021-01-16 13:15:41,854 | root | INFO | \tX-Forwarded-For: 127.0.0.1\n",
      "\tX-Forwarded-For: 127.0.0.1\n",
      "2021-01-16 13:15:41,854 | root | INFO | \tX-Forwarded-Proto: http\n",
      "\tX-Forwarded-Proto: http\n",
      "2021-01-16 13:15:41,854 | root | INFO | \tConnection: close\n",
      "\tConnection: close\n",
      "2021-01-16 13:15:41,854 | root | INFO | \tContent-Length: 258\n",
      "\tContent-Length: 258\n",
      "2021-01-16 13:15:41,854 | root | INFO | \tUser-Agent: python-requests/2.25.0\n",
      "\tUser-Agent: python-requests/2.25.0\n",
      "2021-01-16 13:15:41,854 | root | INFO | \tAccept: application/json\n",
      "\tAccept: application/json\n",
      "2021-01-16 13:15:41,854 | root | INFO | \tAccept-Encoding: gzip, deflate\n",
      "\tAccept-Encoding: gzip, deflate\n",
      "2021-01-16 13:15:41,856 | root | INFO | \tContent-Type: application/json\n",
      "\tContent-Type: application/json\n",
      "2021-01-16 13:15:41,856 | root | INFO | \tX-Ms-Request-Id: 76c3c4a7-2eab-458b-9cb8-f84377be7d6a\n",
      "\tX-Ms-Request-Id: 76c3c4a7-2eab-458b-9cb8-f84377be7d6a\n",
      "2021-01-16 13:15:41,858 | root | INFO | Scoring Timer is set to 60.0 seconds\n",
      "Scoring Timer is set to 60.0 seconds\n",
      "{\"input\": {\"data\": {\"age\": 75.0, \"anaemia\": 0.0, \"creatinine_phosphokinase\": 582.0, \"diabetes\": 0.0, \"ejection_fraction\": 20.0, \"high_blood_pressure\": 1.0, \"platelets\": 265000.0, \"serum_creatinine\": 1.9, \"serum_sodium\": 130.0, \"sex\": 1.0, \"smoking\": 0.0, \"time\": 4.0}}, \"output\": [1]}\n",
      "2021-01-16 13:15:42,444 | root | INFO | 200\n",
      "200\n",
      "127.0.0.1 - - [16/Jan/2021:13:15:42 +0000] \"POST /score HTTP/1.0\" 200 3 \"-\" \"python-requests/2.25.0\"\n",
      "\n"
     ]
    }
   ],
   "source": [
    "logs = service.get_logs()\n",
    "print(logs)\n"
   ]
  },
  {
   "cell_type": "code",
   "execution_count": 21,
   "metadata": {},
   "outputs": [],
   "source": [
    "service.delete()"
   ]
  },
  {
   "cell_type": "code",
   "execution_count": null,
   "metadata": {},
   "outputs": [],
   "source": []
  }
 ],
 "metadata": {
  "kernel_info": {
   "name": "python3-azureml"
  },
  "kernelspec": {
   "display_name": "Python 3.6 - AzureML",
   "language": "python",
   "name": "python3-azureml"
  },
  "language_info": {
   "codemirror_mode": {
    "name": "ipython",
    "version": 3
   },
   "file_extension": ".py",
   "mimetype": "text/x-python",
   "name": "python",
   "nbconvert_exporter": "python",
   "pygments_lexer": "ipython3",
   "version": "3.6.9"
  },
  "nteract": {
   "version": "nteract-front-end@1.0.0"
  }
 },
 "nbformat": 4,
 "nbformat_minor": 2
}
