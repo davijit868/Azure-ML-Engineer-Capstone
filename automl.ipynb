{
 "cells": [
  {
   "cell_type": "markdown",
   "metadata": {},
   "source": [
    "# Automated ML\n",
    "\n",
    "TODO: Import Dependencies. In the cell below, import all the dependencies that you will need to complete the project."
   ]
  },
  {
   "cell_type": "code",
   "execution_count": 10,
   "metadata": {
    "gather": {
     "logged": 1610797789348
    },
    "jupyter": {
     "outputs_hidden": false,
     "source_hidden": false
    },
    "nteract": {
     "transient": {
      "deleting": false
     }
    }
   },
   "outputs": [],
   "source": [
    "import sklearn\n",
    "\n",
    "from azureml.core import Dataset, Environment, Experiment, Workspace\n",
    "from azureml.core.conda_dependencies import CondaDependencies\n",
    "from azureml.core.model import InferenceConfig\n",
    "from azureml.core.webservice import AciWebservice\n",
    "from azureml.train.automl import AutoMLConfig\n",
    "from azureml.widgets import RunDetails\n",
    "from pprint import pprint"
   ]
  },
  {
   "cell_type": "markdown",
   "metadata": {},
   "source": [
    "## Dataset\n",
    "\n",
    "### Overview\n",
    "TODO: In this markdown cell, give an overview of the dataset you are using. Also mention the task you will be performing.\n",
    "\n",
    "\n",
    "TODO: Get data. In the cell below, write code to access the data you will be using in this project. Remember that the dataset needs to be external."
   ]
  },
  {
   "cell_type": "code",
   "execution_count": 2,
   "metadata": {
    "gather": {
     "logged": 1610797855835
    },
    "jupyter": {
     "outputs_hidden": false,
     "source_hidden": false
    },
    "nteract": {
     "transient": {
      "deleting": false
     }
    }
   },
   "outputs": [],
   "source": [
    "ws = Workspace.from_config()\n",
    "\n",
    "# choose a name for experiment\n",
    "experiment_name = 'automl-experiment'\n",
    "\n",
    "experiment=Experiment(ws, experiment_name)"
   ]
  },
  {
   "cell_type": "code",
   "execution_count": 3,
   "metadata": {
    "gather": {
     "logged": 1610797882225
    },
    "jupyter": {
     "outputs_hidden": false,
     "source_hidden": false
    },
    "nteract": {
     "transient": {
      "deleting": false
     }
    }
   },
   "outputs": [
    {
     "data": {
      "text/html": [
       "<div>\n",
       "<style scoped>\n",
       "    .dataframe tbody tr th:only-of-type {\n",
       "        vertical-align: middle;\n",
       "    }\n",
       "\n",
       "    .dataframe tbody tr th {\n",
       "        vertical-align: top;\n",
       "    }\n",
       "\n",
       "    .dataframe thead th {\n",
       "        text-align: right;\n",
       "    }\n",
       "</style>\n",
       "<table border=\"1\" class=\"dataframe\">\n",
       "  <thead>\n",
       "    <tr style=\"text-align: right;\">\n",
       "      <th></th>\n",
       "      <th>age</th>\n",
       "      <th>anaemia</th>\n",
       "      <th>creatinine_phosphokinase</th>\n",
       "      <th>diabetes</th>\n",
       "      <th>ejection_fraction</th>\n",
       "      <th>high_blood_pressure</th>\n",
       "      <th>platelets</th>\n",
       "      <th>serum_creatinine</th>\n",
       "      <th>serum_sodium</th>\n",
       "      <th>sex</th>\n",
       "      <th>smoking</th>\n",
       "      <th>time</th>\n",
       "      <th>DEATH_EVENT</th>\n",
       "    </tr>\n",
       "  </thead>\n",
       "  <tbody>\n",
       "    <tr>\n",
       "      <th>0</th>\n",
       "      <td>75.0</td>\n",
       "      <td>0</td>\n",
       "      <td>582</td>\n",
       "      <td>0</td>\n",
       "      <td>20</td>\n",
       "      <td>1</td>\n",
       "      <td>265000.00</td>\n",
       "      <td>1.9</td>\n",
       "      <td>130</td>\n",
       "      <td>1</td>\n",
       "      <td>0</td>\n",
       "      <td>4</td>\n",
       "      <td>1</td>\n",
       "    </tr>\n",
       "    <tr>\n",
       "      <th>1</th>\n",
       "      <td>55.0</td>\n",
       "      <td>0</td>\n",
       "      <td>7861</td>\n",
       "      <td>0</td>\n",
       "      <td>38</td>\n",
       "      <td>0</td>\n",
       "      <td>263358.03</td>\n",
       "      <td>1.1</td>\n",
       "      <td>136</td>\n",
       "      <td>1</td>\n",
       "      <td>0</td>\n",
       "      <td>6</td>\n",
       "      <td>1</td>\n",
       "    </tr>\n",
       "    <tr>\n",
       "      <th>2</th>\n",
       "      <td>65.0</td>\n",
       "      <td>0</td>\n",
       "      <td>146</td>\n",
       "      <td>0</td>\n",
       "      <td>20</td>\n",
       "      <td>0</td>\n",
       "      <td>162000.00</td>\n",
       "      <td>1.3</td>\n",
       "      <td>129</td>\n",
       "      <td>1</td>\n",
       "      <td>1</td>\n",
       "      <td>7</td>\n",
       "      <td>1</td>\n",
       "    </tr>\n",
       "  </tbody>\n",
       "</table>\n",
       "</div>"
      ],
      "text/plain": [
       "    age  anaemia  creatinine_phosphokinase  diabetes  ejection_fraction  \\\n",
       "0  75.0        0                       582         0                 20   \n",
       "1  55.0        0                      7861         0                 38   \n",
       "2  65.0        0                       146         0                 20   \n",
       "\n",
       "   high_blood_pressure  platelets  serum_creatinine  serum_sodium  sex  \\\n",
       "0                    1  265000.00               1.9           130    1   \n",
       "1                    0  263358.03               1.1           136    1   \n",
       "2                    0  162000.00               1.3           129    1   \n",
       "\n",
       "   smoking  time  DEATH_EVENT  \n",
       "0        0     4            1  \n",
       "1        0     6            1  \n",
       "2        1     7            1  "
      ]
     },
     "execution_count": 3,
     "metadata": {},
     "output_type": "execute_result"
    }
   ],
   "source": [
    "# create a TabularDataset from a dataset\n",
    "\n",
    "dataset = Dataset.get_by_name(ws, name='heart-failure')\n",
    "heart_failure = dataset.to_pandas_dataframe()\n",
    "\n",
    "# preview the first 3 rows of the dataset\n",
    "heart_failure.head(3)"
   ]
  },
  {
   "cell_type": "markdown",
   "metadata": {},
   "source": [
    "## AutoML Configuration\n",
    "\n",
    "TODO: Explain why you chose the automl settings and cofiguration you used below."
   ]
  },
  {
   "cell_type": "code",
   "execution_count": 4,
   "metadata": {
    "gather": {
     "logged": 1610797928426
    },
    "jupyter": {
     "outputs_hidden": false,
     "source_hidden": false
    },
    "nteract": {
     "transient": {
      "deleting": false
     }
    }
   },
   "outputs": [],
   "source": [
    "automl_settings = {\n",
    "    \"task\": 'classification',\n",
    "    \"iterations\": 30,\n",
    "    \"experiment_timeout_minutes\": 15,\n",
    "    \"primary_metric\": 'accuracy',\n",
    "    \"training_data\": dataset,\n",
    "    \"label_column_name\": 'DEATH_EVENT',\n",
    "    \"n_cross_validations\": 5,\n",
    "    \"max_concurrent_iterations\": 8,\n",
    "    \"max_cores_per_iteration\": -1\n",
    "}\n",
    "\n",
    "# TODO: Put your automl config here\n",
    "automl_config = AutoMLConfig(**automl_settings)"
   ]
  },
  {
   "cell_type": "markdown",
   "metadata": {},
   "source": [
    "## Run Details\n",
    "\n",
    "OPTIONAL: Write about the different models trained and their performance. Why do you think some models did better than others?\n",
    "\n",
    "TODO: In the cell below, use the `RunDetails` widget to show the different experiments."
   ]
  },
  {
   "cell_type": "code",
   "execution_count": 5,
   "metadata": {
    "gather": {
     "logged": 1610798995983
    },
    "jupyter": {
     "outputs_hidden": false,
     "source_hidden": false
    },
    "nteract": {
     "transient": {
      "deleting": false
     }
    },
    "scrolled": false
   },
   "outputs": [
    {
     "name": "stderr",
     "output_type": "stream",
     "text": [
      "WARNING:root:Running on local machine. Note that local runs always run synchronously even if you use the parameter 'show_output=False'\n"
     ]
    },
    {
     "data": {
      "application/vnd.jupyter.widget-view+json": {
       "model_id": "3eadc6b92d47471591ae6eb799eef419",
       "version_major": 2,
       "version_minor": 0
      },
      "text/plain": [
       "_AutoMLWidget(widget_settings={'childWidgetDisplay': 'popup', 'send_telemetry': False, 'log_level': 'INFO', 's…"
      ]
     },
     "metadata": {},
     "output_type": "display_data"
    },
    {
     "data": {
      "application/aml.mini.widget.v1": "{\"status\": \"Completed\", \"workbench_run_details_uri\": \"https://ml.azure.com/experiments/automl-experiment/runs/AutoML_194d8a33-aa09-4f40-82c8-91889e31058d?wsid=/subscriptions/a24a24d5-8d87-4c8a-99b6-91ed2d2df51f/resourcegroups/aml-quickstarts-136576/workspaces/quick-starts-ws-136576\", \"run_id\": \"AutoML_194d8a33-aa09-4f40-82c8-91889e31058d\", \"run_properties\": {\"run_id\": \"AutoML_194d8a33-aa09-4f40-82c8-91889e31058d\", \"created_utc\": \"2021-01-30T10:37:36.679939Z\", \"properties\": {\"num_iterations\": \"30\", \"training_type\": \"TrainFull\", \"acquisition_function\": \"EI\", \"primary_metric\": \"accuracy\", \"train_split\": \"0\", \"acquisition_parameter\": \"0\", \"num_cross_validation\": \"5\", \"target\": \"local\", \"AMLSettingsJsonString\": \"{\\\"path\\\":null,\\\"name\\\":\\\"automl-experiment\\\",\\\"subscription_id\\\":\\\"a24a24d5-8d87-4c8a-99b6-91ed2d2df51f\\\",\\\"resource_group\\\":\\\"aml-quickstarts-136576\\\",\\\"workspace_name\\\":\\\"quick-starts-ws-136576\\\",\\\"region\\\":\\\"southcentralus\\\",\\\"compute_target\\\":\\\"local\\\",\\\"spark_service\\\":null,\\\"azure_service\\\":\\\"Microsoft.AzureNotebookVM\\\",\\\"many_models\\\":false,\\\"pipeline_fetch_max_batch_size\\\":1,\\\"iterations\\\":30,\\\"primary_metric\\\":\\\"accuracy\\\",\\\"task_type\\\":\\\"classification\\\",\\\"data_script\\\":null,\\\"validation_size\\\":0.0,\\\"n_cross_validations\\\":5,\\\"y_min\\\":null,\\\"y_max\\\":null,\\\"num_classes\\\":2,\\\"featurization\\\":\\\"auto\\\",\\\"_ignore_package_version_incompatibilities\\\":false,\\\"is_timeseries\\\":false,\\\"max_cores_per_iteration\\\":-1,\\\"max_concurrent_iterations\\\":8,\\\"iteration_timeout_minutes\\\":null,\\\"mem_in_mb\\\":null,\\\"enforce_time_on_windows\\\":false,\\\"experiment_timeout_minutes\\\":15,\\\"experiment_exit_score\\\":null,\\\"whitelist_models\\\":null,\\\"blacklist_algos\\\":[\\\"TensorFlowLinearClassifier\\\",\\\"TensorFlowDNN\\\"],\\\"supported_models\\\":[\\\"TensorFlowDNN\\\",\\\"MultinomialNaiveBayes\\\",\\\"AveragedPerceptronClassifier\\\",\\\"SGD\\\",\\\"LogisticRegression\\\",\\\"XGBoostClassifier\\\",\\\"LightGBM\\\",\\\"GradientBoosting\\\",\\\"BernoulliNaiveBayes\\\",\\\"TensorFlowLinearClassifier\\\",\\\"KNN\\\",\\\"ExtremeRandomTrees\\\",\\\"RandomForest\\\",\\\"SVM\\\",\\\"LinearSVM\\\",\\\"DecisionTree\\\"],\\\"auto_blacklist\\\":true,\\\"blacklist_samples_reached\\\":false,\\\"exclude_nan_labels\\\":true,\\\"verbosity\\\":20,\\\"_debug_log\\\":\\\"automl.log\\\",\\\"show_warnings\\\":false,\\\"model_explainability\\\":true,\\\"service_url\\\":null,\\\"sdk_url\\\":null,\\\"sdk_packages\\\":null,\\\"enable_onnx_compatible_models\\\":false,\\\"enable_split_onnx_featurizer_estimator_models\\\":false,\\\"vm_type\\\":null,\\\"telemetry_verbosity\\\":20,\\\"send_telemetry\\\":true,\\\"enable_dnn\\\":false,\\\"scenario\\\":\\\"SDK-1.13.0\\\",\\\"environment_label\\\":null,\\\"force_text_dnn\\\":false,\\\"enable_feature_sweeping\\\":true,\\\"enable_early_stopping\\\":false,\\\"early_stopping_n_iters\\\":10,\\\"metrics\\\":null,\\\"enable_ensembling\\\":true,\\\"enable_stack_ensembling\\\":true,\\\"ensemble_iterations\\\":15,\\\"enable_tf\\\":false,\\\"enable_subsampling\\\":false,\\\"subsample_seed\\\":null,\\\"enable_nimbusml\\\":false,\\\"enable_streaming\\\":false,\\\"force_streaming\\\":false,\\\"track_child_runs\\\":true,\\\"allowed_private_models\\\":[],\\\"label_column_name\\\":\\\"DEATH_EVENT\\\",\\\"weight_column_name\\\":null,\\\"cv_split_column_names\\\":null,\\\"enable_local_managed\\\":false,\\\"_local_managed_run_id\\\":null,\\\"cost_mode\\\":1,\\\"lag_length\\\":0,\\\"metric_operation\\\":\\\"maximize\\\",\\\"preprocess\\\":true}\", \"DataPrepJsonString\": \"{\\\\\\\"training_data\\\\\\\": \\\\\\\"{\\\\\\\\\\\\\\\"blocks\\\\\\\\\\\\\\\": [{\\\\\\\\\\\\\\\"id\\\\\\\\\\\\\\\": \\\\\\\\\\\\\\\"6ff3cfdf-eea9-4906-ad08-1f9031823f35\\\\\\\\\\\\\\\", \\\\\\\\\\\\\\\"type\\\\\\\\\\\\\\\": \\\\\\\\\\\\\\\"Microsoft.DPrep.GetDatastoreFilesBlock\\\\\\\\\\\\\\\", \\\\\\\\\\\\\\\"arguments\\\\\\\\\\\\\\\": {\\\\\\\\\\\\\\\"datastores\\\\\\\\\\\\\\\": [{\\\\\\\\\\\\\\\"datastoreName\\\\\\\\\\\\\\\": \\\\\\\\\\\\\\\"workspaceblobstore\\\\\\\\\\\\\\\", \\\\\\\\\\\\\\\"path\\\\\\\\\\\\\\\": \\\\\\\\\\\\\\\"UI/01-30-2021_095541_UTC/heart_failure_clinical_records_dataset.csv\\\\\\\\\\\\\\\", \\\\\\\\\\\\\\\"resourceGroup\\\\\\\\\\\\\\\": \\\\\\\\\\\\\\\"aml-quickstarts-136576\\\\\\\\\\\\\\\", \\\\\\\\\\\\\\\"subscription\\\\\\\\\\\\\\\": \\\\\\\\\\\\\\\"a24a24d5-8d87-4c8a-99b6-91ed2d2df51f\\\\\\\\\\\\\\\", \\\\\\\\\\\\\\\"workspaceName\\\\\\\\\\\\\\\": \\\\\\\\\\\\\\\"quick-starts-ws-136576\\\\\\\\\\\\\\\"}]}, \\\\\\\\\\\\\\\"localData\\\\\\\\\\\\\\\": {}, \\\\\\\\\\\\\\\"isEnabled\\\\\\\\\\\\\\\": true, \\\\\\\\\\\\\\\"name\\\\\\\\\\\\\\\": null, \\\\\\\\\\\\\\\"annotation\\\\\\\\\\\\\\\": null}, {\\\\\\\\\\\\\\\"id\\\\\\\\\\\\\\\": \\\\\\\\\\\\\\\"27b10d70-5828-41f4-8429-316df021e224\\\\\\\\\\\\\\\", \\\\\\\\\\\\\\\"type\\\\\\\\\\\\\\\": \\\\\\\\\\\\\\\"Microsoft.DPrep.ParseDelimitedBlock\\\\\\\\\\\\\\\", \\\\\\\\\\\\\\\"arguments\\\\\\\\\\\\\\\": {\\\\\\\\\\\\\\\"columnHeadersMode\\\\\\\\\\\\\\\": 3, \\\\\\\\\\\\\\\"fileEncoding\\\\\\\\\\\\\\\": 0, \\\\\\\\\\\\\\\"handleQuotedLineBreaks\\\\\\\\\\\\\\\": false, \\\\\\\\\\\\\\\"preview\\\\\\\\\\\\\\\": false, \\\\\\\\\\\\\\\"separator\\\\\\\\\\\\\\\": \\\\\\\\\\\\\\\",\\\\\\\\\\\\\\\", \\\\\\\\\\\\\\\"skipRows\\\\\\\\\\\\\\\": 0, \\\\\\\\\\\\\\\"skipRowsMode\\\\\\\\\\\\\\\": 0}, \\\\\\\\\\\\\\\"localData\\\\\\\\\\\\\\\": {}, \\\\\\\\\\\\\\\"isEnabled\\\\\\\\\\\\\\\": true, \\\\\\\\\\\\\\\"name\\\\\\\\\\\\\\\": null, \\\\\\\\\\\\\\\"annotation\\\\\\\\\\\\\\\": null}, {\\\\\\\\\\\\\\\"id\\\\\\\\\\\\\\\": \\\\\\\\\\\\\\\"c35f2900-1239-4be5-ac9c-107b863635f9\\\\\\\\\\\\\\\", \\\\\\\\\\\\\\\"type\\\\\\\\\\\\\\\": \\\\\\\\\\\\\\\"Microsoft.DPrep.DropColumnsBlock\\\\\\\\\\\\\\\", \\\\\\\\\\\\\\\"arguments\\\\\\\\\\\\\\\": {\\\\\\\\\\\\\\\"columns\\\\\\\\\\\\\\\": {\\\\\\\\\\\\\\\"type\\\\\\\\\\\\\\\": 0, \\\\\\\\\\\\\\\"details\\\\\\\\\\\\\\\": {\\\\\\\\\\\\\\\"selectedColumns\\\\\\\\\\\\\\\": [\\\\\\\\\\\\\\\"Path\\\\\\\\\\\\\\\"]}}}, \\\\\\\\\\\\\\\"localData\\\\\\\\\\\\\\\": {}, \\\\\\\\\\\\\\\"isEnabled\\\\\\\\\\\\\\\": true, \\\\\\\\\\\\\\\"name\\\\\\\\\\\\\\\": null, \\\\\\\\\\\\\\\"annotation\\\\\\\\\\\\\\\": null}, {\\\\\\\\\\\\\\\"id\\\\\\\\\\\\\\\": \\\\\\\\\\\\\\\"d8267662-9c99-48aa-981d-87af84ac1af9\\\\\\\\\\\\\\\", \\\\\\\\\\\\\\\"type\\\\\\\\\\\\\\\": \\\\\\\\\\\\\\\"Microsoft.DPrep.SetColumnTypesBlock\\\\\\\\\\\\\\\", \\\\\\\\\\\\\\\"arguments\\\\\\\\\\\\\\\": {\\\\\\\\\\\\\\\"columnConversion\\\\\\\\\\\\\\\": [{\\\\\\\\\\\\\\\"column\\\\\\\\\\\\\\\": {\\\\\\\\\\\\\\\"type\\\\\\\\\\\\\\\": 2, \\\\\\\\\\\\\\\"details\\\\\\\\\\\\\\\": {\\\\\\\\\\\\\\\"selectedColumn\\\\\\\\\\\\\\\": \\\\\\\\\\\\\\\"Path\\\\\\\\\\\\\\\"}}, \\\\\\\\\\\\\\\"typeProperty\\\\\\\\\\\\\\\": 0}, {\\\\\\\\\\\\\\\"column\\\\\\\\\\\\\\\": {\\\\\\\\\\\\\\\"type\\\\\\\\\\\\\\\": 2, \\\\\\\\\\\\\\\"details\\\\\\\\\\\\\\\": {\\\\\\\\\\\\\\\"selectedColumn\\\\\\\\\\\\\\\": \\\\\\\\\\\\\\\"age\\\\\\\\\\\\\\\"}}, \\\\\\\\\\\\\\\"typeProperty\\\\\\\\\\\\\\\": 3}, {\\\\\\\\\\\\\\\"column\\\\\\\\\\\\\\\": {\\\\\\\\\\\\\\\"type\\\\\\\\\\\\\\\": 2, \\\\\\\\\\\\\\\"details\\\\\\\\\\\\\\\": {\\\\\\\\\\\\\\\"selectedColumn\\\\\\\\\\\\\\\": \\\\\\\\\\\\\\\"anaemia\\\\\\\\\\\\\\\"}}, \\\\\\\\\\\\\\\"typeProperty\\\\\\\\\\\\\\\": 2}, {\\\\\\\\\\\\\\\"column\\\\\\\\\\\\\\\": {\\\\\\\\\\\\\\\"type\\\\\\\\\\\\\\\": 2, \\\\\\\\\\\\\\\"details\\\\\\\\\\\\\\\": {\\\\\\\\\\\\\\\"selectedColumn\\\\\\\\\\\\\\\": \\\\\\\\\\\\\\\"creatinine_phosphokinase\\\\\\\\\\\\\\\"}}, \\\\\\\\\\\\\\\"typeProperty\\\\\\\\\\\\\\\": 2}, {\\\\\\\\\\\\\\\"column\\\\\\\\\\\\\\\": {\\\\\\\\\\\\\\\"type\\\\\\\\\\\\\\\": 2, \\\\\\\\\\\\\\\"details\\\\\\\\\\\\\\\": {\\\\\\\\\\\\\\\"selectedColumn\\\\\\\\\\\\\\\": \\\\\\\\\\\\\\\"diabetes\\\\\\\\\\\\\\\"}}, \\\\\\\\\\\\\\\"typeProperty\\\\\\\\\\\\\\\": 2}, {\\\\\\\\\\\\\\\"column\\\\\\\\\\\\\\\": {\\\\\\\\\\\\\\\"type\\\\\\\\\\\\\\\": 2, \\\\\\\\\\\\\\\"details\\\\\\\\\\\\\\\": {\\\\\\\\\\\\\\\"selectedColumn\\\\\\\\\\\\\\\": \\\\\\\\\\\\\\\"ejection_fraction\\\\\\\\\\\\\\\"}}, \\\\\\\\\\\\\\\"typeProperty\\\\\\\\\\\\\\\": 2}, {\\\\\\\\\\\\\\\"column\\\\\\\\\\\\\\\": {\\\\\\\\\\\\\\\"type\\\\\\\\\\\\\\\": 2, \\\\\\\\\\\\\\\"details\\\\\\\\\\\\\\\": {\\\\\\\\\\\\\\\"selectedColumn\\\\\\\\\\\\\\\": \\\\\\\\\\\\\\\"high_blood_pressure\\\\\\\\\\\\\\\"}}, \\\\\\\\\\\\\\\"typeProperty\\\\\\\\\\\\\\\": 2}, {\\\\\\\\\\\\\\\"column\\\\\\\\\\\\\\\": {\\\\\\\\\\\\\\\"type\\\\\\\\\\\\\\\": 2, \\\\\\\\\\\\\\\"details\\\\\\\\\\\\\\\": {\\\\\\\\\\\\\\\"selectedColumn\\\\\\\\\\\\\\\": \\\\\\\\\\\\\\\"platelets\\\\\\\\\\\\\\\"}}, \\\\\\\\\\\\\\\"typeProperty\\\\\\\\\\\\\\\": 3}, {\\\\\\\\\\\\\\\"column\\\\\\\\\\\\\\\": {\\\\\\\\\\\\\\\"type\\\\\\\\\\\\\\\": 2, \\\\\\\\\\\\\\\"details\\\\\\\\\\\\\\\": {\\\\\\\\\\\\\\\"selectedColumn\\\\\\\\\\\\\\\": \\\\\\\\\\\\\\\"serum_creatinine\\\\\\\\\\\\\\\"}}, \\\\\\\\\\\\\\\"typeProperty\\\\\\\\\\\\\\\": 3}, {\\\\\\\\\\\\\\\"column\\\\\\\\\\\\\\\": {\\\\\\\\\\\\\\\"type\\\\\\\\\\\\\\\": 2, \\\\\\\\\\\\\\\"details\\\\\\\\\\\\\\\": {\\\\\\\\\\\\\\\"selectedColumn\\\\\\\\\\\\\\\": \\\\\\\\\\\\\\\"serum_sodium\\\\\\\\\\\\\\\"}}, \\\\\\\\\\\\\\\"typeProperty\\\\\\\\\\\\\\\": 2}, {\\\\\\\\\\\\\\\"column\\\\\\\\\\\\\\\": {\\\\\\\\\\\\\\\"type\\\\\\\\\\\\\\\": 2, \\\\\\\\\\\\\\\"details\\\\\\\\\\\\\\\": {\\\\\\\\\\\\\\\"selectedColumn\\\\\\\\\\\\\\\": \\\\\\\\\\\\\\\"sex\\\\\\\\\\\\\\\"}}, \\\\\\\\\\\\\\\"typeProperty\\\\\\\\\\\\\\\": 2}, {\\\\\\\\\\\\\\\"column\\\\\\\\\\\\\\\": {\\\\\\\\\\\\\\\"type\\\\\\\\\\\\\\\": 2, \\\\\\\\\\\\\\\"details\\\\\\\\\\\\\\\": {\\\\\\\\\\\\\\\"selectedColumn\\\\\\\\\\\\\\\": \\\\\\\\\\\\\\\"smoking\\\\\\\\\\\\\\\"}}, \\\\\\\\\\\\\\\"typeProperty\\\\\\\\\\\\\\\": 2}, {\\\\\\\\\\\\\\\"column\\\\\\\\\\\\\\\": {\\\\\\\\\\\\\\\"type\\\\\\\\\\\\\\\": 2, \\\\\\\\\\\\\\\"details\\\\\\\\\\\\\\\": {\\\\\\\\\\\\\\\"selectedColumn\\\\\\\\\\\\\\\": \\\\\\\\\\\\\\\"time\\\\\\\\\\\\\\\"}}, \\\\\\\\\\\\\\\"typeProperty\\\\\\\\\\\\\\\": 2}, {\\\\\\\\\\\\\\\"column\\\\\\\\\\\\\\\": {\\\\\\\\\\\\\\\"type\\\\\\\\\\\\\\\": 2, \\\\\\\\\\\\\\\"details\\\\\\\\\\\\\\\": {\\\\\\\\\\\\\\\"selectedColumn\\\\\\\\\\\\\\\": \\\\\\\\\\\\\\\"DEATH_EVENT\\\\\\\\\\\\\\\"}}, \\\\\\\\\\\\\\\"typeProperty\\\\\\\\\\\\\\\": 2}]}, \\\\\\\\\\\\\\\"localData\\\\\\\\\\\\\\\": {}, \\\\\\\\\\\\\\\"isEnabled\\\\\\\\\\\\\\\": true, \\\\\\\\\\\\\\\"name\\\\\\\\\\\\\\\": null, \\\\\\\\\\\\\\\"annotation\\\\\\\\\\\\\\\": null}], \\\\\\\\\\\\\\\"inspectors\\\\\\\\\\\\\\\": [], \\\\\\\\\\\\\\\"meta\\\\\\\\\\\\\\\": {\\\\\\\\\\\\\\\"savedDatasetId\\\\\\\\\\\\\\\": \\\\\\\\\\\\\\\"d1b22c9d-793a-4bfc-9e48-650a7f448579\\\\\\\\\\\\\\\", \\\\\\\\\\\\\\\"datasetType\\\\\\\\\\\\\\\": \\\\\\\\\\\\\\\"tabular\\\\\\\\\\\\\\\", \\\\\\\\\\\\\\\"subscriptionId\\\\\\\\\\\\\\\": \\\\\\\\\\\\\\\"a24a24d5-8d87-4c8a-99b6-91ed2d2df51f\\\\\\\\\\\\\\\", \\\\\\\\\\\\\\\"workspaceId\\\\\\\\\\\\\\\": \\\\\\\\\\\\\\\"2024d875-8133-4808-88b6-3462c8428a45\\\\\\\\\\\\\\\", \\\\\\\\\\\\\\\"workspaceLocation\\\\\\\\\\\\\\\": \\\\\\\\\\\\\\\"southcentralus\\\\\\\\\\\\\\\"}}\\\\\\\", \\\\\\\"activities\\\\\\\": 0}\", \"EnableSubsampling\": \"False\", \"runTemplate\": \"AutoML\", \"azureml.runsource\": \"automl\", \"display_task_type\": \"classification\", \"dependencies_versions\": \"{\\\"azureml-widgets\\\": \\\"1.20.0\\\", \\\"azureml-train\\\": \\\"1.20.0\\\", \\\"azureml-train-restclients-hyperdrive\\\": \\\"1.20.0\\\", \\\"azureml-train-core\\\": \\\"1.20.0\\\", \\\"azureml-train-automl\\\": \\\"1.20.0\\\", \\\"azureml-train-automl-runtime\\\": \\\"1.20.0\\\", \\\"azureml-train-automl-client\\\": \\\"1.20.0\\\", \\\"azureml-tensorboard\\\": \\\"1.20.0\\\", \\\"azureml-telemetry\\\": \\\"1.20.0\\\", \\\"azureml-sdk\\\": \\\"1.20.0\\\", \\\"azureml-samples\\\": \\\"0+unknown\\\", \\\"azureml-pipeline\\\": \\\"1.20.0\\\", \\\"azureml-pipeline-steps\\\": \\\"1.20.0\\\", \\\"azureml-pipeline-core\\\": \\\"1.20.0\\\", \\\"azureml-opendatasets\\\": \\\"1.20.0\\\", \\\"azureml-model-management-sdk\\\": \\\"1.0.1b6.post1\\\", \\\"azureml-mlflow\\\": \\\"1.20.0.post1\\\", \\\"azureml-interpret\\\": \\\"1.20.0\\\", \\\"azureml-explain-model\\\": \\\"1.20.0\\\", \\\"azureml-defaults\\\": \\\"1.20.0\\\", \\\"azureml-dataset-runtime\\\": \\\"1.20.0\\\", \\\"azureml-dataprep\\\": \\\"2.7.3\\\", \\\"azureml-dataprep-rslex\\\": \\\"1.5.0\\\", \\\"azureml-dataprep-native\\\": \\\"27.0.0\\\", \\\"azureml-datadrift\\\": \\\"1.20.0\\\", \\\"azureml-core\\\": \\\"1.20.0\\\", \\\"azureml-contrib-services\\\": \\\"1.20.0\\\", \\\"azureml-contrib-server\\\": \\\"1.20.0\\\", \\\"azureml-contrib-reinforcementlearning\\\": \\\"1.20.0\\\", \\\"azureml-contrib-pipeline-steps\\\": \\\"1.20.0\\\", \\\"azureml-contrib-notebook\\\": \\\"1.20.0\\\", \\\"azureml-contrib-interpret\\\": \\\"1.20.0\\\", \\\"azureml-contrib-gbdt\\\": \\\"1.20.0\\\", \\\"azureml-contrib-fairness\\\": \\\"1.20.0\\\", \\\"azureml-contrib-dataset\\\": \\\"1.20.0\\\", \\\"azureml-cli-common\\\": \\\"1.20.0\\\", \\\"azureml-automl-runtime\\\": \\\"1.20.0\\\", \\\"azureml-automl-core\\\": \\\"1.20.0\\\", \\\"azureml-accel-models\\\": \\\"1.20.0\\\"}\", \"_aml_system_scenario_identification\": \"Local.Parent\", \"ClientSdkVersion\": \"1.20.0\", \"ClientType\": \"SDK\", \"environment_cpu_name\": \"AzureML-AutoML\", \"environment_cpu_label\": \"prod\", \"environment_gpu_name\": \"AzureML-AutoML-GPU\", \"environment_gpu_label\": \"prod\", \"root_attribution\": \"automl\", \"attribution\": \"AutoML\", \"Orchestrator\": \"AutoML\", \"_azureml.ComputeTargetType\": \"local\", \"ProblemInfoJsonString\": \"{\\\"dataset_num_categorical\\\": 0, \\\"is_sparse\\\": false, \\\"subsampling\\\": false, \\\"dataset_classes\\\": 2, \\\"dataset_features\\\": 12, \\\"dataset_samples\\\": 299, \\\"single_frequency_class_detected\\\": false}\", \"feature_skus\": \"automatedml_sdk_guardrails\"}, \"tags\": {\"model_explain_run\": \"best_run\", \"best_score\": \"0.8662711864406779\", \"best_pipeline\": \"VotingEnsemble\", \"automl_best_child_run_id\": \"AutoML_194d8a33-aa09-4f40-82c8-91889e31058d_28\", \"model_explain_best_run_child_id\": \"AutoML_194d8a33-aa09-4f40-82c8-91889e31058d_28\"}, \"end_time_utc\": \"2021-01-30T10:53:05.461565Z\", \"status\": \"Completed\", \"log_files\": {}, \"log_groups\": [], \"run_duration\": \"0:15:28\"}, \"child_runs\": [{\"run_id\": \"AutoML_194d8a33-aa09-4f40-82c8-91889e31058d_0\", \"run_number\": 2, \"metric\": null, \"status\": \"Completed\", \"run_type\": null, \"training_percent\": \"100\", \"start_time\": \"2021-01-30T10:37:53.175831Z\", \"end_time\": \"2021-01-30T10:38:22.556432Z\", \"created_time\": \"2021-01-30T10:37:53.086507Z\", \"created_time_dt\": \"2021-01-30T10:37:53.086507Z\", \"duration\": \"0:00:29\", \"iteration\": \"0\", \"goal\": \"accuracy_max\", \"run_name\": \"MaxAbsScaler, LightGBM\", \"run_properties\": \"copy=True\", \"primary_metric\": 0.8059887, \"best_metric\": 0.8059887}, {\"run_id\": \"AutoML_194d8a33-aa09-4f40-82c8-91889e31058d_1\", \"run_number\": 3, \"metric\": null, \"status\": \"Completed\", \"run_type\": null, \"training_percent\": \"100\", \"start_time\": \"2021-01-30T10:38:22.899366Z\", \"end_time\": \"2021-01-30T10:38:48.100442Z\", \"created_time\": \"2021-01-30T10:38:22.80083Z\", \"created_time_dt\": \"2021-01-30T10:38:22.80083Z\", \"duration\": \"0:00:25\", \"iteration\": \"1\", \"goal\": \"accuracy_max\", \"run_name\": \"MaxAbsScaler, XGBoostClassifier\", \"run_properties\": \"copy=True\", \"primary_metric\": 0.8259322, \"best_metric\": 0.8259322}, {\"run_id\": \"AutoML_194d8a33-aa09-4f40-82c8-91889e31058d_2\", \"run_number\": 4, \"metric\": null, \"status\": \"Completed\", \"run_type\": null, \"training_percent\": \"100\", \"start_time\": \"2021-01-30T10:38:48.812418Z\", \"end_time\": \"2021-01-30T10:39:15.420471Z\", \"created_time\": \"2021-01-30T10:38:48.711586Z\", \"created_time_dt\": \"2021-01-30T10:38:48.711586Z\", \"duration\": \"0:00:26\", \"iteration\": \"2\", \"goal\": \"accuracy_max\", \"run_name\": \"MinMaxScaler, RandomForest\", \"run_properties\": \"copy=True, feature_range=(0, 1\", \"primary_metric\": 0.83271186, \"best_metric\": 0.83271186}, {\"run_id\": \"AutoML_194d8a33-aa09-4f40-82c8-91889e31058d_3\", \"run_number\": 5, \"metric\": null, \"status\": \"Completed\", \"run_type\": null, \"training_percent\": \"100\", \"start_time\": \"2021-01-30T10:39:18.954594Z\", \"end_time\": \"2021-01-30T10:39:50.845962Z\", \"created_time\": \"2021-01-30T10:39:18.831168Z\", \"created_time_dt\": \"2021-01-30T10:39:18.831168Z\", \"duration\": \"0:00:32\", \"iteration\": \"3\", \"goal\": \"accuracy_max\", \"run_name\": \"MinMaxScaler, RandomForest\", \"run_properties\": \"copy=True, feature_range=(0, 1\", \"primary_metric\": 0.84615819, \"best_metric\": 0.84615819}, {\"run_id\": \"AutoML_194d8a33-aa09-4f40-82c8-91889e31058d_4\", \"run_number\": 6, \"metric\": null, \"status\": \"Completed\", \"run_type\": null, \"training_percent\": \"100\", \"start_time\": \"2021-01-30T10:39:52.651249Z\", \"end_time\": \"2021-01-30T10:40:24.203301Z\", \"created_time\": \"2021-01-30T10:39:52.37584Z\", \"created_time_dt\": \"2021-01-30T10:39:52.37584Z\", \"duration\": \"0:00:31\", \"iteration\": \"4\", \"goal\": \"accuracy_max\", \"run_name\": \"MinMaxScaler, RandomForest\", \"run_properties\": \"copy=True, feature_range=(0, 1\", \"primary_metric\": 0.82576271, \"best_metric\": 0.84615819}, {\"run_id\": \"AutoML_194d8a33-aa09-4f40-82c8-91889e31058d_5\", \"run_number\": 7, \"metric\": null, \"status\": \"Completed\", \"run_type\": null, \"training_percent\": \"100\", \"start_time\": \"2021-01-30T10:40:26.691506Z\", \"end_time\": \"2021-01-30T10:40:52.281724Z\", \"created_time\": \"2021-01-30T10:40:26.569411Z\", \"created_time_dt\": \"2021-01-30T10:40:26.569411Z\", \"duration\": \"0:00:25\", \"iteration\": \"5\", \"goal\": \"accuracy_max\", \"run_name\": \"MinMaxScaler, SVM\", \"run_properties\": \"copy=True, feature_range=(0, 1\", \"primary_metric\": 0.70909605, \"best_metric\": 0.84615819}, {\"run_id\": \"AutoML_194d8a33-aa09-4f40-82c8-91889e31058d_6\", \"run_number\": 8, \"metric\": null, \"status\": \"Completed\", \"run_type\": null, \"training_percent\": \"100\", \"start_time\": \"2021-01-30T10:40:53.441187Z\", \"end_time\": \"2021-01-30T10:41:19.667609Z\", \"created_time\": \"2021-01-30T10:40:53.337717Z\", \"created_time_dt\": \"2021-01-30T10:40:53.337717Z\", \"duration\": \"0:00:26\", \"iteration\": \"6\", \"goal\": \"accuracy_max\", \"run_name\": \"MaxAbsScaler, GradientBoosting\", \"run_properties\": \"copy=True\", \"primary_metric\": 0.84282486, \"best_metric\": 0.84615819}, {\"run_id\": \"AutoML_194d8a33-aa09-4f40-82c8-91889e31058d_7\", \"run_number\": 9, \"metric\": null, \"status\": \"Completed\", \"run_type\": null, \"training_percent\": \"100\", \"start_time\": \"2021-01-30T10:41:21.024289Z\", \"end_time\": \"2021-01-30T10:41:44.963433Z\", \"created_time\": \"2021-01-30T10:41:20.917468Z\", \"created_time_dt\": \"2021-01-30T10:41:20.917468Z\", \"duration\": \"0:00:24\", \"iteration\": \"7\", \"goal\": \"accuracy_max\", \"run_name\": \"SparseNormalizer, LightGBM\", \"run_properties\": \"<azureml.automl.runtime.shared.model_wrappers.SparseNormalizer object at 0x7f5795068668\", \"primary_metric\": 0.7360452, \"best_metric\": 0.84615819}, {\"run_id\": \"AutoML_194d8a33-aa09-4f40-82c8-91889e31058d_8\", \"run_number\": 10, \"metric\": null, \"status\": \"Completed\", \"run_type\": null, \"training_percent\": \"100\", \"start_time\": \"2021-01-30T10:41:46.137969Z\", \"end_time\": \"2021-01-30T10:42:10.296537Z\", \"created_time\": \"2021-01-30T10:41:46.053348Z\", \"created_time_dt\": \"2021-01-30T10:41:46.053348Z\", \"duration\": \"0:00:24\", \"iteration\": \"8\", \"goal\": \"accuracy_max\", \"run_name\": \"SparseNormalizer, XGBoostClassifier\", \"run_properties\": \"<azureml.automl.runtime.shared.model_wrappers.SparseNormalizer object at 0x7f587912f860\", \"primary_metric\": 0.84960452, \"best_metric\": 0.84960452}, {\"run_id\": \"AutoML_194d8a33-aa09-4f40-82c8-91889e31058d_9\", \"run_number\": 11, \"metric\": null, \"status\": \"Completed\", \"run_type\": null, \"training_percent\": \"100\", \"start_time\": \"2021-01-30T10:42:11.348406Z\", \"end_time\": \"2021-01-30T10:42:37.76234Z\", \"created_time\": \"2021-01-30T10:42:11.267108Z\", \"created_time_dt\": \"2021-01-30T10:42:11.267108Z\", \"duration\": \"0:00:26\", \"iteration\": \"9\", \"goal\": \"accuracy_max\", \"run_name\": \"RobustScaler, ExtremeRandomTrees\", \"run_properties\": \"copy=True, quantile_range=[25, 75], with_centering=True,\\n             with_scaling=False\", \"primary_metric\": 0.84949153, \"best_metric\": 0.84960452}, {\"run_id\": \"AutoML_194d8a33-aa09-4f40-82c8-91889e31058d_10\", \"run_number\": 12, \"metric\": null, \"status\": \"Completed\", \"run_type\": null, \"training_percent\": \"100\", \"start_time\": \"2021-01-30T10:42:38.992094Z\", \"end_time\": \"2021-01-30T10:43:03.294845Z\", \"created_time\": \"2021-01-30T10:42:38.877724Z\", \"created_time_dt\": \"2021-01-30T10:42:38.877724Z\", \"duration\": \"0:00:24\", \"iteration\": \"10\", \"goal\": \"accuracy_max\", \"run_name\": \"StandardScalerWrapper, LightGBM\", \"run_properties\": \"<azureml.automl.runtime.shared.model_wrappers.StandardScalerWrapper object at 0x7f587909d8d0\", \"primary_metric\": 0.8160452, \"best_metric\": 0.84960452}, {\"run_id\": \"AutoML_194d8a33-aa09-4f40-82c8-91889e31058d_11\", \"run_number\": 13, \"metric\": null, \"status\": \"Completed\", \"run_type\": null, \"training_percent\": \"100\", \"start_time\": \"2021-01-30T10:43:04.644051Z\", \"end_time\": \"2021-01-30T10:43:31.326258Z\", \"created_time\": \"2021-01-30T10:43:04.552644Z\", \"created_time_dt\": \"2021-01-30T10:43:04.552644Z\", \"duration\": \"0:00:26\", \"iteration\": \"11\", \"goal\": \"accuracy_max\", \"run_name\": \"StandardScalerWrapper, RandomForest\", \"run_properties\": \"<azureml.automl.runtime.shared.model_wrappers.StandardScalerWrapper object at 0x7f5795195208\", \"primary_metric\": 0.84293785, \"best_metric\": 0.84960452}, {\"run_id\": \"AutoML_194d8a33-aa09-4f40-82c8-91889e31058d_12\", \"run_number\": 14, \"metric\": null, \"status\": \"Completed\", \"run_type\": null, \"training_percent\": \"100\", \"start_time\": \"2021-01-30T10:43:32.727897Z\", \"end_time\": \"2021-01-30T10:43:58.304579Z\", \"created_time\": \"2021-01-30T10:43:32.610211Z\", \"created_time_dt\": \"2021-01-30T10:43:32.610211Z\", \"duration\": \"0:00:25\", \"iteration\": \"12\", \"goal\": \"accuracy_max\", \"run_name\": \"StandardScalerWrapper, LightGBM\", \"run_properties\": \"<azureml.automl.runtime.shared.model_wrappers.StandardScalerWrapper object at 0x7f5879143ef0\", \"primary_metric\": 0.83265537, \"best_metric\": 0.84960452}, {\"run_id\": \"AutoML_194d8a33-aa09-4f40-82c8-91889e31058d_13\", \"run_number\": 15, \"metric\": null, \"status\": \"Completed\", \"run_type\": null, \"training_percent\": \"100\", \"start_time\": \"2021-01-30T10:43:59.568895Z\", \"end_time\": \"2021-01-30T10:44:27.589284Z\", \"created_time\": \"2021-01-30T10:43:59.465788Z\", \"created_time_dt\": \"2021-01-30T10:43:59.465788Z\", \"duration\": \"0:00:28\", \"iteration\": \"13\", \"goal\": \"accuracy_max\", \"run_name\": \"StandardScalerWrapper, RandomForest\", \"run_properties\": \"<azureml.automl.runtime.shared.model_wrappers.StandardScalerWrapper object at 0x7f5878fd2d68\", \"primary_metric\": 0.81259887, \"best_metric\": 0.84960452}, {\"run_id\": \"AutoML_194d8a33-aa09-4f40-82c8-91889e31058d_14\", \"run_number\": 16, \"metric\": null, \"status\": \"Completed\", \"run_type\": null, \"training_percent\": \"100\", \"start_time\": \"2021-01-30T10:44:29.539281Z\", \"end_time\": \"2021-01-30T10:45:00.401693Z\", \"created_time\": \"2021-01-30T10:44:29.251641Z\", \"created_time_dt\": \"2021-01-30T10:44:29.251641Z\", \"duration\": \"0:00:31\", \"iteration\": \"14\", \"goal\": \"accuracy_max\", \"run_name\": \"MaxAbsScaler, LightGBM\", \"run_properties\": \"copy=True\", \"primary_metric\": 0.82265537, \"best_metric\": 0.84960452}, {\"run_id\": \"AutoML_194d8a33-aa09-4f40-82c8-91889e31058d_15\", \"run_number\": 17, \"metric\": null, \"status\": \"Completed\", \"run_type\": null, \"training_percent\": \"100\", \"start_time\": \"2021-01-30T10:45:01.673536Z\", \"end_time\": \"2021-01-30T10:45:29.01366Z\", \"created_time\": \"2021-01-30T10:45:01.599528Z\", \"created_time_dt\": \"2021-01-30T10:45:01.599528Z\", \"duration\": \"0:00:27\", \"iteration\": \"15\", \"goal\": \"accuracy_max\", \"run_name\": \"SparseNormalizer, XGBoostClassifier\", \"run_properties\": \"<azureml.automl.runtime.shared.model_wrappers.SparseNormalizer object at 0x7f5879018d68\", \"primary_metric\": 0.84271186, \"best_metric\": 0.84960452}, {\"run_id\": \"AutoML_194d8a33-aa09-4f40-82c8-91889e31058d_16\", \"run_number\": 18, \"metric\": null, \"status\": \"Completed\", \"run_type\": null, \"training_percent\": \"100\", \"start_time\": \"2021-01-30T10:45:30.292413Z\", \"end_time\": \"2021-01-30T10:45:56.971408Z\", \"created_time\": \"2021-01-30T10:45:30.204566Z\", \"created_time_dt\": \"2021-01-30T10:45:30.204566Z\", \"duration\": \"0:00:26\", \"iteration\": \"16\", \"goal\": \"accuracy_max\", \"run_name\": \"RobustScaler, LightGBM\", \"run_properties\": \"copy=True, quantile_range=[25, 75], with_centering=False,\\n             with_scaling=False\", \"primary_metric\": 0.83937853, \"best_metric\": 0.84960452}, {\"run_id\": \"AutoML_194d8a33-aa09-4f40-82c8-91889e31058d_17\", \"run_number\": 19, \"metric\": null, \"status\": \"Completed\", \"run_type\": null, \"training_percent\": \"100\", \"start_time\": \"2021-01-30T10:45:58.187012Z\", \"end_time\": \"2021-01-30T10:46:29.441029Z\", \"created_time\": \"2021-01-30T10:45:58.068304Z\", \"created_time_dt\": \"2021-01-30T10:45:58.068304Z\", \"duration\": \"0:00:31\", \"iteration\": \"17\", \"goal\": \"accuracy_max\", \"run_name\": \"MaxAbsScaler, GradientBoosting\", \"run_properties\": \"copy=True\", \"primary_metric\": 0.84276836, \"best_metric\": 0.84960452}, {\"run_id\": \"AutoML_194d8a33-aa09-4f40-82c8-91889e31058d_18\", \"run_number\": 20, \"metric\": null, \"status\": \"Completed\", \"run_type\": null, \"training_percent\": \"100\", \"start_time\": \"2021-01-30T10:46:31.276753Z\", \"end_time\": \"2021-01-30T10:46:56.691587Z\", \"created_time\": \"2021-01-30T10:46:30.98649Z\", \"created_time_dt\": \"2021-01-30T10:46:30.98649Z\", \"duration\": \"0:00:25\", \"iteration\": \"18\", \"goal\": \"accuracy_max\", \"run_name\": \"StandardScalerWrapper, XGBoostClassifier\", \"run_properties\": \"<azureml.automl.runtime.shared.model_wrappers.StandardScalerWrapper object at 0x7f58790340b8\", \"primary_metric\": 0.83271186, \"best_metric\": 0.84960452}, {\"run_id\": \"AutoML_194d8a33-aa09-4f40-82c8-91889e31058d_19\", \"run_number\": 21, \"metric\": null, \"status\": \"Completed\", \"run_type\": null, \"training_percent\": \"100\", \"start_time\": \"2021-01-30T10:46:57.806126Z\", \"end_time\": \"2021-01-30T10:47:24.356497Z\", \"created_time\": \"2021-01-30T10:46:57.712987Z\", \"created_time_dt\": \"2021-01-30T10:46:57.712987Z\", \"duration\": \"0:00:26\", \"iteration\": \"19\", \"goal\": \"accuracy_max\", \"run_name\": \"RobustScaler, RandomForest\", \"run_properties\": \"copy=True, quantile_range=[10, 90], with_centering=True,\\n             with_scaling=False\", \"primary_metric\": 0.84610169, \"best_metric\": 0.84960452}, {\"run_id\": \"AutoML_194d8a33-aa09-4f40-82c8-91889e31058d_20\", \"run_number\": 22, \"metric\": null, \"status\": \"Completed\", \"run_type\": null, \"training_percent\": \"100\", \"start_time\": \"2021-01-30T10:47:26.337547Z\", \"end_time\": \"2021-01-30T10:47:54.037028Z\", \"created_time\": \"2021-01-30T10:47:26.221932Z\", \"created_time_dt\": \"2021-01-30T10:47:26.221932Z\", \"duration\": \"0:00:27\", \"iteration\": \"20\", \"goal\": \"accuracy_max\", \"run_name\": \"RobustScaler, LightGBM\", \"run_properties\": \"copy=True, quantile_range=[25, 75], with_centering=False,\\n             with_scaling=False\", \"primary_metric\": 0.77242938, \"best_metric\": 0.84960452}, {\"run_id\": \"AutoML_194d8a33-aa09-4f40-82c8-91889e31058d_21\", \"run_number\": 23, \"metric\": null, \"status\": \"Completed\", \"run_type\": null, \"training_percent\": \"100\", \"start_time\": \"2021-01-30T10:47:55.667464Z\", \"end_time\": \"2021-01-30T10:48:26.453894Z\", \"created_time\": \"2021-01-30T10:47:55.549954Z\", \"created_time_dt\": \"2021-01-30T10:47:55.549954Z\", \"duration\": \"0:00:30\", \"iteration\": \"21\", \"goal\": \"accuracy_max\", \"run_name\": \"MinMaxScaler, LightGBM\", \"run_properties\": \"copy=True, feature_range=(0, 1\", \"primary_metric\": 0.8360452, \"best_metric\": 0.84960452}, {\"run_id\": \"AutoML_194d8a33-aa09-4f40-82c8-91889e31058d_22\", \"run_number\": 24, \"metric\": null, \"status\": \"Completed\", \"run_type\": null, \"training_percent\": \"100\", \"start_time\": \"2021-01-30T10:48:27.646597Z\", \"end_time\": \"2021-01-30T10:48:53.22917Z\", \"created_time\": \"2021-01-30T10:48:27.564502Z\", \"created_time_dt\": \"2021-01-30T10:48:27.564502Z\", \"duration\": \"0:00:25\", \"iteration\": \"22\", \"goal\": \"accuracy_max\", \"run_name\": \"MaxAbsScaler, LightGBM\", \"run_properties\": \"copy=True\", \"primary_metric\": 0.82276836, \"best_metric\": 0.84960452}, {\"run_id\": \"AutoML_194d8a33-aa09-4f40-82c8-91889e31058d_23\", \"run_number\": 25, \"metric\": null, \"status\": \"Completed\", \"run_type\": null, \"training_percent\": \"100\", \"start_time\": \"2021-01-30T10:48:54.940174Z\", \"end_time\": \"2021-01-30T10:49:33.830062Z\", \"created_time\": \"2021-01-30T10:48:54.681346Z\", \"created_time_dt\": \"2021-01-30T10:48:54.681346Z\", \"duration\": \"0:00:39\", \"iteration\": \"23\", \"goal\": \"accuracy_max\", \"run_name\": \"SparseNormalizer, RandomForest\", \"run_properties\": \"<azureml.automl.runtime.shared.model_wrappers.SparseNormalizer object at 0x7f5878f05208\", \"primary_metric\": 0.82615819, \"best_metric\": 0.84960452}, {\"run_id\": \"AutoML_194d8a33-aa09-4f40-82c8-91889e31058d_24\", \"run_number\": 26, \"metric\": null, \"status\": \"Completed\", \"run_type\": null, \"training_percent\": \"100\", \"start_time\": \"2021-01-30T10:49:34.980819Z\", \"end_time\": \"2021-01-30T10:50:06.41118Z\", \"created_time\": \"2021-01-30T10:49:34.871086Z\", \"created_time_dt\": \"2021-01-30T10:49:34.871086Z\", \"duration\": \"0:00:31\", \"iteration\": \"24\", \"goal\": \"accuracy_max\", \"run_name\": \"RobustScaler, ExtremeRandomTrees\", \"run_properties\": \"copy=True, quantile_range=[25, 75], with_centering=True,\\n             with_scaling=False\", \"primary_metric\": 0.85960452, \"best_metric\": 0.85960452}, {\"run_id\": \"AutoML_194d8a33-aa09-4f40-82c8-91889e31058d_25\", \"run_number\": 27, \"metric\": null, \"status\": \"Completed\", \"run_type\": null, \"training_percent\": \"100\", \"start_time\": \"2021-01-30T10:50:09.182795Z\", \"end_time\": \"2021-01-30T10:50:41.751048Z\", \"created_time\": \"2021-01-30T10:50:09.074827Z\", \"created_time_dt\": \"2021-01-30T10:50:09.074827Z\", \"duration\": \"0:00:32\", \"iteration\": \"25\", \"goal\": \"accuracy_max\", \"run_name\": \"SparseNormalizer, ExtremeRandomTrees\", \"run_properties\": \"<azureml.automl.runtime.shared.model_wrappers.SparseNormalizer object at 0x7f57953fb2e8\", \"primary_metric\": 0.67909605, \"best_metric\": 0.85960452}, {\"run_id\": \"AutoML_194d8a33-aa09-4f40-82c8-91889e31058d_26\", \"run_number\": 28, \"metric\": null, \"status\": \"Completed\", \"run_type\": null, \"training_percent\": \"100\", \"start_time\": \"2021-01-30T10:50:42.908419Z\", \"end_time\": \"2021-01-30T10:51:14.604676Z\", \"created_time\": \"2021-01-30T10:50:42.82384Z\", \"created_time_dt\": \"2021-01-30T10:50:42.82384Z\", \"duration\": \"0:00:31\", \"iteration\": \"26\", \"goal\": \"accuracy_max\", \"run_name\": \"StandardScalerWrapper, RandomForest\", \"run_properties\": \"<azureml.automl.runtime.shared.model_wrappers.StandardScalerWrapper object at 0x7f5878d49128\", \"primary_metric\": 0.82915254, \"best_metric\": 0.85960452}, {\"run_id\": \"AutoML_194d8a33-aa09-4f40-82c8-91889e31058d_27\", \"run_number\": 29, \"metric\": null, \"status\": \"Completed\", \"run_type\": null, \"training_percent\": \"100\", \"start_time\": \"2021-01-30T10:51:15.881219Z\", \"end_time\": \"2021-01-30T10:51:41.712975Z\", \"created_time\": \"2021-01-30T10:51:15.795908Z\", \"created_time_dt\": \"2021-01-30T10:51:15.795908Z\", \"duration\": \"0:00:25\", \"iteration\": \"27\", \"goal\": \"accuracy_max\", \"run_name\": \"RobustScaler, GradientBoosting\", \"run_properties\": \"copy=True, quantile_range=[25, 75], with_centering=True,\\n             with_scaling=True\", \"primary_metric\": 0.8460452, \"best_metric\": 0.85960452}, {\"run_id\": \"AutoML_194d8a33-aa09-4f40-82c8-91889e31058d_28\", \"run_number\": 30, \"metric\": null, \"status\": \"Completed\", \"run_type\": null, \"training_percent\": \"100\", \"start_time\": \"2021-01-30T10:51:42.024027Z\", \"end_time\": \"2021-01-30T10:52:17.328145Z\", \"created_time\": \"2021-01-30T10:51:41.946695Z\", \"created_time_dt\": \"2021-01-30T10:51:41.946695Z\", \"duration\": \"0:00:35\", \"iteration\": \"28\", \"goal\": \"accuracy_max\", \"run_name\": \"VotingEnsemble\", \"run_properties\": \"classification_labels=None,\\n                              estimators=[('24',\\n                                           Pipeline(memory=None,\\n                                                    steps=[('robustscaler',\\n                                                            RobustScaler(copy=True,\\n                                                                         quantile_range=[25,\\n                                                                                         75],\\n                                                                         with_centering=True,\\n                                                                         with_scaling=False\", \"primary_metric\": 0.86627119, \"best_metric\": 0.86627119}, {\"run_id\": \"AutoML_194d8a33-aa09-4f40-82c8-91889e31058d_29\", \"run_number\": 31, \"metric\": null, \"status\": \"Completed\", \"run_type\": null, \"training_percent\": \"100\", \"start_time\": \"2021-01-30T10:52:18.318873Z\", \"end_time\": \"2021-01-30T10:52:57.50523Z\", \"created_time\": \"2021-01-30T10:52:18.031157Z\", \"created_time_dt\": \"2021-01-30T10:52:18.031157Z\", \"duration\": \"0:00:39\", \"iteration\": \"29\", \"goal\": \"accuracy_max\", \"run_name\": \"StackEnsemble\", \"run_properties\": \"base_learners=[('24',\\n                                        Pipeline(memory=None,\\n                                                 steps=[('robustscaler',\\n                                                         RobustScaler(copy=True,\\n                                                                      quantile_range=[25,\\n                                                                                      75],\\n                                                                      with_centering=True,\\n                                                                      with_scaling=False\", \"primary_metric\": 0.85288136, \"best_metric\": 0.86627119}], \"children_metrics\": {\"categories\": [0], \"series\": {\"AUC_macro\": [{\"categories\": [\"0\", \"1\", \"2\", \"3\", \"4\", \"5\", \"6\", \"7\", \"8\", \"9\", \"10\", \"11\", \"12\", \"13\", \"14\", \"15\", \"16\", \"17\", \"18\", \"19\", \"20\", \"21\", \"22\", \"23\", \"24\", \"25\", \"26\", \"27\", \"28\", \"29\"], \"mode\": \"markers\", \"name\": \"AUC_macro\", \"stepped\": false, \"type\": \"scatter\", \"data\": [0.8811331210778885, 0.8929591177556295, 0.9032313122923588, 0.8918352713178294, 0.9086480020302694, 0.7394446982281285, 0.9069932401255075, 0.8303234588409006, 0.8940481035437431, 0.8817260059062384, 0.8939186277224069, 0.9156771410114434, 0.9047342423403469, 0.8976292335732742, 0.9021912144702842, 0.8802835455887781, 0.8994772056109266, 0.9079056847545219, 0.8954322051495017, 0.9064801125876707, 0.8811078119232189, 0.8978392395717977, 0.9001730227943892, 0.8902713639719455, 0.8988057170542636, 0.5, 0.9177851605758583, 0.9122729328165375, 0.9117115863787376, 0.9134229651162791]}, {\"categories\": [\"0\", \"1\", \"2\", \"3\", \"4\", \"5\", \"6\", \"7\", \"8\", \"9\", \"10\", \"11\", \"12\", \"13\", \"14\", \"15\", \"16\", \"17\", \"18\", \"19\", \"20\", \"21\", \"22\", \"23\", \"24\", \"25\", \"26\", \"27\", \"28\", \"29\"], \"mode\": \"lines\", \"name\": \"AUC_macro_max\", \"stepped\": true, \"type\": \"scatter\", \"data\": [0.8811331210778885, 0.8929591177556295, 0.9032313122923588, 0.9032313122923588, 0.9086480020302694, 0.9086480020302694, 0.9086480020302694, 0.9086480020302694, 0.9086480020302694, 0.9086480020302694, 0.9086480020302694, 0.9156771410114434, 0.9156771410114434, 0.9156771410114434, 0.9156771410114434, 0.9156771410114434, 0.9156771410114434, 0.9156771410114434, 0.9156771410114434, 0.9156771410114434, 0.9156771410114434, 0.9156771410114434, 0.9156771410114434, 0.9156771410114434, 0.9156771410114434, 0.9156771410114434, 0.9177851605758583, 0.9177851605758583, 0.9177851605758583, 0.9177851605758583]}], \"AUC_weighted\": [{\"categories\": [\"0\", \"1\", \"2\", \"3\", \"4\", \"5\", \"6\", \"7\", \"8\", \"9\", \"10\", \"11\", \"12\", \"13\", \"14\", \"15\", \"16\", \"17\", \"18\", \"19\", \"20\", \"21\", \"22\", \"23\", \"24\", \"25\", \"26\", \"27\", \"28\", \"29\"], \"mode\": \"markers\", \"name\": \"AUC_weighted\", \"stepped\": false, \"type\": \"scatter\", \"data\": [0.8811331210778885, 0.8929591177556293, 0.9032313122923588, 0.8918352713178296, 0.9086480020302694, 0.7394446982281285, 0.9069932401255075, 0.8303234588409006, 0.8940481035437431, 0.8817260059062384, 0.8939186277224067, 0.9156771410114434, 0.904734242340347, 0.8976292335732742, 0.9021912144702842, 0.8802835455887781, 0.8994772056109264, 0.9079056847545219, 0.8954322051495017, 0.9064801125876707, 0.8811078119232189, 0.8978392395717977, 0.9001730227943892, 0.8902713639719451, 0.8988057170542636, 0.5, 0.9177851605758583, 0.9122729328165373, 0.9117115863787376, 0.9134229651162791]}, {\"categories\": [\"0\", \"1\", \"2\", \"3\", \"4\", \"5\", \"6\", \"7\", \"8\", \"9\", \"10\", \"11\", \"12\", \"13\", \"14\", \"15\", \"16\", \"17\", \"18\", \"19\", \"20\", \"21\", \"22\", \"23\", \"24\", \"25\", \"26\", \"27\", \"28\", \"29\"], \"mode\": \"lines\", \"name\": \"AUC_weighted_max\", \"stepped\": true, \"type\": \"scatter\", \"data\": [0.8811331210778885, 0.8929591177556293, 0.9032313122923588, 0.9032313122923588, 0.9086480020302694, 0.9086480020302694, 0.9086480020302694, 0.9086480020302694, 0.9086480020302694, 0.9086480020302694, 0.9086480020302694, 0.9156771410114434, 0.9156771410114434, 0.9156771410114434, 0.9156771410114434, 0.9156771410114434, 0.9156771410114434, 0.9156771410114434, 0.9156771410114434, 0.9156771410114434, 0.9156771410114434, 0.9156771410114434, 0.9156771410114434, 0.9156771410114434, 0.9156771410114434, 0.9156771410114434, 0.9177851605758583, 0.9177851605758583, 0.9177851605758583, 0.9177851605758583]}], \"f1_score_macro\": [{\"categories\": [\"0\", \"1\", \"2\", \"3\", \"4\", \"5\", \"6\", \"7\", \"8\", \"9\", \"10\", \"11\", \"12\", \"13\", \"14\", \"15\", \"16\", \"17\", \"18\", \"19\", \"20\", \"21\", \"22\", \"23\", \"24\", \"25\", \"26\", \"27\", \"28\", \"29\"], \"mode\": \"markers\", \"name\": \"f1_score_macro\", \"stepped\": false, \"type\": \"scatter\", \"data\": [0.7682096405971308, 0.7972526241921125, 0.8018862975447597, 0.8124482785856945, 0.8007226892056293, 0.6025715673215674, 0.8121771386743731, 0.6252048522662619, 0.8161275803155832, 0.8097378310684501, 0.7695891912830867, 0.8069163438149467, 0.7983400661454317, 0.7823378341177321, 0.7765801042203762, 0.7999186947598323, 0.8064034950176502, 0.8091727125408392, 0.794854593019428, 0.8155628735535891, 0.7017636997653744, 0.8035693807983076, 0.7744584540510064, 0.7931087065215192, 0.825440225838031, 0.40276783177038933, 0.8050632832907875, 0.8162442793562299, 0.8353344862258757, 0.8213651752763544]}, {\"categories\": [\"0\", \"1\", \"2\", \"3\", \"4\", \"5\", \"6\", \"7\", \"8\", \"9\", \"10\", \"11\", \"12\", \"13\", \"14\", \"15\", \"16\", \"17\", \"18\", \"19\", \"20\", \"21\", \"22\", \"23\", \"24\", \"25\", \"26\", \"27\", \"28\", \"29\"], \"mode\": \"lines\", \"name\": \"f1_score_macro_max\", \"stepped\": true, \"type\": \"scatter\", \"data\": [0.7682096405971308, 0.7972526241921125, 0.8018862975447597, 0.8124482785856945, 0.8124482785856945, 0.8124482785856945, 0.8124482785856945, 0.8124482785856945, 0.8161275803155832, 0.8161275803155832, 0.8161275803155832, 0.8161275803155832, 0.8161275803155832, 0.8161275803155832, 0.8161275803155832, 0.8161275803155832, 0.8161275803155832, 0.8161275803155832, 0.8161275803155832, 0.8161275803155832, 0.8161275803155832, 0.8161275803155832, 0.8161275803155832, 0.8161275803155832, 0.825440225838031, 0.825440225838031, 0.825440225838031, 0.825440225838031, 0.8353344862258757, 0.8353344862258757]}], \"average_precision_score_weighted\": [{\"categories\": [\"0\", \"1\", \"2\", \"3\", \"4\", \"5\", \"6\", \"7\", \"8\", \"9\", \"10\", \"11\", \"12\", \"13\", \"14\", \"15\", \"16\", \"17\", \"18\", \"19\", \"20\", \"21\", \"22\", \"23\", \"24\", \"25\", \"26\", \"27\", \"28\", \"29\"], \"mode\": \"markers\", \"name\": \"average_precision_score_weighted\", \"stepped\": false, \"type\": \"scatter\", \"data\": [0.8955370396295249, 0.9103506263314479, 0.9155241449757957, 0.9105028751962697, 0.9209625324519625, 0.7675756738587173, 0.9210160295718708, 0.8458920762759519, 0.9044364305652293, 0.8990667546146618, 0.9058607560878091, 0.9287168594739116, 0.9181596860653727, 0.9078267808358257, 0.9157632071255797, 0.8921101577103491, 0.9156929706319958, 0.9225420827851453, 0.9060200443651156, 0.9197145202542794, 0.8968420740685712, 0.9147323219325832, 0.9114673453432592, 0.9008237672693908, 0.9124521293022211, 0.5796089246385138, 0.9305977792991327, 0.925930205257955, 0.9240246404301928, 0.9258909494569808]}, {\"categories\": [\"0\", \"1\", \"2\", \"3\", \"4\", \"5\", \"6\", \"7\", \"8\", \"9\", \"10\", \"11\", \"12\", \"13\", \"14\", \"15\", \"16\", \"17\", \"18\", \"19\", \"20\", \"21\", \"22\", \"23\", \"24\", \"25\", \"26\", \"27\", \"28\", \"29\"], \"mode\": \"lines\", \"name\": \"average_precision_score_weighted_max\", \"stepped\": true, \"type\": \"scatter\", \"data\": [0.8955370396295249, 0.9103506263314479, 0.9155241449757957, 0.9155241449757957, 0.9209625324519625, 0.9209625324519625, 0.9210160295718708, 0.9210160295718708, 0.9210160295718708, 0.9210160295718708, 0.9210160295718708, 0.9287168594739116, 0.9287168594739116, 0.9287168594739116, 0.9287168594739116, 0.9287168594739116, 0.9287168594739116, 0.9287168594739116, 0.9287168594739116, 0.9287168594739116, 0.9287168594739116, 0.9287168594739116, 0.9287168594739116, 0.9287168594739116, 0.9287168594739116, 0.9287168594739116, 0.9305977792991327, 0.9305977792991327, 0.9305977792991327, 0.9305977792991327]}], \"balanced_accuracy\": [{\"categories\": [\"0\", \"1\", \"2\", \"3\", \"4\", \"5\", \"6\", \"7\", \"8\", \"9\", \"10\", \"11\", \"12\", \"13\", \"14\", \"15\", \"16\", \"17\", \"18\", \"19\", \"20\", \"21\", \"22\", \"23\", \"24\", \"25\", \"26\", \"27\", \"28\", \"29\"], \"mode\": \"markers\", \"name\": \"balanced_accuracy\", \"stepped\": false, \"type\": \"scatter\", \"data\": [0.7760209025470652, 0.8060125968992248, 0.8073899501661129, 0.8102297895902547, 0.8180239479512735, 0.6182613510520487, 0.818826827242525, 0.6379761904761905, 0.8112458471760797, 0.7958035714285714, 0.7672155315614617, 0.7958928571428572, 0.8000089977851607, 0.79750069213732, 0.7735887320044297, 0.8001744186046512, 0.8119476744186047, 0.8125768272425249, 0.7915012458471761, 0.8171560077519381, 0.698610188261351, 0.8135209025470653, 0.766688122923588, 0.7977810077519379, 0.8099702380952379, 0.5, 0.8227858527131783, 0.8227470930232558, 0.8262202380952381, 0.8211524086378738]}, {\"categories\": [\"0\", \"1\", \"2\", \"3\", \"4\", \"5\", \"6\", \"7\", \"8\", \"9\", \"10\", \"11\", \"12\", \"13\", \"14\", \"15\", \"16\", \"17\", \"18\", \"19\", \"20\", \"21\", \"22\", \"23\", \"24\", \"25\", \"26\", \"27\", \"28\", \"29\"], \"mode\": \"lines\", \"name\": \"balanced_accuracy_max\", \"stepped\": true, \"type\": \"scatter\", \"data\": [0.7760209025470652, 0.8060125968992248, 0.8073899501661129, 0.8102297895902547, 0.8180239479512735, 0.8180239479512735, 0.818826827242525, 0.818826827242525, 0.818826827242525, 0.818826827242525, 0.818826827242525, 0.818826827242525, 0.818826827242525, 0.818826827242525, 0.818826827242525, 0.818826827242525, 0.818826827242525, 0.818826827242525, 0.818826827242525, 0.818826827242525, 0.818826827242525, 0.818826827242525, 0.818826827242525, 0.818826827242525, 0.818826827242525, 0.818826827242525, 0.8227858527131783, 0.8227858527131783, 0.8262202380952381, 0.8262202380952381]}], \"log_loss\": [{\"categories\": [\"0\", \"1\", \"2\", \"3\", \"4\", \"5\", \"6\", \"7\", \"8\", \"9\", \"10\", \"11\", \"12\", \"13\", \"14\", \"15\", \"16\", \"17\", \"18\", \"19\", \"20\", \"21\", \"22\", \"23\", \"24\", \"25\", \"26\", \"27\", \"28\", \"29\"], \"mode\": \"markers\", \"name\": \"log_loss\", \"stepped\": false, \"type\": \"scatter\", \"data\": [0.5282491261622873, 0.43217688137359717, 0.3896859772524027, 0.4166033552684009, 0.3796131250965987, 0.5863365933175104, 0.37766406791889034, 0.5184056250785269, 0.38995629857272407, 0.422160820763725, 0.4727004574854833, 0.3947420413941446, 0.3997407425109225, 0.3972766909335669, 0.4353180673105509, 0.414322494277926, 0.39258237661767537, 0.39300747258071234, 0.4329821181628268, 0.3937260295597229, 0.4698426800667598, 0.38714385345595814, 0.4610475013738358, 0.393989791638632, 0.4077583069672787, 0.6391680143053086, 0.43241879739643546, 0.3811612930016636, 0.39697580882238215, 0.3970067924265887]}, {\"categories\": [\"0\", \"1\", \"2\", \"3\", \"4\", \"5\", \"6\", \"7\", \"8\", \"9\", \"10\", \"11\", \"12\", \"13\", \"14\", \"15\", \"16\", \"17\", \"18\", \"19\", \"20\", \"21\", \"22\", \"23\", \"24\", \"25\", \"26\", \"27\", \"28\", \"29\"], \"mode\": \"lines\", \"name\": \"log_loss_min\", \"stepped\": true, \"type\": \"scatter\", \"data\": [0.5282491261622873, 0.43217688137359717, 0.3896859772524027, 0.3896859772524027, 0.3796131250965987, 0.3796131250965987, 0.37766406791889034, 0.37766406791889034, 0.37766406791889034, 0.37766406791889034, 0.37766406791889034, 0.37766406791889034, 0.37766406791889034, 0.37766406791889034, 0.37766406791889034, 0.37766406791889034, 0.37766406791889034, 0.37766406791889034, 0.37766406791889034, 0.37766406791889034, 0.37766406791889034, 0.37766406791889034, 0.37766406791889034, 0.37766406791889034, 0.37766406791889034, 0.37766406791889034, 0.37766406791889034, 0.37766406791889034, 0.37766406791889034, 0.37766406791889034]}], \"recall_score_weighted\": [{\"categories\": [\"0\", \"1\", \"2\", \"3\", \"4\", \"5\", \"6\", \"7\", \"8\", \"9\", \"10\", \"11\", \"12\", \"13\", \"14\", \"15\", \"16\", \"17\", \"18\", \"19\", \"20\", \"21\", \"22\", \"23\", \"24\", \"25\", \"26\", \"27\", \"28\", \"29\"], \"mode\": \"markers\", \"name\": \"recall_score_weighted\", \"stepped\": false, \"type\": \"scatter\", \"data\": [0.8059887005649717, 0.8259322033898304, 0.8327118644067797, 0.8461581920903954, 0.8257627118644069, 0.7090960451977402, 0.8428248587570621, 0.736045197740113, 0.8496045197740113, 0.8494915254237287, 0.8160451977401131, 0.8429378531073446, 0.8326553672316385, 0.8125988700564971, 0.8226553672316385, 0.8427118644067797, 0.8393785310734463, 0.8427683615819209, 0.8327118644067797, 0.8461016949152542, 0.7724293785310734, 0.836045197740113, 0.822768361581921, 0.8261581920903955, 0.8596045197740112, 0.67909604519774, 0.8291525423728814, 0.846045197740113, 0.8662711864406779, 0.8528813559322034]}, {\"categories\": [\"0\", \"1\", \"2\", \"3\", \"4\", \"5\", \"6\", \"7\", \"8\", \"9\", \"10\", \"11\", \"12\", \"13\", \"14\", \"15\", \"16\", \"17\", \"18\", \"19\", \"20\", \"21\", \"22\", \"23\", \"24\", \"25\", \"26\", \"27\", \"28\", \"29\"], \"mode\": \"lines\", \"name\": \"recall_score_weighted_max\", \"stepped\": true, \"type\": \"scatter\", \"data\": [0.8059887005649717, 0.8259322033898304, 0.8327118644067797, 0.8461581920903954, 0.8461581920903954, 0.8461581920903954, 0.8461581920903954, 0.8461581920903954, 0.8496045197740113, 0.8496045197740113, 0.8496045197740113, 0.8496045197740113, 0.8496045197740113, 0.8496045197740113, 0.8496045197740113, 0.8496045197740113, 0.8496045197740113, 0.8496045197740113, 0.8496045197740113, 0.8496045197740113, 0.8496045197740113, 0.8496045197740113, 0.8496045197740113, 0.8496045197740113, 0.8596045197740112, 0.8596045197740112, 0.8596045197740112, 0.8596045197740112, 0.8662711864406779, 0.8662711864406779]}], \"norm_macro_recall\": [{\"categories\": [\"0\", \"1\", \"2\", \"3\", \"4\", \"5\", \"6\", \"7\", \"8\", \"9\", \"10\", \"11\", \"12\", \"13\", \"14\", \"15\", \"16\", \"17\", \"18\", \"19\", \"20\", \"21\", \"22\", \"23\", \"24\", \"25\", \"26\", \"27\", \"28\", \"29\"], \"mode\": \"markers\", \"name\": \"norm_macro_recall\", \"stepped\": false, \"type\": \"scatter\", \"data\": [0.5520418050941306, 0.6120251937984496, 0.6147799003322258, 0.6204595791805094, 0.6360478959025471, 0.23652270210409737, 0.6376536544850498, 0.275952380952381, 0.6224916943521595, 0.5916071428571429, 0.5344310631229235, 0.5917857142857142, 0.6000179955703212, 0.5950013842746402, 0.5471774640088594, 0.6003488372093024, 0.6238953488372092, 0.6251536544850499, 0.5830024916943521, 0.634312015503876, 0.39722037652270215, 0.6270418050941308, 0.533376245847176, 0.5955620155038759, 0.6199404761904762, 0.0, 0.6455717054263566, 0.6454941860465115, 0.6524404761904762, 0.6423048172757475]}, {\"categories\": [\"0\", \"1\", \"2\", \"3\", \"4\", \"5\", \"6\", \"7\", \"8\", \"9\", \"10\", \"11\", \"12\", \"13\", \"14\", \"15\", \"16\", \"17\", \"18\", \"19\", \"20\", \"21\", \"22\", \"23\", \"24\", \"25\", \"26\", \"27\", \"28\", \"29\"], \"mode\": \"lines\", \"name\": \"norm_macro_recall_max\", \"stepped\": true, \"type\": \"scatter\", \"data\": [0.5520418050941306, 0.6120251937984496, 0.6147799003322258, 0.6204595791805094, 0.6360478959025471, 0.6360478959025471, 0.6376536544850498, 0.6376536544850498, 0.6376536544850498, 0.6376536544850498, 0.6376536544850498, 0.6376536544850498, 0.6376536544850498, 0.6376536544850498, 0.6376536544850498, 0.6376536544850498, 0.6376536544850498, 0.6376536544850498, 0.6376536544850498, 0.6376536544850498, 0.6376536544850498, 0.6376536544850498, 0.6376536544850498, 0.6376536544850498, 0.6376536544850498, 0.6376536544850498, 0.6455717054263566, 0.6455717054263566, 0.6524404761904762, 0.6524404761904762]}], \"average_precision_score_micro\": [{\"categories\": [\"0\", \"1\", \"2\", \"3\", \"4\", \"5\", \"6\", \"7\", \"8\", \"9\", \"10\", \"11\", \"12\", \"13\", \"14\", \"15\", \"16\", \"17\", \"18\", \"19\", \"20\", \"21\", \"22\", \"23\", \"24\", \"25\", \"26\", \"27\", \"28\", \"29\"], \"mode\": \"markers\", \"name\": \"average_precision_score_micro\", \"stepped\": false, \"type\": \"scatter\", \"data\": [0.887958292631032, 0.9018582931163117, 0.910161871641565, 0.9019468941262833, 0.9160336696159515, 0.7621430881617474, 0.9146447138049257, 0.8377483843872803, 0.9026020432426062, 0.8951291116953307, 0.8877787967043064, 0.9215437128780299, 0.9111581298001014, 0.9037717499138058, 0.9006376774159642, 0.8872160781039942, 0.9054186415211728, 0.9130515156134766, 0.8984293833786829, 0.9121865428825375, 0.8819411395446485, 0.9048185882112945, 0.8943812946015959, 0.903699163363165, 0.9074086347103151, 0.6293524849181271, 0.9148574256951385, 0.9177690708302517, 0.917153902885716, 0.9141744391053186]}, {\"categories\": [\"0\", \"1\", \"2\", \"3\", \"4\", \"5\", \"6\", \"7\", \"8\", \"9\", \"10\", \"11\", \"12\", \"13\", \"14\", \"15\", \"16\", \"17\", \"18\", \"19\", \"20\", \"21\", \"22\", \"23\", \"24\", \"25\", \"26\", \"27\", \"28\", \"29\"], \"mode\": \"lines\", \"name\": \"average_precision_score_micro_max\", \"stepped\": true, \"type\": \"scatter\", \"data\": [0.887958292631032, 0.9018582931163117, 0.910161871641565, 0.910161871641565, 0.9160336696159515, 0.9160336696159515, 0.9160336696159515, 0.9160336696159515, 0.9160336696159515, 0.9160336696159515, 0.9160336696159515, 0.9215437128780299, 0.9215437128780299, 0.9215437128780299, 0.9215437128780299, 0.9215437128780299, 0.9215437128780299, 0.9215437128780299, 0.9215437128780299, 0.9215437128780299, 0.9215437128780299, 0.9215437128780299, 0.9215437128780299, 0.9215437128780299, 0.9215437128780299, 0.9215437128780299, 0.9215437128780299, 0.9215437128780299, 0.9215437128780299, 0.9215437128780299]}], \"f1_score_weighted\": [{\"categories\": [\"0\", \"1\", \"2\", \"3\", \"4\", \"5\", \"6\", \"7\", \"8\", \"9\", \"10\", \"11\", \"12\", \"13\", \"14\", \"15\", \"16\", \"17\", \"18\", \"19\", \"20\", \"21\", \"22\", \"23\", \"24\", \"25\", \"26\", \"27\", \"28\", \"29\"], \"mode\": \"markers\", \"name\": \"f1_score_weighted\", \"stepped\": false, \"type\": \"scatter\", \"data\": [0.8014398448329555, 0.8237396450256732, 0.8310557290811055, 0.8431312446885073, 0.8263901519494375, 0.6758180977841994, 0.8388010032790716, 0.6920924975909098, 0.8445786473037667, 0.8391785969162753, 0.8041176153746544, 0.8376717328961693, 0.8277041636824469, 0.8128022923178765, 0.8121339252832713, 0.8341702288093698, 0.8355481812372874, 0.8376911239742715, 0.8267330740257194, 0.842181702304847, 0.7503371174357486, 0.8318656682565821, 0.8101801233132461, 0.8236880782729046, 0.8517021251210956, 0.5526564268547016, 0.8329343981262373, 0.8431702206188527, 0.8593020825771605, 0.8477184338209713]}, {\"categories\": [\"0\", \"1\", \"2\", \"3\", \"4\", \"5\", \"6\", \"7\", \"8\", \"9\", \"10\", \"11\", \"12\", \"13\", \"14\", \"15\", \"16\", \"17\", \"18\", \"19\", \"20\", \"21\", \"22\", \"23\", \"24\", \"25\", \"26\", \"27\", \"28\", \"29\"], \"mode\": \"lines\", \"name\": \"f1_score_weighted_max\", \"stepped\": true, \"type\": \"scatter\", \"data\": [0.8014398448329555, 0.8237396450256732, 0.8310557290811055, 0.8431312446885073, 0.8431312446885073, 0.8431312446885073, 0.8431312446885073, 0.8431312446885073, 0.8445786473037667, 0.8445786473037667, 0.8445786473037667, 0.8445786473037667, 0.8445786473037667, 0.8445786473037667, 0.8445786473037667, 0.8445786473037667, 0.8445786473037667, 0.8445786473037667, 0.8445786473037667, 0.8445786473037667, 0.8445786473037667, 0.8445786473037667, 0.8445786473037667, 0.8445786473037667, 0.8517021251210956, 0.8517021251210956, 0.8517021251210956, 0.8517021251210956, 0.8593020825771605, 0.8593020825771605]}], \"precision_score_weighted\": [{\"categories\": [\"0\", \"1\", \"2\", \"3\", \"4\", \"5\", \"6\", \"7\", \"8\", \"9\", \"10\", \"11\", \"12\", \"13\", \"14\", \"15\", \"16\", \"17\", \"18\", \"19\", \"20\", \"21\", \"22\", \"23\", \"24\", \"25\", \"26\", \"27\", \"28\", \"29\"], \"mode\": \"markers\", \"name\": \"precision_score_weighted\", \"stepped\": false, \"type\": \"scatter\", \"data\": [0.8237683758533973, 0.8403871377947292, 0.8427236084711595, 0.8519456256281221, 0.8475748355444267, 0.7234391200280821, 0.8572811446914537, 0.7792163027878148, 0.8634172995690739, 0.8662710785272848, 0.8315673124386462, 0.8513212476762047, 0.8439344285644792, 0.8337433055171506, 0.8349702549609818, 0.8602889885348265, 0.8551097312707677, 0.8552754797496798, 0.842401668742981, 0.8569599585110812, 0.7902541496168615, 0.8521985362475807, 0.8384586598088019, 0.8361340649112844, 0.874212804768643, 0.4689005075169971, 0.8473399639314, 0.8585738390026487, 0.8811703456667364, 0.8657455909049693]}, {\"categories\": [\"0\", \"1\", \"2\", \"3\", \"4\", \"5\", \"6\", \"7\", \"8\", \"9\", \"10\", \"11\", \"12\", \"13\", \"14\", \"15\", \"16\", \"17\", \"18\", \"19\", \"20\", \"21\", \"22\", \"23\", \"24\", \"25\", \"26\", \"27\", \"28\", \"29\"], \"mode\": \"lines\", \"name\": \"precision_score_weighted_max\", \"stepped\": true, \"type\": \"scatter\", \"data\": [0.8237683758533973, 0.8403871377947292, 0.8427236084711595, 0.8519456256281221, 0.8519456256281221, 0.8519456256281221, 0.8572811446914537, 0.8572811446914537, 0.8634172995690739, 0.8662710785272848, 0.8662710785272848, 0.8662710785272848, 0.8662710785272848, 0.8662710785272848, 0.8662710785272848, 0.8662710785272848, 0.8662710785272848, 0.8662710785272848, 0.8662710785272848, 0.8662710785272848, 0.8662710785272848, 0.8662710785272848, 0.8662710785272848, 0.8662710785272848, 0.874212804768643, 0.874212804768643, 0.874212804768643, 0.874212804768643, 0.8811703456667364, 0.8811703456667364]}], \"average_precision_score_macro\": [{\"categories\": [\"0\", \"1\", \"2\", \"3\", \"4\", \"5\", \"6\", \"7\", \"8\", \"9\", \"10\", \"11\", \"12\", \"13\", \"14\", \"15\", \"16\", \"17\", \"18\", \"19\", \"20\", \"21\", \"22\", \"23\", \"24\", \"25\", \"26\", \"27\", \"28\", \"29\"], \"mode\": \"markers\", \"name\": \"average_precision_score_macro\", \"stepped\": false, \"type\": \"scatter\", \"data\": [0.8655792376041671, 0.8826936933050062, 0.8905869258202046, 0.8864655584709666, 0.8955470309587932, 0.7184634262666745, 0.8977681061536193, 0.799425832504898, 0.8802531433544377, 0.8731904070128873, 0.8821896413678351, 0.9069042132587232, 0.8949484146327167, 0.8760541788719116, 0.8927456468445853, 0.8619592063912815, 0.8922085130589009, 0.9020034317196111, 0.8841759266110877, 0.8967354281188736, 0.8650154206721312, 0.8910741257817303, 0.8867701259891273, 0.8706133895772437, 0.889483570664364, 0.5, 0.9090567902008122, 0.903921209898518, 0.9026810254079883, 0.9044161230490626]}, {\"categories\": [\"0\", \"1\", \"2\", \"3\", \"4\", \"5\", \"6\", \"7\", \"8\", \"9\", \"10\", \"11\", \"12\", \"13\", \"14\", \"15\", \"16\", \"17\", \"18\", \"19\", \"20\", \"21\", \"22\", \"23\", \"24\", \"25\", \"26\", \"27\", \"28\", \"29\"], \"mode\": \"lines\", \"name\": \"average_precision_score_macro_max\", \"stepped\": true, \"type\": \"scatter\", \"data\": [0.8655792376041671, 0.8826936933050062, 0.8905869258202046, 0.8905869258202046, 0.8955470309587932, 0.8955470309587932, 0.8977681061536193, 0.8977681061536193, 0.8977681061536193, 0.8977681061536193, 0.8977681061536193, 0.9069042132587232, 0.9069042132587232, 0.9069042132587232, 0.9069042132587232, 0.9069042132587232, 0.9069042132587232, 0.9069042132587232, 0.9069042132587232, 0.9069042132587232, 0.9069042132587232, 0.9069042132587232, 0.9069042132587232, 0.9069042132587232, 0.9069042132587232, 0.9069042132587232, 0.9090567902008122, 0.9090567902008122, 0.9090567902008122, 0.9090567902008122]}], \"precision_score_micro\": [{\"categories\": [\"0\", \"1\", \"2\", \"3\", \"4\", \"5\", \"6\", \"7\", \"8\", \"9\", \"10\", \"11\", \"12\", \"13\", \"14\", \"15\", \"16\", \"17\", \"18\", \"19\", \"20\", \"21\", \"22\", \"23\", \"24\", \"25\", \"26\", \"27\", \"28\", \"29\"], \"mode\": \"markers\", \"name\": \"precision_score_micro\", \"stepped\": false, \"type\": \"scatter\", \"data\": [0.8059887005649717, 0.8259322033898304, 0.8327118644067797, 0.8461581920903954, 0.8257627118644069, 0.7090960451977402, 0.8428248587570621, 0.736045197740113, 0.8496045197740113, 0.8494915254237287, 0.8160451977401131, 0.8429378531073446, 0.8326553672316385, 0.8125988700564971, 0.8226553672316385, 0.8427118644067797, 0.8393785310734463, 0.8427683615819209, 0.8327118644067797, 0.8461016949152542, 0.7724293785310734, 0.836045197740113, 0.822768361581921, 0.8261581920903955, 0.8596045197740112, 0.67909604519774, 0.8291525423728814, 0.846045197740113, 0.8662711864406779, 0.8528813559322034]}, {\"categories\": [\"0\", \"1\", \"2\", \"3\", \"4\", \"5\", \"6\", \"7\", \"8\", \"9\", \"10\", \"11\", \"12\", \"13\", \"14\", \"15\", \"16\", \"17\", \"18\", \"19\", \"20\", \"21\", \"22\", \"23\", \"24\", \"25\", \"26\", \"27\", \"28\", \"29\"], \"mode\": \"lines\", \"name\": \"precision_score_micro_max\", \"stepped\": true, \"type\": \"scatter\", \"data\": [0.8059887005649717, 0.8259322033898304, 0.8327118644067797, 0.8461581920903954, 0.8461581920903954, 0.8461581920903954, 0.8461581920903954, 0.8461581920903954, 0.8496045197740113, 0.8496045197740113, 0.8496045197740113, 0.8496045197740113, 0.8496045197740113, 0.8496045197740113, 0.8496045197740113, 0.8496045197740113, 0.8496045197740113, 0.8496045197740113, 0.8496045197740113, 0.8496045197740113, 0.8496045197740113, 0.8496045197740113, 0.8496045197740113, 0.8496045197740113, 0.8596045197740112, 0.8596045197740112, 0.8596045197740112, 0.8596045197740112, 0.8662711864406779, 0.8662711864406779]}], \"recall_score_micro\": [{\"categories\": [\"0\", \"1\", \"2\", \"3\", \"4\", \"5\", \"6\", \"7\", \"8\", \"9\", \"10\", \"11\", \"12\", \"13\", \"14\", \"15\", \"16\", \"17\", \"18\", \"19\", \"20\", \"21\", \"22\", \"23\", \"24\", \"25\", \"26\", \"27\", \"28\", \"29\"], \"mode\": \"markers\", \"name\": \"recall_score_micro\", \"stepped\": false, \"type\": \"scatter\", \"data\": [0.8059887005649717, 0.8259322033898304, 0.8327118644067797, 0.8461581920903954, 0.8257627118644069, 0.7090960451977402, 0.8428248587570621, 0.736045197740113, 0.8496045197740113, 0.8494915254237287, 0.8160451977401131, 0.8429378531073446, 0.8326553672316385, 0.8125988700564971, 0.8226553672316385, 0.8427118644067797, 0.8393785310734463, 0.8427683615819209, 0.8327118644067797, 0.8461016949152542, 0.7724293785310734, 0.836045197740113, 0.822768361581921, 0.8261581920903955, 0.8596045197740112, 0.67909604519774, 0.8291525423728814, 0.846045197740113, 0.8662711864406779, 0.8528813559322034]}, {\"categories\": [\"0\", \"1\", \"2\", \"3\", \"4\", \"5\", \"6\", \"7\", \"8\", \"9\", \"10\", \"11\", \"12\", \"13\", \"14\", \"15\", \"16\", \"17\", \"18\", \"19\", \"20\", \"21\", \"22\", \"23\", \"24\", \"25\", \"26\", \"27\", \"28\", \"29\"], \"mode\": \"lines\", \"name\": \"recall_score_micro_max\", \"stepped\": true, \"type\": \"scatter\", \"data\": [0.8059887005649717, 0.8259322033898304, 0.8327118644067797, 0.8461581920903954, 0.8461581920903954, 0.8461581920903954, 0.8461581920903954, 0.8461581920903954, 0.8496045197740113, 0.8496045197740113, 0.8496045197740113, 0.8496045197740113, 0.8496045197740113, 0.8496045197740113, 0.8496045197740113, 0.8496045197740113, 0.8496045197740113, 0.8496045197740113, 0.8496045197740113, 0.8496045197740113, 0.8496045197740113, 0.8496045197740113, 0.8496045197740113, 0.8496045197740113, 0.8596045197740112, 0.8596045197740112, 0.8596045197740112, 0.8596045197740112, 0.8662711864406779, 0.8662711864406779]}], \"AUC_micro\": [{\"categories\": [\"0\", \"1\", \"2\", \"3\", \"4\", \"5\", \"6\", \"7\", \"8\", \"9\", \"10\", \"11\", \"12\", \"13\", \"14\", \"15\", \"16\", \"17\", \"18\", \"19\", \"20\", \"21\", \"22\", \"23\", \"24\", \"25\", \"26\", \"27\", \"28\", \"29\"], \"mode\": \"markers\", \"name\": \"AUC_micro\", \"stepped\": false, \"type\": \"scatter\", \"data\": [0.8880105014523284, 0.8999905678444892, 0.9065109802419483, 0.9027787832359795, 0.9117702448210924, 0.7801916993839574, 0.9133091704171854, 0.8328210603594114, 0.9057792460659453, 0.8947711864406781, 0.8864027259089022, 0.9167792460659452, 0.9082023364933448, 0.9026999744645534, 0.8984269367040122, 0.8893709023588368, 0.9037749848383287, 0.9124031887388682, 0.9025456446104249, 0.9102351016629958, 0.8749468862715057, 0.9041296881483609, 0.8903827763414089, 0.9038082128379455, 0.9051804877270261, 0.6790960451977401, 0.9133984487216317, 0.915434054709694, 0.9157626320661368, 0.9114501899198826]}, {\"categories\": [\"0\", \"1\", \"2\", \"3\", \"4\", \"5\", \"6\", \"7\", \"8\", \"9\", \"10\", \"11\", \"12\", \"13\", \"14\", \"15\", \"16\", \"17\", \"18\", \"19\", \"20\", \"21\", \"22\", \"23\", \"24\", \"25\", \"26\", \"27\", \"28\", \"29\"], \"mode\": \"lines\", \"name\": \"AUC_micro_max\", \"stepped\": true, \"type\": \"scatter\", \"data\": [0.8880105014523284, 0.8999905678444892, 0.9065109802419483, 0.9065109802419483, 0.9117702448210924, 0.9117702448210924, 0.9133091704171854, 0.9133091704171854, 0.9133091704171854, 0.9133091704171854, 0.9133091704171854, 0.9167792460659452, 0.9167792460659452, 0.9167792460659452, 0.9167792460659452, 0.9167792460659452, 0.9167792460659452, 0.9167792460659452, 0.9167792460659452, 0.9167792460659452, 0.9167792460659452, 0.9167792460659452, 0.9167792460659452, 0.9167792460659452, 0.9167792460659452, 0.9167792460659452, 0.9167792460659452, 0.9167792460659452, 0.9167792460659452, 0.9167792460659452]}], \"precision_score_macro\": [{\"categories\": [\"0\", \"1\", \"2\", \"3\", \"4\", \"5\", \"6\", \"7\", \"8\", \"9\", \"10\", \"11\", \"12\", \"13\", \"14\", \"15\", \"16\", \"17\", \"18\", \"19\", \"20\", \"21\", \"22\", \"23\", \"24\", \"25\", \"26\", \"27\", \"28\", \"29\"], \"mode\": \"markers\", \"name\": \"precision_score_macro\", \"stepped\": false, \"type\": \"scatter\", \"data\": [0.7889041743265773, 0.8086642059265495, 0.8106997091171774, 0.8288572918105119, 0.8065395307307073, 0.683156491390106, 0.8299647720700353, 0.7693400768179093, 0.848492463658258, 0.8720313023213203, 0.8145149307214524, 0.8425169773066902, 0.8190090010719058, 0.7905689599071952, 0.8180319983967401, 0.8435179739053155, 0.8261203708572129, 0.8306956487853805, 0.821192643029795, 0.8337917799507946, 0.7746602920888634, 0.8200378108888747, 0.8287844841493911, 0.8043686937144268, 0.8782844057744432, 0.33954802259887, 0.8004073441178704, 0.8292112610247621, 0.8792346219915288, 0.847261647798188]}, {\"categories\": [\"0\", \"1\", \"2\", \"3\", \"4\", \"5\", \"6\", \"7\", \"8\", \"9\", \"10\", \"11\", \"12\", \"13\", \"14\", \"15\", \"16\", \"17\", \"18\", \"19\", \"20\", \"21\", \"22\", \"23\", \"24\", \"25\", \"26\", \"27\", \"28\", \"29\"], \"mode\": \"lines\", \"name\": \"precision_score_macro_max\", \"stepped\": true, \"type\": \"scatter\", \"data\": [0.7889041743265773, 0.8086642059265495, 0.8106997091171774, 0.8288572918105119, 0.8288572918105119, 0.8288572918105119, 0.8299647720700353, 0.8299647720700353, 0.848492463658258, 0.8720313023213203, 0.8720313023213203, 0.8720313023213203, 0.8720313023213203, 0.8720313023213203, 0.8720313023213203, 0.8720313023213203, 0.8720313023213203, 0.8720313023213203, 0.8720313023213203, 0.8720313023213203, 0.8720313023213203, 0.8720313023213203, 0.8720313023213203, 0.8720313023213203, 0.8782844057744432, 0.8782844057744432, 0.8782844057744432, 0.8782844057744432, 0.8792346219915288, 0.8792346219915288]}], \"recall_score_macro\": [{\"categories\": [\"0\", \"1\", \"2\", \"3\", \"4\", \"5\", \"6\", \"7\", \"8\", \"9\", \"10\", \"11\", \"12\", \"13\", \"14\", \"15\", \"16\", \"17\", \"18\", \"19\", \"20\", \"21\", \"22\", \"23\", \"24\", \"25\", \"26\", \"27\", \"28\", \"29\"], \"mode\": \"markers\", \"name\": \"recall_score_macro\", \"stepped\": false, \"type\": \"scatter\", \"data\": [0.7760209025470652, 0.8060125968992248, 0.8073899501661129, 0.8102297895902547, 0.8180239479512735, 0.6182613510520487, 0.818826827242525, 0.6379761904761905, 0.8112458471760797, 0.7958035714285714, 0.7672155315614617, 0.7958928571428572, 0.8000089977851607, 0.79750069213732, 0.7735887320044297, 0.8001744186046512, 0.8119476744186047, 0.8125768272425249, 0.7915012458471761, 0.8171560077519381, 0.698610188261351, 0.8135209025470653, 0.766688122923588, 0.7977810077519379, 0.8099702380952379, 0.5, 0.8227858527131783, 0.8227470930232558, 0.8262202380952381, 0.8211524086378738]}, {\"categories\": [\"0\", \"1\", \"2\", \"3\", \"4\", \"5\", \"6\", \"7\", \"8\", \"9\", \"10\", \"11\", \"12\", \"13\", \"14\", \"15\", \"16\", \"17\", \"18\", \"19\", \"20\", \"21\", \"22\", \"23\", \"24\", \"25\", \"26\", \"27\", \"28\", \"29\"], \"mode\": \"lines\", \"name\": \"recall_score_macro_max\", \"stepped\": true, \"type\": \"scatter\", \"data\": [0.7760209025470652, 0.8060125968992248, 0.8073899501661129, 0.8102297895902547, 0.8180239479512735, 0.8180239479512735, 0.818826827242525, 0.818826827242525, 0.818826827242525, 0.818826827242525, 0.818826827242525, 0.818826827242525, 0.818826827242525, 0.818826827242525, 0.818826827242525, 0.818826827242525, 0.818826827242525, 0.818826827242525, 0.818826827242525, 0.818826827242525, 0.818826827242525, 0.818826827242525, 0.818826827242525, 0.818826827242525, 0.818826827242525, 0.818826827242525, 0.8227858527131783, 0.8227858527131783, 0.8262202380952381, 0.8262202380952381]}], \"matthews_correlation\": [{\"categories\": [\"0\", \"1\", \"2\", \"3\", \"4\", \"5\", \"6\", \"7\", \"8\", \"9\", \"10\", \"11\", \"12\", \"13\", \"14\", \"15\", \"16\", \"17\", \"18\", \"19\", \"20\", \"21\", \"22\", \"23\", \"24\", \"25\", \"26\", \"27\", \"28\", \"29\"], \"mode\": \"markers\", \"name\": \"matthews_correlation\", \"stepped\": false, \"type\": \"scatter\", \"data\": [0.5628617041183437, 0.6132552509330647, 0.6171921594096946, 0.6376655410488355, 0.6229292309252894, 0.28757187940300155, 0.6468134472044651, 0.37006932289245953, 0.6568903004948619, 0.6597841243537559, 0.577377585520883, 0.6347207290884559, 0.6174019003823129, 0.5864150012228652, 0.5874889280817045, 0.6368962197433861, 0.635946962452438, 0.6411078008947703, 0.6109833255302364, 0.649600073401778, 0.4640579590011538, 0.6313236379592749, 0.5901887533012059, 0.6011723523055119, 0.6831166819725173, 0.0, 0.6222265815514829, 0.6505958336207279, 0.7008386048686714, 0.6661042647095533]}, {\"categories\": [\"0\", \"1\", \"2\", \"3\", \"4\", \"5\", \"6\", \"7\", \"8\", \"9\", \"10\", \"11\", \"12\", \"13\", \"14\", \"15\", \"16\", \"17\", \"18\", \"19\", \"20\", \"21\", \"22\", \"23\", \"24\", \"25\", \"26\", \"27\", \"28\", \"29\"], \"mode\": \"lines\", \"name\": \"matthews_correlation_max\", \"stepped\": true, \"type\": \"scatter\", \"data\": [0.5628617041183437, 0.6132552509330647, 0.6171921594096946, 0.6376655410488355, 0.6376655410488355, 0.6376655410488355, 0.6468134472044651, 0.6468134472044651, 0.6568903004948619, 0.6597841243537559, 0.6597841243537559, 0.6597841243537559, 0.6597841243537559, 0.6597841243537559, 0.6597841243537559, 0.6597841243537559, 0.6597841243537559, 0.6597841243537559, 0.6597841243537559, 0.6597841243537559, 0.6597841243537559, 0.6597841243537559, 0.6597841243537559, 0.6597841243537559, 0.6831166819725173, 0.6831166819725173, 0.6831166819725173, 0.6831166819725173, 0.7008386048686714, 0.7008386048686714]}], \"f1_score_micro\": [{\"categories\": [\"0\", \"1\", \"2\", \"3\", \"4\", \"5\", \"6\", \"7\", \"8\", \"9\", \"10\", \"11\", \"12\", \"13\", \"14\", \"15\", \"16\", \"17\", \"18\", \"19\", \"20\", \"21\", \"22\", \"23\", \"24\", \"25\", \"26\", \"27\", \"28\", \"29\"], \"mode\": \"markers\", \"name\": \"f1_score_micro\", \"stepped\": false, \"type\": \"scatter\", \"data\": [0.8059887005649718, 0.8259322033898304, 0.8327118644067797, 0.8461581920903954, 0.8257627118644069, 0.7090960451977402, 0.8428248587570621, 0.736045197740113, 0.8496045197740113, 0.8494915254237287, 0.8160451977401131, 0.8429378531073446, 0.8326553672316385, 0.8125988700564971, 0.8226553672316385, 0.8427118644067797, 0.8393785310734463, 0.8427683615819209, 0.8327118644067797, 0.8461016949152542, 0.7724293785310734, 0.836045197740113, 0.822768361581921, 0.8261581920903955, 0.8596045197740112, 0.67909604519774, 0.8291525423728814, 0.846045197740113, 0.8662711864406779, 0.8528813559322034]}, {\"categories\": [\"0\", \"1\", \"2\", \"3\", \"4\", \"5\", \"6\", \"7\", \"8\", \"9\", \"10\", \"11\", \"12\", \"13\", \"14\", \"15\", \"16\", \"17\", \"18\", \"19\", \"20\", \"21\", \"22\", \"23\", \"24\", \"25\", \"26\", \"27\", \"28\", \"29\"], \"mode\": \"lines\", \"name\": \"f1_score_micro_max\", \"stepped\": true, \"type\": \"scatter\", \"data\": [0.8059887005649718, 0.8259322033898304, 0.8327118644067797, 0.8461581920903954, 0.8461581920903954, 0.8461581920903954, 0.8461581920903954, 0.8461581920903954, 0.8496045197740113, 0.8496045197740113, 0.8496045197740113, 0.8496045197740113, 0.8496045197740113, 0.8496045197740113, 0.8496045197740113, 0.8496045197740113, 0.8496045197740113, 0.8496045197740113, 0.8496045197740113, 0.8496045197740113, 0.8496045197740113, 0.8496045197740113, 0.8496045197740113, 0.8496045197740113, 0.8596045197740112, 0.8596045197740112, 0.8596045197740112, 0.8596045197740112, 0.8662711864406779, 0.8662711864406779]}], \"weighted_accuracy\": [{\"categories\": [\"0\", \"1\", \"2\", \"3\", \"4\", \"5\", \"6\", \"7\", \"8\", \"9\", \"10\", \"11\", \"12\", \"13\", \"14\", \"15\", \"16\", \"17\", \"18\", \"19\", \"20\", \"21\", \"22\", \"23\", \"24\", \"25\", \"26\", \"27\", \"28\", \"29\"], \"mode\": \"markers\", \"name\": \"weighted_accuracy\", \"stepped\": false, \"type\": \"scatter\", \"data\": [0.8252063202764133, 0.8406325321291572, 0.8500962829880023, 0.8694097549977888, 0.8315517765679413, 0.7715242910482673, 0.8589752689674446, 0.8032567402089587, 0.876880803619453, 0.8864359368450468, 0.8499213641944703, 0.8744049998701687, 0.8552056261934704, 0.8229847792226849, 0.8572389223908932, 0.8717026983916979, 0.8580067363964483, 0.8634550789436914, 0.8603107447254438, 0.8659086720388028, 0.8240407085416305, 0.851785333829578, 0.8616695406811328, 0.8450655096419414, 0.8924959247356901, 0.7971865900207855, 0.8327540766038407, 0.8619015927225157, 0.8935547482651017, 0.8750607796562806]}, {\"categories\": [\"0\", \"1\", \"2\", \"3\", \"4\", \"5\", \"6\", \"7\", \"8\", \"9\", \"10\", \"11\", \"12\", \"13\", \"14\", \"15\", \"16\", \"17\", \"18\", \"19\", \"20\", \"21\", \"22\", \"23\", \"24\", \"25\", \"26\", \"27\", \"28\", \"29\"], \"mode\": \"lines\", \"name\": \"weighted_accuracy_max\", \"stepped\": true, \"type\": \"scatter\", \"data\": [0.8252063202764133, 0.8406325321291572, 0.8500962829880023, 0.8694097549977888, 0.8694097549977888, 0.8694097549977888, 0.8694097549977888, 0.8694097549977888, 0.876880803619453, 0.8864359368450468, 0.8864359368450468, 0.8864359368450468, 0.8864359368450468, 0.8864359368450468, 0.8864359368450468, 0.8864359368450468, 0.8864359368450468, 0.8864359368450468, 0.8864359368450468, 0.8864359368450468, 0.8864359368450468, 0.8864359368450468, 0.8864359368450468, 0.8864359368450468, 0.8924959247356901, 0.8924959247356901, 0.8924959247356901, 0.8924959247356901, 0.8935547482651017, 0.8935547482651017]}], \"accuracy\": [{\"categories\": [\"0\", \"1\", \"2\", \"3\", \"4\", \"5\", \"6\", \"7\", \"8\", \"9\", \"10\", \"11\", \"12\", \"13\", \"14\", \"15\", \"16\", \"17\", \"18\", \"19\", \"20\", \"21\", \"22\", \"23\", \"24\", \"25\", \"26\", \"27\", \"28\", \"29\"], \"mode\": \"markers\", \"name\": \"accuracy\", \"stepped\": false, \"type\": \"scatter\", \"data\": [0.8059887005649717, 0.8259322033898304, 0.8327118644067797, 0.8461581920903954, 0.8257627118644069, 0.7090960451977402, 0.8428248587570621, 0.736045197740113, 0.8496045197740113, 0.8494915254237287, 0.8160451977401131, 0.8429378531073446, 0.8326553672316385, 0.8125988700564971, 0.8226553672316385, 0.8427118644067797, 0.8393785310734463, 0.8427683615819209, 0.8327118644067797, 0.8461016949152542, 0.7724293785310734, 0.836045197740113, 0.822768361581921, 0.8261581920903955, 0.8596045197740112, 0.67909604519774, 0.8291525423728814, 0.846045197740113, 0.8662711864406779, 0.8528813559322034]}, {\"categories\": [\"0\", \"1\", \"2\", \"3\", \"4\", \"5\", \"6\", \"7\", \"8\", \"9\", \"10\", \"11\", \"12\", \"13\", \"14\", \"15\", \"16\", \"17\", \"18\", \"19\", \"20\", \"21\", \"22\", \"23\", \"24\", \"25\", \"26\", \"27\", \"28\", \"29\"], \"mode\": \"lines\", \"name\": \"accuracy_max\", \"stepped\": true, \"type\": \"scatter\", \"data\": [0.8059887005649717, 0.8259322033898304, 0.8327118644067797, 0.8461581920903954, 0.8461581920903954, 0.8461581920903954, 0.8461581920903954, 0.8461581920903954, 0.8496045197740113, 0.8496045197740113, 0.8496045197740113, 0.8496045197740113, 0.8496045197740113, 0.8496045197740113, 0.8496045197740113, 0.8496045197740113, 0.8496045197740113, 0.8496045197740113, 0.8496045197740113, 0.8496045197740113, 0.8496045197740113, 0.8496045197740113, 0.8496045197740113, 0.8496045197740113, 0.8596045197740112, 0.8596045197740112, 0.8596045197740112, 0.8596045197740112, 0.8662711864406779, 0.8662711864406779]}]}, \"metricName\": null, \"primaryMetricName\": \"accuracy\", \"showLegend\": false}, \"run_metrics\": [{\"name\": \"recall_score_weighted\", \"run_id\": \"AutoML_194d8a33-aa09-4f40-82c8-91889e31058d\", \"categories\": [0], \"series\": [{\"data\": [0.8662711864406779]}]}, {\"name\": \"f1_score_micro\", \"run_id\": \"AutoML_194d8a33-aa09-4f40-82c8-91889e31058d\", \"categories\": [0], \"series\": [{\"data\": [0.8662711864406779]}]}, {\"name\": \"recall_score_macro\", \"run_id\": \"AutoML_194d8a33-aa09-4f40-82c8-91889e31058d\", \"categories\": [0], \"series\": [{\"data\": [0.8262202380952381]}]}, {\"name\": \"average_precision_score_weighted\", \"run_id\": \"AutoML_194d8a33-aa09-4f40-82c8-91889e31058d\", \"categories\": [0], \"series\": [{\"data\": [0.9240246404301928]}]}, {\"name\": \"precision_score_weighted\", \"run_id\": \"AutoML_194d8a33-aa09-4f40-82c8-91889e31058d\", \"categories\": [0], \"series\": [{\"data\": [0.8811703456667364]}]}, {\"name\": \"precision_score_macro\", \"run_id\": \"AutoML_194d8a33-aa09-4f40-82c8-91889e31058d\", \"categories\": [0], \"series\": [{\"data\": [0.8792346219915288]}]}, {\"name\": \"AUC_micro\", \"run_id\": \"AutoML_194d8a33-aa09-4f40-82c8-91889e31058d\", \"categories\": [0], \"series\": [{\"data\": [0.9157626320661368]}]}, {\"name\": \"f1_score_macro\", \"run_id\": \"AutoML_194d8a33-aa09-4f40-82c8-91889e31058d\", \"categories\": [0], \"series\": [{\"data\": [0.8353344862258757]}]}, {\"name\": \"precision_score_micro\", \"run_id\": \"AutoML_194d8a33-aa09-4f40-82c8-91889e31058d\", \"categories\": [0], \"series\": [{\"data\": [0.8662711864406779]}]}, {\"name\": \"accuracy\", \"run_id\": \"AutoML_194d8a33-aa09-4f40-82c8-91889e31058d\", \"categories\": [0], \"series\": [{\"data\": [0.8662711864406779]}]}, {\"name\": \"weighted_accuracy\", \"run_id\": \"AutoML_194d8a33-aa09-4f40-82c8-91889e31058d\", \"categories\": [0], \"series\": [{\"data\": [0.8935547482651017]}]}, {\"name\": \"f1_score_weighted\", \"run_id\": \"AutoML_194d8a33-aa09-4f40-82c8-91889e31058d\", \"categories\": [0], \"series\": [{\"data\": [0.8593020825771605]}]}, {\"name\": \"recall_score_micro\", \"run_id\": \"AutoML_194d8a33-aa09-4f40-82c8-91889e31058d\", \"categories\": [0], \"series\": [{\"data\": [0.8662711864406779]}]}, {\"name\": \"average_precision_score_micro\", \"run_id\": \"AutoML_194d8a33-aa09-4f40-82c8-91889e31058d\", \"categories\": [0], \"series\": [{\"data\": [0.917153902885716]}]}, {\"name\": \"average_precision_score_macro\", \"run_id\": \"AutoML_194d8a33-aa09-4f40-82c8-91889e31058d\", \"categories\": [0], \"series\": [{\"data\": [0.9026810254079883]}]}, {\"name\": \"norm_macro_recall\", \"run_id\": \"AutoML_194d8a33-aa09-4f40-82c8-91889e31058d\", \"categories\": [0], \"series\": [{\"data\": [0.6524404761904762]}]}, {\"name\": \"balanced_accuracy\", \"run_id\": \"AutoML_194d8a33-aa09-4f40-82c8-91889e31058d\", \"categories\": [0], \"series\": [{\"data\": [0.8262202380952381]}]}, {\"name\": \"matthews_correlation\", \"run_id\": \"AutoML_194d8a33-aa09-4f40-82c8-91889e31058d\", \"categories\": [0], \"series\": [{\"data\": [0.7008386048686714]}]}, {\"name\": \"log_loss\", \"run_id\": \"AutoML_194d8a33-aa09-4f40-82c8-91889e31058d\", \"categories\": [0], \"series\": [{\"data\": [0.39697580882238215]}]}, {\"name\": \"AUC_weighted\", \"run_id\": \"AutoML_194d8a33-aa09-4f40-82c8-91889e31058d\", \"categories\": [0], \"series\": [{\"data\": [0.9117115863787376]}]}, {\"name\": \"AUC_macro\", \"run_id\": \"AutoML_194d8a33-aa09-4f40-82c8-91889e31058d\", \"categories\": [0], \"series\": [{\"data\": [0.9117115863787376]}]}], \"run_logs\": \"\\nRun is completed.\", \"graph\": {}, \"widget_settings\": {\"childWidgetDisplay\": \"popup\", \"send_telemetry\": false, \"log_level\": \"INFO\", \"sdk_version\": \"1.20.0\"}, \"loading\": false}"
     },
     "metadata": {},
     "output_type": "display_data"
    },
    {
     "data": {
      "text/plain": [
       "{'runId': 'AutoML_194d8a33-aa09-4f40-82c8-91889e31058d',\n",
       " 'target': 'local',\n",
       " 'status': 'Completed',\n",
       " 'startTimeUtc': '2021-01-30T10:37:37.218269Z',\n",
       " 'endTimeUtc': '2021-01-30T10:53:05.461565Z',\n",
       " 'properties': {'num_iterations': '30',\n",
       "  'training_type': 'TrainFull',\n",
       "  'acquisition_function': 'EI',\n",
       "  'primary_metric': 'accuracy',\n",
       "  'train_split': '0',\n",
       "  'acquisition_parameter': '0',\n",
       "  'num_cross_validation': '5',\n",
       "  'target': 'local',\n",
       "  'AMLSettingsJsonString': '{\"path\":null,\"name\":\"automl-experiment\",\"subscription_id\":\"a24a24d5-8d87-4c8a-99b6-91ed2d2df51f\",\"resource_group\":\"aml-quickstarts-136576\",\"workspace_name\":\"quick-starts-ws-136576\",\"region\":\"southcentralus\",\"compute_target\":\"local\",\"spark_service\":null,\"azure_service\":\"Microsoft.AzureNotebookVM\",\"many_models\":false,\"pipeline_fetch_max_batch_size\":1,\"iterations\":30,\"primary_metric\":\"accuracy\",\"task_type\":\"classification\",\"data_script\":null,\"validation_size\":0.0,\"n_cross_validations\":5,\"y_min\":null,\"y_max\":null,\"num_classes\":2,\"featurization\":\"auto\",\"_ignore_package_version_incompatibilities\":false,\"is_timeseries\":false,\"max_cores_per_iteration\":-1,\"max_concurrent_iterations\":8,\"iteration_timeout_minutes\":null,\"mem_in_mb\":null,\"enforce_time_on_windows\":false,\"experiment_timeout_minutes\":15,\"experiment_exit_score\":null,\"whitelist_models\":null,\"blacklist_algos\":[\"TensorFlowLinearClassifier\",\"TensorFlowDNN\"],\"supported_models\":[\"TensorFlowDNN\",\"MultinomialNaiveBayes\",\"AveragedPerceptronClassifier\",\"SGD\",\"LogisticRegression\",\"XGBoostClassifier\",\"LightGBM\",\"GradientBoosting\",\"BernoulliNaiveBayes\",\"TensorFlowLinearClassifier\",\"KNN\",\"ExtremeRandomTrees\",\"RandomForest\",\"SVM\",\"LinearSVM\",\"DecisionTree\"],\"auto_blacklist\":true,\"blacklist_samples_reached\":false,\"exclude_nan_labels\":true,\"verbosity\":20,\"_debug_log\":\"automl.log\",\"show_warnings\":false,\"model_explainability\":true,\"service_url\":null,\"sdk_url\":null,\"sdk_packages\":null,\"enable_onnx_compatible_models\":false,\"enable_split_onnx_featurizer_estimator_models\":false,\"vm_type\":null,\"telemetry_verbosity\":20,\"send_telemetry\":true,\"enable_dnn\":false,\"scenario\":\"SDK-1.13.0\",\"environment_label\":null,\"force_text_dnn\":false,\"enable_feature_sweeping\":true,\"enable_early_stopping\":false,\"early_stopping_n_iters\":10,\"metrics\":null,\"enable_ensembling\":true,\"enable_stack_ensembling\":true,\"ensemble_iterations\":15,\"enable_tf\":false,\"enable_subsampling\":false,\"subsample_seed\":null,\"enable_nimbusml\":false,\"enable_streaming\":false,\"force_streaming\":false,\"track_child_runs\":true,\"allowed_private_models\":[],\"label_column_name\":\"DEATH_EVENT\",\"weight_column_name\":null,\"cv_split_column_names\":null,\"enable_local_managed\":false,\"_local_managed_run_id\":null,\"cost_mode\":1,\"lag_length\":0,\"metric_operation\":\"maximize\",\"preprocess\":true}',\n",
       "  'DataPrepJsonString': '{\\\\\"training_data\\\\\": \\\\\"{\\\\\\\\\\\\\"blocks\\\\\\\\\\\\\": [{\\\\\\\\\\\\\"id\\\\\\\\\\\\\": \\\\\\\\\\\\\"6ff3cfdf-eea9-4906-ad08-1f9031823f35\\\\\\\\\\\\\", \\\\\\\\\\\\\"type\\\\\\\\\\\\\": \\\\\\\\\\\\\"Microsoft.DPrep.GetDatastoreFilesBlock\\\\\\\\\\\\\", \\\\\\\\\\\\\"arguments\\\\\\\\\\\\\": {\\\\\\\\\\\\\"datastores\\\\\\\\\\\\\": [{\\\\\\\\\\\\\"datastoreName\\\\\\\\\\\\\": \\\\\\\\\\\\\"workspaceblobstore\\\\\\\\\\\\\", \\\\\\\\\\\\\"path\\\\\\\\\\\\\": \\\\\\\\\\\\\"UI/01-30-2021_095541_UTC/heart_failure_clinical_records_dataset.csv\\\\\\\\\\\\\", \\\\\\\\\\\\\"resourceGroup\\\\\\\\\\\\\": \\\\\\\\\\\\\"aml-quickstarts-136576\\\\\\\\\\\\\", \\\\\\\\\\\\\"subscription\\\\\\\\\\\\\": \\\\\\\\\\\\\"a24a24d5-8d87-4c8a-99b6-91ed2d2df51f\\\\\\\\\\\\\", \\\\\\\\\\\\\"workspaceName\\\\\\\\\\\\\": \\\\\\\\\\\\\"quick-starts-ws-136576\\\\\\\\\\\\\"}]}, \\\\\\\\\\\\\"localData\\\\\\\\\\\\\": {}, \\\\\\\\\\\\\"isEnabled\\\\\\\\\\\\\": true, \\\\\\\\\\\\\"name\\\\\\\\\\\\\": null, \\\\\\\\\\\\\"annotation\\\\\\\\\\\\\": null}, {\\\\\\\\\\\\\"id\\\\\\\\\\\\\": \\\\\\\\\\\\\"27b10d70-5828-41f4-8429-316df021e224\\\\\\\\\\\\\", \\\\\\\\\\\\\"type\\\\\\\\\\\\\": \\\\\\\\\\\\\"Microsoft.DPrep.ParseDelimitedBlock\\\\\\\\\\\\\", \\\\\\\\\\\\\"arguments\\\\\\\\\\\\\": {\\\\\\\\\\\\\"columnHeadersMode\\\\\\\\\\\\\": 3, \\\\\\\\\\\\\"fileEncoding\\\\\\\\\\\\\": 0, \\\\\\\\\\\\\"handleQuotedLineBreaks\\\\\\\\\\\\\": false, \\\\\\\\\\\\\"preview\\\\\\\\\\\\\": false, \\\\\\\\\\\\\"separator\\\\\\\\\\\\\": \\\\\\\\\\\\\",\\\\\\\\\\\\\", \\\\\\\\\\\\\"skipRows\\\\\\\\\\\\\": 0, \\\\\\\\\\\\\"skipRowsMode\\\\\\\\\\\\\": 0}, \\\\\\\\\\\\\"localData\\\\\\\\\\\\\": {}, \\\\\\\\\\\\\"isEnabled\\\\\\\\\\\\\": true, \\\\\\\\\\\\\"name\\\\\\\\\\\\\": null, \\\\\\\\\\\\\"annotation\\\\\\\\\\\\\": null}, {\\\\\\\\\\\\\"id\\\\\\\\\\\\\": \\\\\\\\\\\\\"c35f2900-1239-4be5-ac9c-107b863635f9\\\\\\\\\\\\\", \\\\\\\\\\\\\"type\\\\\\\\\\\\\": \\\\\\\\\\\\\"Microsoft.DPrep.DropColumnsBlock\\\\\\\\\\\\\", \\\\\\\\\\\\\"arguments\\\\\\\\\\\\\": {\\\\\\\\\\\\\"columns\\\\\\\\\\\\\": {\\\\\\\\\\\\\"type\\\\\\\\\\\\\": 0, \\\\\\\\\\\\\"details\\\\\\\\\\\\\": {\\\\\\\\\\\\\"selectedColumns\\\\\\\\\\\\\": [\\\\\\\\\\\\\"Path\\\\\\\\\\\\\"]}}}, \\\\\\\\\\\\\"localData\\\\\\\\\\\\\": {}, \\\\\\\\\\\\\"isEnabled\\\\\\\\\\\\\": true, \\\\\\\\\\\\\"name\\\\\\\\\\\\\": null, \\\\\\\\\\\\\"annotation\\\\\\\\\\\\\": null}, {\\\\\\\\\\\\\"id\\\\\\\\\\\\\": \\\\\\\\\\\\\"d8267662-9c99-48aa-981d-87af84ac1af9\\\\\\\\\\\\\", \\\\\\\\\\\\\"type\\\\\\\\\\\\\": \\\\\\\\\\\\\"Microsoft.DPrep.SetColumnTypesBlock\\\\\\\\\\\\\", \\\\\\\\\\\\\"arguments\\\\\\\\\\\\\": {\\\\\\\\\\\\\"columnConversion\\\\\\\\\\\\\": [{\\\\\\\\\\\\\"column\\\\\\\\\\\\\": {\\\\\\\\\\\\\"type\\\\\\\\\\\\\": 2, \\\\\\\\\\\\\"details\\\\\\\\\\\\\": {\\\\\\\\\\\\\"selectedColumn\\\\\\\\\\\\\": \\\\\\\\\\\\\"Path\\\\\\\\\\\\\"}}, \\\\\\\\\\\\\"typeProperty\\\\\\\\\\\\\": 0}, {\\\\\\\\\\\\\"column\\\\\\\\\\\\\": {\\\\\\\\\\\\\"type\\\\\\\\\\\\\": 2, \\\\\\\\\\\\\"details\\\\\\\\\\\\\": {\\\\\\\\\\\\\"selectedColumn\\\\\\\\\\\\\": \\\\\\\\\\\\\"age\\\\\\\\\\\\\"}}, \\\\\\\\\\\\\"typeProperty\\\\\\\\\\\\\": 3}, {\\\\\\\\\\\\\"column\\\\\\\\\\\\\": {\\\\\\\\\\\\\"type\\\\\\\\\\\\\": 2, \\\\\\\\\\\\\"details\\\\\\\\\\\\\": {\\\\\\\\\\\\\"selectedColumn\\\\\\\\\\\\\": \\\\\\\\\\\\\"anaemia\\\\\\\\\\\\\"}}, \\\\\\\\\\\\\"typeProperty\\\\\\\\\\\\\": 2}, {\\\\\\\\\\\\\"column\\\\\\\\\\\\\": {\\\\\\\\\\\\\"type\\\\\\\\\\\\\": 2, \\\\\\\\\\\\\"details\\\\\\\\\\\\\": {\\\\\\\\\\\\\"selectedColumn\\\\\\\\\\\\\": \\\\\\\\\\\\\"creatinine_phosphokinase\\\\\\\\\\\\\"}}, \\\\\\\\\\\\\"typeProperty\\\\\\\\\\\\\": 2}, {\\\\\\\\\\\\\"column\\\\\\\\\\\\\": {\\\\\\\\\\\\\"type\\\\\\\\\\\\\": 2, \\\\\\\\\\\\\"details\\\\\\\\\\\\\": {\\\\\\\\\\\\\"selectedColumn\\\\\\\\\\\\\": \\\\\\\\\\\\\"diabetes\\\\\\\\\\\\\"}}, \\\\\\\\\\\\\"typeProperty\\\\\\\\\\\\\": 2}, {\\\\\\\\\\\\\"column\\\\\\\\\\\\\": {\\\\\\\\\\\\\"type\\\\\\\\\\\\\": 2, \\\\\\\\\\\\\"details\\\\\\\\\\\\\": {\\\\\\\\\\\\\"selectedColumn\\\\\\\\\\\\\": \\\\\\\\\\\\\"ejection_fraction\\\\\\\\\\\\\"}}, \\\\\\\\\\\\\"typeProperty\\\\\\\\\\\\\": 2}, {\\\\\\\\\\\\\"column\\\\\\\\\\\\\": {\\\\\\\\\\\\\"type\\\\\\\\\\\\\": 2, \\\\\\\\\\\\\"details\\\\\\\\\\\\\": {\\\\\\\\\\\\\"selectedColumn\\\\\\\\\\\\\": \\\\\\\\\\\\\"high_blood_pressure\\\\\\\\\\\\\"}}, \\\\\\\\\\\\\"typeProperty\\\\\\\\\\\\\": 2}, {\\\\\\\\\\\\\"column\\\\\\\\\\\\\": {\\\\\\\\\\\\\"type\\\\\\\\\\\\\": 2, \\\\\\\\\\\\\"details\\\\\\\\\\\\\": {\\\\\\\\\\\\\"selectedColumn\\\\\\\\\\\\\": \\\\\\\\\\\\\"platelets\\\\\\\\\\\\\"}}, \\\\\\\\\\\\\"typeProperty\\\\\\\\\\\\\": 3}, {\\\\\\\\\\\\\"column\\\\\\\\\\\\\": {\\\\\\\\\\\\\"type\\\\\\\\\\\\\": 2, \\\\\\\\\\\\\"details\\\\\\\\\\\\\": {\\\\\\\\\\\\\"selectedColumn\\\\\\\\\\\\\": \\\\\\\\\\\\\"serum_creatinine\\\\\\\\\\\\\"}}, \\\\\\\\\\\\\"typeProperty\\\\\\\\\\\\\": 3}, {\\\\\\\\\\\\\"column\\\\\\\\\\\\\": {\\\\\\\\\\\\\"type\\\\\\\\\\\\\": 2, \\\\\\\\\\\\\"details\\\\\\\\\\\\\": {\\\\\\\\\\\\\"selectedColumn\\\\\\\\\\\\\": \\\\\\\\\\\\\"serum_sodium\\\\\\\\\\\\\"}}, \\\\\\\\\\\\\"typeProperty\\\\\\\\\\\\\": 2}, {\\\\\\\\\\\\\"column\\\\\\\\\\\\\": {\\\\\\\\\\\\\"type\\\\\\\\\\\\\": 2, \\\\\\\\\\\\\"details\\\\\\\\\\\\\": {\\\\\\\\\\\\\"selectedColumn\\\\\\\\\\\\\": \\\\\\\\\\\\\"sex\\\\\\\\\\\\\"}}, \\\\\\\\\\\\\"typeProperty\\\\\\\\\\\\\": 2}, {\\\\\\\\\\\\\"column\\\\\\\\\\\\\": {\\\\\\\\\\\\\"type\\\\\\\\\\\\\": 2, \\\\\\\\\\\\\"details\\\\\\\\\\\\\": {\\\\\\\\\\\\\"selectedColumn\\\\\\\\\\\\\": \\\\\\\\\\\\\"smoking\\\\\\\\\\\\\"}}, \\\\\\\\\\\\\"typeProperty\\\\\\\\\\\\\": 2}, {\\\\\\\\\\\\\"column\\\\\\\\\\\\\": {\\\\\\\\\\\\\"type\\\\\\\\\\\\\": 2, \\\\\\\\\\\\\"details\\\\\\\\\\\\\": {\\\\\\\\\\\\\"selectedColumn\\\\\\\\\\\\\": \\\\\\\\\\\\\"time\\\\\\\\\\\\\"}}, \\\\\\\\\\\\\"typeProperty\\\\\\\\\\\\\": 2}, {\\\\\\\\\\\\\"column\\\\\\\\\\\\\": {\\\\\\\\\\\\\"type\\\\\\\\\\\\\": 2, \\\\\\\\\\\\\"details\\\\\\\\\\\\\": {\\\\\\\\\\\\\"selectedColumn\\\\\\\\\\\\\": \\\\\\\\\\\\\"DEATH_EVENT\\\\\\\\\\\\\"}}, \\\\\\\\\\\\\"typeProperty\\\\\\\\\\\\\": 2}]}, \\\\\\\\\\\\\"localData\\\\\\\\\\\\\": {}, \\\\\\\\\\\\\"isEnabled\\\\\\\\\\\\\": true, \\\\\\\\\\\\\"name\\\\\\\\\\\\\": null, \\\\\\\\\\\\\"annotation\\\\\\\\\\\\\": null}], \\\\\\\\\\\\\"inspectors\\\\\\\\\\\\\": [], \\\\\\\\\\\\\"meta\\\\\\\\\\\\\": {\\\\\\\\\\\\\"savedDatasetId\\\\\\\\\\\\\": \\\\\\\\\\\\\"d1b22c9d-793a-4bfc-9e48-650a7f448579\\\\\\\\\\\\\", \\\\\\\\\\\\\"datasetType\\\\\\\\\\\\\": \\\\\\\\\\\\\"tabular\\\\\\\\\\\\\", \\\\\\\\\\\\\"subscriptionId\\\\\\\\\\\\\": \\\\\\\\\\\\\"a24a24d5-8d87-4c8a-99b6-91ed2d2df51f\\\\\\\\\\\\\", \\\\\\\\\\\\\"workspaceId\\\\\\\\\\\\\": \\\\\\\\\\\\\"2024d875-8133-4808-88b6-3462c8428a45\\\\\\\\\\\\\", \\\\\\\\\\\\\"workspaceLocation\\\\\\\\\\\\\": \\\\\\\\\\\\\"southcentralus\\\\\\\\\\\\\"}}\\\\\", \\\\\"activities\\\\\": 0}',\n",
       "  'EnableSubsampling': 'False',\n",
       "  'runTemplate': 'AutoML',\n",
       "  'azureml.runsource': 'automl',\n",
       "  'display_task_type': 'classification',\n",
       "  'dependencies_versions': '{\"azureml-widgets\": \"1.20.0\", \"azureml-train\": \"1.20.0\", \"azureml-train-restclients-hyperdrive\": \"1.20.0\", \"azureml-train-core\": \"1.20.0\", \"azureml-train-automl\": \"1.20.0\", \"azureml-train-automl-runtime\": \"1.20.0\", \"azureml-train-automl-client\": \"1.20.0\", \"azureml-tensorboard\": \"1.20.0\", \"azureml-telemetry\": \"1.20.0\", \"azureml-sdk\": \"1.20.0\", \"azureml-samples\": \"0+unknown\", \"azureml-pipeline\": \"1.20.0\", \"azureml-pipeline-steps\": \"1.20.0\", \"azureml-pipeline-core\": \"1.20.0\", \"azureml-opendatasets\": \"1.20.0\", \"azureml-model-management-sdk\": \"1.0.1b6.post1\", \"azureml-mlflow\": \"1.20.0.post1\", \"azureml-interpret\": \"1.20.0\", \"azureml-explain-model\": \"1.20.0\", \"azureml-defaults\": \"1.20.0\", \"azureml-dataset-runtime\": \"1.20.0\", \"azureml-dataprep\": \"2.7.3\", \"azureml-dataprep-rslex\": \"1.5.0\", \"azureml-dataprep-native\": \"27.0.0\", \"azureml-datadrift\": \"1.20.0\", \"azureml-core\": \"1.20.0\", \"azureml-contrib-services\": \"1.20.0\", \"azureml-contrib-server\": \"1.20.0\", \"azureml-contrib-reinforcementlearning\": \"1.20.0\", \"azureml-contrib-pipeline-steps\": \"1.20.0\", \"azureml-contrib-notebook\": \"1.20.0\", \"azureml-contrib-interpret\": \"1.20.0\", \"azureml-contrib-gbdt\": \"1.20.0\", \"azureml-contrib-fairness\": \"1.20.0\", \"azureml-contrib-dataset\": \"1.20.0\", \"azureml-cli-common\": \"1.20.0\", \"azureml-automl-runtime\": \"1.20.0\", \"azureml-automl-core\": \"1.20.0\", \"azureml-accel-models\": \"1.20.0\"}',\n",
       "  '_aml_system_scenario_identification': 'Local.Parent',\n",
       "  'ClientSdkVersion': '1.20.0',\n",
       "  'ClientType': 'SDK',\n",
       "  'environment_cpu_name': 'AzureML-AutoML',\n",
       "  'environment_cpu_label': 'prod',\n",
       "  'environment_gpu_name': 'AzureML-AutoML-GPU',\n",
       "  'environment_gpu_label': 'prod',\n",
       "  'root_attribution': 'automl',\n",
       "  'attribution': 'AutoML',\n",
       "  'Orchestrator': 'AutoML',\n",
       "  '_azureml.ComputeTargetType': 'local',\n",
       "  'ProblemInfoJsonString': '{\"dataset_num_categorical\": 0, \"is_sparse\": false, \"subsampling\": false, \"dataset_classes\": 2, \"dataset_features\": 12, \"dataset_samples\": 299, \"single_frequency_class_detected\": false}',\n",
       "  'feature_skus': 'automatedml_sdk_guardrails'},\n",
       " 'inputDatasets': [{'dataset': {'id': 'd1b22c9d-793a-4bfc-9e48-650a7f448579'}, 'consumptionDetails': {'type': 'RunInput', 'inputName': 'training_data', 'mechanism': 'Direct'}}],\n",
       " 'outputDatasets': [],\n",
       " 'logFiles': {},\n",
       " 'submittedBy': 'ODL_User 136576'}"
      ]
     },
     "execution_count": 5,
     "metadata": {},
     "output_type": "execute_result"
    }
   ],
   "source": [
    "# TODO: Submit your experiment\n",
    "remote_run = experiment.submit(automl_config)\n",
    "RunDetails(remote_run).show()\n",
    "remote_run.wait_for_completion(show_output=False)"
   ]
  },
  {
   "cell_type": "markdown",
   "metadata": {},
   "source": [
    "## Best Model\n",
    "\n",
    "TODO: In the cell below, get the best model from the automl experiments and display all the properties of the model.\n",
    "\n"
   ]
  },
  {
   "cell_type": "code",
   "execution_count": 6,
   "metadata": {
    "gather": {
     "logged": 1610799071292
    },
    "jupyter": {
     "outputs_hidden": false,
     "source_hidden": false
    },
    "nteract": {
     "transient": {
      "deleting": false
     }
    }
   },
   "outputs": [
    {
     "name": "stdout",
     "output_type": "stream",
     "text": [
      "PreFittedSoftVotingClassifier(classification_labels=None,\n",
      "                              estimators=[('24',\n",
      "                                           Pipeline(memory=None,\n",
      "                                                    steps=[('robustscaler',\n",
      "                                                            RobustScaler(copy=True,\n",
      "                                                                         quantile_range=[25,\n",
      "                                                                                         75],\n",
      "                                                                         with_centering=True,\n",
      "                                                                         with_scaling=False)),\n",
      "                                                           ('extratreesclassifier',\n",
      "                                                            ExtraTreesClassifier(bootstrap=False,\n",
      "                                                                                 ccp_alpha=0.0,\n",
      "                                                                                 class_weight=None,\n",
      "                                                                                 criterion='entropy',\n",
      "                                                                                 max_depth=None,\n",
      "                                                                                 max_features=0.8...\n",
      "                                                                                   min_impurity_split=None,\n",
      "                                                                                   min_samples_leaf=0.035789473684210524,\n",
      "                                                                                   min_samples_split=0.10368421052631578,\n",
      "                                                                                   min_weight_fraction_leaf=0.0,\n",
      "                                                                                   n_estimators=25,\n",
      "                                                                                   n_jobs=-1,\n",
      "                                                                                   oob_score=True,\n",
      "                                                                                   random_state=None,\n",
      "                                                                                   verbose=0,\n",
      "                                                                                   warm_start=False))],\n",
      "                                                    verbose=False))],\n",
      "                              flatten_transform=None,\n",
      "                              weights=[0.16666666666666666, 0.16666666666666666,\n",
      "                                       0.3333333333333333, 0.16666666666666666,\n",
      "                                       0.16666666666666666])\n"
     ]
    }
   ],
   "source": [
    "# Retrieve and save your best automl model.\n",
    "best_automl_run, best_model = remote_run.get_output()\n",
    "print(best_model._final_estimator)"
   ]
  },
  {
   "cell_type": "code",
   "execution_count": 11,
   "metadata": {},
   "outputs": [
    {
     "name": "stdout",
     "output_type": "stream",
     "text": [
      "datatransformer\n",
      "{'enable_dnn': None,\n",
      " 'enable_feature_sweeping': None,\n",
      " 'feature_sweeping_config': None,\n",
      " 'feature_sweeping_timeout': None,\n",
      " 'featurization_config': None,\n",
      " 'force_text_dnn': None,\n",
      " 'is_cross_validation': None,\n",
      " 'is_onnx_compatible': None,\n",
      " 'logger': None,\n",
      " 'observer': None,\n",
      " 'task': None,\n",
      " 'working_dir': None}\n",
      "\n",
      "prefittedsoftvotingclassifier\n",
      "{'estimators': ['24', '8', '9', '3', '19'],\n",
      " 'weights': [0.16666666666666666,\n",
      "             0.16666666666666666,\n",
      "             0.3333333333333333,\n",
      "             0.16666666666666666,\n",
      "             0.16666666666666666]}\n",
      "\n",
      "24 - robustscaler\n",
      "{'copy': True,\n",
      " 'quantile_range': [25, 75],\n",
      " 'with_centering': True,\n",
      " 'with_scaling': False}\n",
      "\n",
      "24 - extratreesclassifier\n",
      "{'bootstrap': False,\n",
      " 'ccp_alpha': 0.0,\n",
      " 'class_weight': None,\n",
      " 'criterion': 'entropy',\n",
      " 'max_depth': None,\n",
      " 'max_features': 0.8,\n",
      " 'max_leaf_nodes': None,\n",
      " 'max_samples': None,\n",
      " 'min_impurity_decrease': 0.0,\n",
      " 'min_impurity_split': None,\n",
      " 'min_samples_leaf': 0.01,\n",
      " 'min_samples_split': 0.2442105263157895,\n",
      " 'min_weight_fraction_leaf': 0.0,\n",
      " 'n_estimators': 100,\n",
      " 'n_jobs': -1,\n",
      " 'oob_score': False,\n",
      " 'random_state': None,\n",
      " 'verbose': 0,\n",
      " 'warm_start': False}\n",
      "\n",
      "8 - sparsenormalizer\n",
      "{'copy': True, 'norm': 'max'}\n",
      "\n",
      "8 - xgboostclassifier\n",
      "{'base_score': 0.5,\n",
      " 'booster': 'gbtree',\n",
      " 'colsample_bylevel': 1,\n",
      " 'colsample_bynode': 1,\n",
      " 'colsample_bytree': 0.9,\n",
      " 'eta': 0.3,\n",
      " 'gamma': 0,\n",
      " 'learning_rate': 0.1,\n",
      " 'max_delta_step': 0,\n",
      " 'max_depth': 10,\n",
      " 'max_leaves': 15,\n",
      " 'min_child_weight': 1,\n",
      " 'missing': nan,\n",
      " 'n_estimators': 25,\n",
      " 'n_jobs': -1,\n",
      " 'nthread': None,\n",
      " 'objective': 'reg:logistic',\n",
      " 'random_state': 0,\n",
      " 'reg_alpha': 0,\n",
      " 'reg_lambda': 0.5208333333333334,\n",
      " 'scale_pos_weight': 1,\n",
      " 'seed': None,\n",
      " 'silent': None,\n",
      " 'subsample': 0.6,\n",
      " 'tree_method': 'auto',\n",
      " 'verbose': -10,\n",
      " 'verbosity': 0}\n",
      "\n",
      "9 - robustscaler\n",
      "{'copy': True,\n",
      " 'quantile_range': [25, 75],\n",
      " 'with_centering': True,\n",
      " 'with_scaling': False}\n",
      "\n",
      "9 - extratreesclassifier\n",
      "{'bootstrap': True,\n",
      " 'ccp_alpha': 0.0,\n",
      " 'class_weight': None,\n",
      " 'criterion': 'gini',\n",
      " 'max_depth': None,\n",
      " 'max_features': None,\n",
      " 'max_leaf_nodes': None,\n",
      " 'max_samples': None,\n",
      " 'min_impurity_decrease': 0.0,\n",
      " 'min_impurity_split': None,\n",
      " 'min_samples_leaf': 0.035789473684210524,\n",
      " 'min_samples_split': 0.15052631578947367,\n",
      " 'min_weight_fraction_leaf': 0.0,\n",
      " 'n_estimators': 50,\n",
      " 'n_jobs': -1,\n",
      " 'oob_score': False,\n",
      " 'random_state': None,\n",
      " 'verbose': 0,\n",
      " 'warm_start': False}\n",
      "\n",
      "3 - minmaxscaler\n",
      "{'copy': True, 'feature_range': (0, 1)}\n",
      "\n",
      "3 - randomforestclassifier\n",
      "{'bootstrap': True,\n",
      " 'ccp_alpha': 0.0,\n",
      " 'class_weight': None,\n",
      " 'criterion': 'gini',\n",
      " 'max_depth': None,\n",
      " 'max_features': 'sqrt',\n",
      " 'max_leaf_nodes': None,\n",
      " 'max_samples': None,\n",
      " 'min_impurity_decrease': 0.0,\n",
      " 'min_impurity_split': None,\n",
      " 'min_samples_leaf': 0.035789473684210524,\n",
      " 'min_samples_split': 0.01,\n",
      " 'min_weight_fraction_leaf': 0.0,\n",
      " 'n_estimators': 10,\n",
      " 'n_jobs': -1,\n",
      " 'oob_score': True,\n",
      " 'random_state': None,\n",
      " 'verbose': 0,\n",
      " 'warm_start': False}\n",
      "\n",
      "19 - robustscaler\n",
      "{'copy': True,\n",
      " 'quantile_range': [10, 90],\n",
      " 'with_centering': True,\n",
      " 'with_scaling': False}\n",
      "\n",
      "19 - randomforestclassifier\n",
      "{'bootstrap': True,\n",
      " 'ccp_alpha': 0.0,\n",
      " 'class_weight': None,\n",
      " 'criterion': 'gini',\n",
      " 'max_depth': None,\n",
      " 'max_features': 0.4,\n",
      " 'max_leaf_nodes': None,\n",
      " 'max_samples': None,\n",
      " 'min_impurity_decrease': 0.0,\n",
      " 'min_impurity_split': None,\n",
      " 'min_samples_leaf': 0.035789473684210524,\n",
      " 'min_samples_split': 0.10368421052631578,\n",
      " 'min_weight_fraction_leaf': 0.0,\n",
      " 'n_estimators': 25,\n",
      " 'n_jobs': -1,\n",
      " 'oob_score': True,\n",
      " 'random_state': None,\n",
      " 'verbose': 0,\n",
      " 'warm_start': False}\n",
      "\n"
     ]
    }
   ],
   "source": [
    "# Print detailed parameters of the fitted model\n",
    "def print_model(model, prefix=\"\"):\n",
    "    for step in model.steps:\n",
    "        print(prefix + step[0])\n",
    "        if hasattr(step[1], 'estimators') and hasattr(step[1], 'weights'):\n",
    "            pprint({'estimators': list(\n",
    "                e[0] for e in step[1].estimators), 'weights': step[1].weights})\n",
    "            print()\n",
    "            for estimator in step[1].estimators:\n",
    "                print_model(estimator[1], estimator[0] + ' - ')\n",
    "        else:\n",
    "            pprint(step[1].get_params())\n",
    "            print()\n",
    "\n",
    "print_model(best_model)"
   ]
  },
  {
   "cell_type": "markdown",
   "metadata": {},
   "source": [
    "## Model Deployment\n",
    "\n",
    "Remember you have to deploy only one of the two models you trained.. Perform the steps in the rest of this notebook only if you wish to deploy this model.\n",
    "\n",
    "TODO: In the cell below, register the model, create an inference config and deploy the model as a web service."
   ]
  },
  {
   "cell_type": "code",
   "execution_count": 68,
   "metadata": {
    "gather": {
     "logged": 1610801256588
    },
    "jupyter": {
     "outputs_hidden": false,
     "source_hidden": false
    },
    "nteract": {
     "transient": {
      "deleting": false
     }
    }
   },
   "outputs": [
    {
     "name": "stdout",
     "output_type": "stream",
     "text": [
      "Model(workspace=Workspace.create(name='quick-starts-ws-136576', subscription_id='a24a24d5-8d87-4c8a-99b6-91ed2d2df51f', resource_group='aml-quickstarts-136576'), name=capstone_automl, id=capstone_automl:1, version=1, tags={}, properties={})\n"
     ]
    }
   ],
   "source": [
    "#TODO: Save the best model\n",
    "model = best_automl_run.register_model(model_path='outputs/model.pkl', model_name='capstone_automl')\n",
    "\n",
    "print(model)"
   ]
  },
  {
   "cell_type": "code",
   "execution_count": 69,
   "metadata": {},
   "outputs": [],
   "source": [
    "best_automl_run.download_file('outputs/scoring_file_v_1_0_0.py', 'score.py')\n",
    "best_automl_run.download_file('outputs/conda_env_v_1_0_0.yml', 'environment.yml')"
   ]
  },
  {
   "cell_type": "code",
   "execution_count": 72,
   "metadata": {
    "gather": {
     "logged": 1610802314941
    },
    "jupyter": {
     "outputs_hidden": false,
     "source_hidden": false
    },
    "nteract": {
     "transient": {
      "deleting": false
     }
    }
   },
   "outputs": [
    {
     "name": "stdout",
     "output_type": "stream",
     "text": [
      "Tips: You can try get_logs(): https://aka.ms/debugimage#dockerlog or local deployment: https://aka.ms/debugimage#debug-locally to debug if deployment takes longer than 10 minutes.\n",
      "Running........................................\n",
      "Succeeded\n",
      "ACI service creation operation finished, operation \"Succeeded\"\n",
      "Healthy\n",
      "http://faea935f-66cc-4347-b6d8-74356504c30a.southcentralus.azurecontainer.io/score\n",
      "http://faea935f-66cc-4347-b6d8-74356504c30a.southcentralus.azurecontainer.io/swagger.json\n"
     ]
    }
   ],
   "source": [
    "from azureml.core.environment import Environment\n",
    "from azureml.core.model import InferenceConfig\n",
    "\n",
    "environment = Environment.from_conda_specification('my-automl-environment', './outputs/conda_env_v_1_0_0.yml')\n",
    "inference_config = InferenceConfig(entry_script='score.py',\n",
    "                                   environment=environment)\n",
    "\n",
    "# deploy\n",
    "from azureml.core.webservice import AciWebservice\n",
    "\n",
    "deployment_config = AciWebservice.deploy_configuration(cpu_cores = 1, memory_gb = 1)\n",
    "service = model.deploy(ws, \"automl-service\", [model], inference_config, deployment_config)\n",
    "service.wait_for_deployment(show_output = True)\n",
    "print(service.state)\n",
    "\n",
    "print(service.scoring_uri)\n",
    "print(service.swagger_uri)"
   ]
  },
  {
   "cell_type": "code",
   "execution_count": 82,
   "metadata": {
    "gather": {
     "logged": 1610802927303
    },
    "jupyter": {
     "outputs_hidden": false,
     "source_hidden": false
    },
    "nteract": {
     "transient": {
      "deleting": false
     }
    }
   },
   "outputs": [],
   "source": [
    "# service.update(enable_app_insights=True)"
   ]
  },
  {
   "cell_type": "markdown",
   "metadata": {
    "collapsed": true,
    "gather": {
     "logged": 1598431657736
    },
    "jupyter": {
     "outputs_hidden": false,
     "source_hidden": false
    },
    "nteract": {
     "transient": {
      "deleting": false
     }
    }
   },
   "source": [
    "TODO: In the cell below, send a request to the web service you deployed to test it."
   ]
  },
  {
   "cell_type": "code",
   "execution_count": 76,
   "metadata": {
    "gather": {
     "logged": 1610802937408
    },
    "jupyter": {
     "outputs_hidden": false,
     "source_hidden": false
    },
    "nteract": {
     "transient": {
      "deleting": false
     }
    }
   },
   "outputs": [
    {
     "name": "stdout",
     "output_type": "stream",
     "text": [
      "{\"data\": [{\"age\": 70.0, \"anaemia\": 0, \"creatinine_phosphokinase\": 69, \"diabetes\": 0, \"ejection_fraction\": 40, \"high_blood_pressure\": 0, \"platelets\": 293000.0, \"serum_creatinine\": 1.7, \"serum_sodium\": 136, \"sex\": 0, \"smoking\": 0, \"time\": 75}, {\"age\": 60.0, \"anaemia\": 0, \"creatinine_phosphokinase\": 2261, \"diabetes\": 0, \"ejection_fraction\": 35, \"high_blood_pressure\": 1, \"platelets\": 228000.0, \"serum_creatinine\": 0.9, \"serum_sodium\": 136, \"sex\": 1, \"smoking\": 0, \"time\": 115}, {\"age\": 45.0, \"anaemia\": 0, \"creatinine_phosphokinase\": 2413, \"diabetes\": 0, \"ejection_fraction\": 38, \"high_blood_pressure\": 0, \"platelets\": 140000.0, \"serum_creatinine\": 1.4, \"serum_sodium\": 140, \"sex\": 1, \"smoking\": 1, \"time\": 280}]}\n"
     ]
    }
   ],
   "source": [
    "import json\n",
    "\n",
    "#Import test data\n",
    "\n",
    "test_df = heart_failure.sample(3) # data is the pandas dataframe of the original data\n",
    "label_df = test_df.pop('DEATH_EVENT')\n",
    "\n",
    "test_sample = json.dumps({'data': test_df.to_dict(orient='records')})\n",
    "\n",
    "print(test_sample)"
   ]
  },
  {
   "cell_type": "code",
   "execution_count": 77,
   "metadata": {
    "gather": {
     "logged": 1610802943115
    },
    "jupyter": {
     "outputs_hidden": false,
     "source_hidden": false
    },
    "nteract": {
     "transient": {
      "deleting": false
     }
    }
   },
   "outputs": [
    {
     "name": "stdout",
     "output_type": "stream",
     "text": [
      "\"{\\\"result\\\": [0, 0, 0]}\"\n"
     ]
    }
   ],
   "source": [
    "import requests\n",
    "\n",
    "# Set the content type\n",
    "headers = {'Content-type': 'application/json'}\n",
    "\n",
    "response = requests.post(service.scoring_uri, test_sample, headers=headers)\n",
    "print(response.text)"
   ]
  },
  {
   "cell_type": "markdown",
   "metadata": {
    "collapsed": true,
    "gather": {
     "logged": 1598432765711
    },
    "jupyter": {
     "outputs_hidden": false,
     "source_hidden": false
    },
    "nteract": {
     "transient": {
      "deleting": false
     }
    }
   },
   "source": [
    "TODO: In the cell below, print the logs of the web service and delete the service"
   ]
  },
  {
   "cell_type": "code",
   "execution_count": 78,
   "metadata": {
    "gather": {
     "logged": 1610802955569
    },
    "jupyter": {
     "outputs_hidden": false,
     "source_hidden": false
    },
    "nteract": {
     "transient": {
      "deleting": false
     }
    }
   },
   "outputs": [
    {
     "name": "stdout",
     "output_type": "stream",
     "text": [
      "2021-01-30T13:21:55,916431300+00:00 - iot-server/run \n",
      "2021-01-30T13:21:55,921541100+00:00 - gunicorn/run \n",
      "2021-01-30T13:21:55,924788600+00:00 - nginx/run \n",
      "/usr/sbin/nginx: /azureml-envs/azureml_fc7e1840225416a471556263041ca33e/lib/libcrypto.so.1.0.0: no version information available (required by /usr/sbin/nginx)\n",
      "/usr/sbin/nginx: /azureml-envs/azureml_fc7e1840225416a471556263041ca33e/lib/libcrypto.so.1.0.0: no version information available (required by /usr/sbin/nginx)\n",
      "/usr/sbin/nginx: /azureml-envs/azureml_fc7e1840225416a471556263041ca33e/lib/libssl.so.1.0.0: no version information available (required by /usr/sbin/nginx)\n",
      "/usr/sbin/nginx: /azureml-envs/azureml_fc7e1840225416a471556263041ca33e/lib/libssl.so.1.0.0: no version information available (required by /usr/sbin/nginx)\n",
      "/usr/sbin/nginx: /azureml-envs/azureml_fc7e1840225416a471556263041ca33e/lib/libssl.so.1.0.0: no version information available (required by /usr/sbin/nginx)\n",
      "2021-01-30T13:21:55,939613500+00:00 - rsyslog/run \n",
      "rsyslogd: /azureml-envs/azureml_fc7e1840225416a471556263041ca33e/lib/libuuid.so.1: no version information available (required by rsyslogd)\n",
      "EdgeHubConnectionString and IOTEDGE_IOTHUBHOSTNAME are not set. Exiting...\n",
      "2021-01-30T13:21:57,210981200+00:00 - iot-server/finish 1 0\n",
      "2021-01-30T13:21:57,213421100+00:00 - Exit code 1 is normal. Not restarting iot-server.\n",
      "Starting gunicorn 19.9.0\n",
      "Listening at: http://127.0.0.1:31311 (67)\n",
      "Using worker: sync\n",
      "worker timeout is set to 300\n",
      "Booting worker with pid: 96\n",
      "SPARK_HOME not set. Skipping PySpark Initialization.\n",
      "Generating new fontManager, this may take some time...\n",
      "Initializing logger\n",
      "2021-01-30 13:22:02,556 | root | INFO | Starting up app insights client\n",
      "2021-01-30 13:22:02,556 | root | INFO | Starting up request id generator\n",
      "2021-01-30 13:22:02,557 | root | INFO | Starting up app insight hooks\n",
      "2021-01-30 13:22:02,557 | root | INFO | Invoking user's init function\n",
      "2021-01-30 13:22:11,791 | azureml.core | WARNING | Failure while loading azureml_run_type_providers. Failed to load entrypoint automl = azureml.train.automl.run:AutoMLRun._from_run_dto with exception cannot import name 'RunType'.\n",
      "Failure while loading azureml_run_type_providers. Failed to load entrypoint automl = azureml.train.automl.run:AutoMLRun._from_run_dto with exception cannot import name 'RunType'.\n",
      "2021-01-30 13:22:11,948 | root | INFO | Users's init has completed successfully\n",
      "2021-01-30 13:22:11,972 | root | INFO | Skipping middleware: dbg_model_info as it's not enabled.\n",
      "2021-01-30 13:22:11,972 | root | INFO | Skipping middleware: dbg_resource_usage as it's not enabled.\n",
      "2021-01-30 13:22:11,974 | root | INFO | Scoring timeout is found from os.environ: 60000 ms\n",
      "2021-01-30 13:22:12,030 | root | INFO | 200\n",
      "127.0.0.1 - - [30/Jan/2021:13:22:12 +0000] \"GET /swagger.json HTTP/1.0\" 200 2840 \"-\" \"Go-http-client/1.1\"\n",
      "2021-01-30 13:22:17,680 | root | INFO | 200\n",
      "127.0.0.1 - - [30/Jan/2021:13:22:17 +0000] \"GET /swagger.json HTTP/1.0\" 200 2840 \"-\" \"Go-http-client/1.1\"\n",
      "2021-01-30 13:22:44,514 | root | INFO | 200\n",
      "127.0.0.1 - - [30/Jan/2021:13:22:44 +0000] \"GET /swagger.json HTTP/1.0\" 200 2840 \"-\" \"Go-http-client/1.1\"\n",
      "2021-01-30 13:23:28,422 | root | INFO | Validation Request Content-Type\n",
      "2021-01-30 13:23:28,423 | root | INFO | Scoring Timer is set to 60.0 seconds\n",
      "2021-01-30 13:23:28,973 | root | INFO | 200\n",
      "127.0.0.1 - - [30/Jan/2021:13:23:28 +0000] \"POST /score HTTP/1.0\" 200 19 \"-\" \"python-requests/2.25.1\"\n",
      "2021-01-30 13:23:54,516 | root | INFO | Validation Request Content-Type\n",
      "2021-01-30 13:23:54,517 | root | INFO | Scoring Timer is set to 60.0 seconds\n",
      "2021-01-30 13:23:55,035 | root | INFO | 200\n",
      "127.0.0.1 - - [30/Jan/2021:13:23:55 +0000] \"POST /score HTTP/1.0\" 200 25 \"-\" \"python-requests/2.25.1\"\n",
      "\n"
     ]
    }
   ],
   "source": [
    "logs = service.get_logs()\n",
    "print(logs)\n"
   ]
  },
  {
   "cell_type": "code",
   "execution_count": 21,
   "metadata": {},
   "outputs": [],
   "source": [
    "service.delete()"
   ]
  },
  {
   "cell_type": "code",
   "execution_count": null,
   "metadata": {},
   "outputs": [],
   "source": []
  }
 ],
 "metadata": {
  "kernel_info": {
   "name": "python3-azureml"
  },
  "kernelspec": {
   "display_name": "Python 3.6 - AzureML",
   "language": "python",
   "name": "python3-azureml"
  },
  "language_info": {
   "codemirror_mode": {
    "name": "ipython",
    "version": 3
   },
   "file_extension": ".py",
   "mimetype": "text/x-python",
   "name": "python",
   "nbconvert_exporter": "python",
   "pygments_lexer": "ipython3",
   "version": "3.6.9"
  },
  "nteract": {
   "version": "nteract-front-end@1.0.0"
  }
 },
 "nbformat": 4,
 "nbformat_minor": 2
}
